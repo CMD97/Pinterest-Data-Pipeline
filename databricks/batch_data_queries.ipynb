{
 "cells": [
  {
   "cell_type": "markdown",
   "metadata": {},
   "source": [
    "# Batch Data Queries\n",
    "\n",
    "**These queries were all ran inside of a Databricks Notebook, referencing the clean data from the three DataFrames: `df_geo`, `df_pin`, `df_user`**"
   ]
  },
  {
   "cell_type": "markdown",
   "metadata": {
    "application/vnd.databricks.v1+cell": {
     "cellMetadata": {},
     "inputWidgets": {},
     "nuid": "f8ad651d-3daf-4dc0-9ff3-9a5f0f926c51",
     "showTitle": false,
     "title": ""
    }
   },
   "source": [
    "#### 1. Finding the most popular Pinterest Category that people post to based on their country"
   ]
  },
  {
   "cell_type": "code",
   "execution_count": null,
   "metadata": {
    "application/vnd.databricks.v1+cell": {
     "cellMetadata": {},
     "inputWidgets": {},
     "nuid": "62937341-be23-48d3-8d3b-563950945448",
     "showTitle": false,
     "title": ""
    }
   },
   "outputs": [],
   "source": [
    "from pyspark.sql.functions import *"
   ]
  },
  {
   "cell_type": "code",
   "execution_count": null,
   "metadata": {
    "application/vnd.databricks.v1+cell": {
     "cellMetadata": {
      "byteLimit": 2048000,
      "rowLimit": 10000
     },
     "inputWidgets": {},
     "nuid": "135815ad-8550-46b6-b7be-570b883c208c",
     "showTitle": false,
     "title": ""
    }
   },
   "outputs": [
    {
     "data": {
      "text/html": [
       "<style scoped>\n",
       "  .table-result-container {\n",
       "    max-height: 300px;\n",
       "    overflow: auto;\n",
       "  }\n",
       "  table, th, td {\n",
       "    border: 1px solid black;\n",
       "    border-collapse: collapse;\n",
       "  }\n",
       "  th, td {\n",
       "    padding: 5px;\n",
       "  }\n",
       "  th {\n",
       "    text-align: left;\n",
       "  }\n",
       "</style><div class='table-result-container'><table class='table-result'><thead style='background-color: white'><tr><th>country</th><th>category</th><th>category_count</th></tr></thead><tbody><tr><td>Algeria</td><td>quotes</td><td>31</td></tr><tr><td>Albania</td><td>art</td><td>30</td></tr><tr><td>Afghanistan</td><td>education</td><td>15</td></tr><tr><td>Andorra</td><td>tattoos</td><td>12</td></tr><tr><td>American Samoa</td><td>tattoos</td><td>11</td></tr></tbody></table></div>"
      ]
     },
     "metadata": {
      "application/vnd.databricks.v1+output": {
       "addedWidgets": {},
       "aggData": [],
       "aggError": "",
       "aggOverflow": false,
       "aggSchema": [],
       "aggSeriesLimitReached": false,
       "aggType": "",
       "arguments": {},
       "columnCustomDisplayInfos": {},
       "data": [
        [
         "Algeria",
         "quotes",
         31
        ],
        [
         "Albania",
         "art",
         30
        ],
        [
         "Afghanistan",
         "education",
         15
        ],
        [
         "Andorra",
         "tattoos",
         12
        ],
        [
         "American Samoa",
         "tattoos",
         11
        ]
       ],
       "datasetInfos": [],
       "dbfsResultPath": null,
       "isJsonSchema": true,
       "metadata": {},
       "overflow": false,
       "plotOptions": {
        "customPlotOptions": {},
        "displayType": "table",
        "pivotAggregation": null,
        "pivotColumns": null,
        "xColumns": null,
        "yColumns": null
       },
       "removedWidgets": [],
       "schema": [
        {
         "metadata": "{}",
         "name": "country",
         "type": "\"string\""
        },
        {
         "metadata": "{}",
         "name": "category",
         "type": "\"string\""
        },
        {
         "metadata": "{}",
         "name": "category_count",
         "type": "\"long\""
        }
       ],
       "type": "table"
      }
     },
     "output_type": "display_data"
    }
   ],
   "source": [
    "popular_category = df_pin \\\n",
    "    .join(df_geo, df_pin.ind == df_geo.ind) \\\n",
    "    .groupBy(\"country\", \"category\") \\\n",
    "    .agg(count(\"category\").alias(\"category_count\")) \\\n",
    "    .orderBy(\"category_count\", ascending=False) \\\n",
    "    .limit(5)\n",
    "\n",
    "display(popular_category)"
   ]
  },
  {
   "cell_type": "markdown",
   "metadata": {
    "application/vnd.databricks.v1+cell": {
     "cellMetadata": {},
     "inputWidgets": {},
     "nuid": "094af952-6627-4a6d-86df-78dd61d912fa",
     "showTitle": false,
     "title": ""
    }
   },
   "source": [
    "#### 2. Find which was the most popular category each year."
   ]
  },
  {
   "cell_type": "code",
   "execution_count": null,
   "metadata": {
    "application/vnd.databricks.v1+cell": {
     "cellMetadata": {
      "byteLimit": 2048000,
      "rowLimit": 10000
     },
     "inputWidgets": {},
     "nuid": "b365ae17-ec05-49ba-9975-e469b195191a",
     "showTitle": false,
     "title": ""
    }
   },
   "outputs": [
    {
     "data": {
      "text/html": [
       "<style scoped>\n",
       "  .table-result-container {\n",
       "    max-height: 300px;\n",
       "    overflow: auto;\n",
       "  }\n",
       "  table, th, td {\n",
       "    border: 1px solid black;\n",
       "    border-collapse: collapse;\n",
       "  }\n",
       "  th, td {\n",
       "    padding: 5px;\n",
       "  }\n",
       "  th {\n",
       "    text-align: left;\n",
       "  }\n",
       "</style><div class='table-result-container'><table class='table-result'><thead style='background-color: white'><tr><th>post_year</th><th>category</th><th>category_count</th></tr></thead><tbody><tr><td>2018</td><td>christmas</td><td>45</td></tr><tr><td>2019</td><td>art</td><td>37</td></tr><tr><td>2020</td><td>art</td><td>35</td></tr><tr><td>2019</td><td>christmas</td><td>32</td></tr><tr><td>2021</td><td>education</td><td>32</td></tr></tbody></table></div>"
      ]
     },
     "metadata": {
      "application/vnd.databricks.v1+output": {
       "addedWidgets": {},
       "aggData": [],
       "aggError": "",
       "aggOverflow": false,
       "aggSchema": [],
       "aggSeriesLimitReached": false,
       "aggType": "",
       "arguments": {},
       "columnCustomDisplayInfos": {},
       "data": [
        [
         2018,
         "christmas",
         45
        ],
        [
         2019,
         "art",
         37
        ],
        [
         2020,
         "art",
         35
        ],
        [
         2019,
         "christmas",
         32
        ],
        [
         2021,
         "education",
         32
        ]
       ],
       "datasetInfos": [],
       "dbfsResultPath": null,
       "isJsonSchema": true,
       "metadata": {},
       "overflow": false,
       "plotOptions": {
        "customPlotOptions": {},
        "displayType": "table",
        "pivotAggregation": null,
        "pivotColumns": null,
        "xColumns": null,
        "yColumns": null
       },
       "removedWidgets": [],
       "schema": [
        {
         "metadata": "{}",
         "name": "post_year",
         "type": "\"integer\""
        },
        {
         "metadata": "{}",
         "name": "category",
         "type": "\"string\""
        },
        {
         "metadata": "{}",
         "name": "category_count",
         "type": "\"long\""
        }
       ],
       "type": "table"
      }
     },
     "output_type": "display_data"
    }
   ],
   "source": [
    "popular_category_per_year = df_pin \\\n",
    "    .join(df_geo, df_pin.ind == df_geo.ind) \\\n",
    "    .groupBy(year(\"timestamp\").alias(\"post_year\"), \"category\") \\\n",
    "    .agg(count(\"category\").alias(\"category_count\")) \\\n",
    "    .orderBy(\"category_count\", ascending=False) \\\n",
    "    .limit(5)\n",
    "\n",
    "display(popular_category_per_year)"
   ]
  },
  {
   "cell_type": "markdown",
   "metadata": {
    "application/vnd.databricks.v1+cell": {
     "cellMetadata": {},
     "inputWidgets": {},
     "nuid": "2c50481a-2d5c-40d8-a7aa-44965e5fbf8c",
     "showTitle": false,
     "title": ""
    }
   },
   "source": [
    "#### 3. For each country, find the user with the most followers"
   ]
  },
  {
   "cell_type": "code",
   "execution_count": null,
   "metadata": {
    "application/vnd.databricks.v1+cell": {
     "cellMetadata": {
      "byteLimit": 2048000,
      "rowLimit": 10000
     },
     "inputWidgets": {},
     "nuid": "287acea9-56a6-4997-ab70-ed3f21042d4a",
     "showTitle": false,
     "title": ""
    }
   },
   "outputs": [
    {
     "data": {
      "text/html": [
       "<style scoped>\n",
       "  .table-result-container {\n",
       "    max-height: 300px;\n",
       "    overflow: auto;\n",
       "  }\n",
       "  table, th, td {\n",
       "    border: 1px solid black;\n",
       "    border-collapse: collapse;\n",
       "  }\n",
       "  th, td {\n",
       "    padding: 5px;\n",
       "  }\n",
       "  th {\n",
       "    text-align: left;\n",
       "  }\n",
       "</style><div class='table-result-container'><table class='table-result'><thead style='background-color: white'><tr><th>country</th><th>poster_name</th><th>follower_count</th></tr></thead><tbody><tr><td>Angola</td><td>Tastemade</td><td>8000000</td></tr><tr><td>American Samoa</td><td>Mamas Uncut</td><td>8000000</td></tr><tr><td>Azerbaijan</td><td>Style Me Pretty</td><td>6000000</td></tr><tr><td>Burkina Faso</td><td>Behance</td><td>6000000</td></tr><tr><td>Albania</td><td>The Minds Journal</td><td>5000000</td></tr><tr><td>Algeria</td><td>Apartment Therapy</td><td>5000000</td></tr><tr><td>Bouvet Island (Bouvetoya)</td><td>POPSUGAR</td><td>5000000</td></tr><tr><td>Comoros</td><td>Ruffled</td><td>4000000</td></tr><tr><td>Guam</td><td>imgur</td><td>4000000</td></tr><tr><td>United States Virgin Islands</td><td>Ugly Duckling House | DIY, Home, Woodworking, Crafts & Recipes</td><td>4000000</td></tr><tr><td>Bangladesh</td><td>Better Homes and Gardens</td><td>4000000</td></tr><tr><td>Uganda</td><td>Inspired by Charm</td><td>3000000</td></tr><tr><td>Afghanistan</td><td>9GAG</td><td>3000000</td></tr><tr><td>United States Minor Outlying Islands</td><td>Bloglovin'</td><td>3000000</td></tr><tr><td>Botswana</td><td>OkChicas</td><td>3000000</td></tr><tr><td>Christmas Island</td><td>Instructables</td><td>3000000</td></tr><tr><td>Australia</td><td>Mujer de 10 </td><td>2000000</td></tr><tr><td>Argentina</td><td>Cheezburger</td><td>2000000</td></tr><tr><td>Cambodia</td><td>Catch My Party</td><td>2000000</td></tr><tr><td>Costa Rica</td><td>Martha Stewart Living</td><td>2000000</td></tr><tr><td>Greenland</td><td>The Educators' Spin On It</td><td>2000000</td></tr><tr><td>Kuwait</td><td>Green Wedding Shoes</td><td>2000000</td></tr><tr><td>Anguilla</td><td>Dicas de Mulher</td><td>2000000</td></tr><tr><td>Antarctica (the territory South of 60 deg S)</td><td>Refinery29</td><td>1000000</td></tr><tr><td>Cuba</td><td>Cuded Art & Design</td><td>1000000</td></tr><tr><td>Antigua and Barbuda</td><td>Country Living Magazine</td><td>1000000</td></tr><tr><td>Cayman Islands</td><td>InStyle</td><td>1000000</td></tr><tr><td>Andorra</td><td>Teachers Pay Teachers</td><td>1000000</td></tr><tr><td>Martinique</td><td>Heart Handmade UK | Craft Room Ideas, Craft Ideas For Adults</td><td>1000000</td></tr><tr><td>Hong Kong</td><td>Remodelista</td><td>991000</td></tr><tr><td>Guatemala</td><td>Homedit.com</td><td>965000</td></tr><tr><td>Bahamas</td><td>Handmade Charlotte</td><td>948000</td></tr><tr><td>Belgium</td><td>This Old House</td><td>944000</td></tr><tr><td>Bulgaria</td><td>Half Baked Harvest</td><td>912000</td></tr><tr><td>Lesotho</td><td>The Guardian</td><td>908000</td></tr><tr><td>Mongolia</td><td>ZAFUL</td><td>893000</td></tr><tr><td>Armenia</td><td>Michelle {CraftyMorning.com}</td><td>892000</td></tr><tr><td>Iraq</td><td>House Beautiful</td><td>875000</td></tr><tr><td>Aruba</td><td>GQ Magazine</td><td>874000</td></tr><tr><td>Central African Republic</td><td>PureWow</td><td>868000</td></tr><tr><td>Cocos (Keeling) Islands</td><td>How Does She</td><td>709000</td></tr><tr><td>Ethiopia</td><td>Ideal Home</td><td>671000</td></tr><tr><td>Pitcairn Islands</td><td>Marla Meridith</td><td>671000</td></tr><tr><td>Belarus</td><td>Prudent Penny Pincher - Home Decor, Organization, Crafts, Recipes</td><td>647000</td></tr><tr><td>Korea</td><td>Latest Hairstyles</td><td>627000</td></tr><tr><td>Burundi</td><td>Macho Moda</td><td>620000</td></tr><tr><td>Gabon</td><td>Dr. Josh Axe</td><td>593000</td></tr><tr><td>Cote d'Ivoire</td><td>Mom Junction</td><td>565000</td></tr><tr><td>Palestinian Territory</td><td>Onedio.com</td><td>561000</td></tr><tr><td>Liberia</td><td>Happy Hooligans - Crafts and Activities for Kids</td><td>550000</td></tr><tr><td>Iran</td><td>WeddingWire</td><td>520000</td></tr><tr><td>Heard Island and McDonald Islands</td><td>Real Men Real Style</td><td>487000</td></tr><tr><td>Pakistan</td><td>Buyer Select</td><td>441000</td></tr><tr><td>Benin</td><td>Decoist.com</td><td>432000</td></tr><tr><td>Chile</td><td>TODAY Show</td><td>426000</td></tr><tr><td>Maldives</td><td>Parents</td><td>416000</td></tr><tr><td>Congo</td><td>Virginia | Fynes Designs : Home Decor, Easy DIY’s, Lifestyle</td><td>410000</td></tr><tr><td>Barbados</td><td>The Creativity Exchange</td><td>410000</td></tr><tr><td>Norway</td><td>epicurious</td><td>409000</td></tr><tr><td>Czech Republic</td><td>Tatertots and Jello .com</td><td>398000</td></tr><tr><td>Greece</td><td>Thirty Handmade Days</td><td>397000</td></tr><tr><td>Bosnia and Herzegovina</td><td>Stylesatlife</td><td>388000</td></tr><tr><td>Tokelau</td><td>Budget Savvy Diva</td><td>384000</td></tr><tr><td>Bahrain</td><td>Rainy Day Mum</td><td>337000</td></tr><tr><td>Netherlands</td><td>Tracie Kiernan | Step By Step Painting |</td><td>308000</td></tr><tr><td>Djibouti</td><td>El Hombre</td><td>307000</td></tr><tr><td>China</td><td>Money Saving Mom</td><td>280000</td></tr><tr><td>Brunei Darussalam</td><td>Kids Craft Room</td><td>277000</td></tr><tr><td>Niue</td><td>Michelle | Brown Eyed Baker</td><td>271000</td></tr><tr><td>Belize</td><td>Easy Kids Crafts & Activities | Preschool & Kindergarten Ideas</td><td>267000</td></tr><tr><td>Canada</td><td>Giorgenti New York</td><td>258000</td></tr><tr><td>British Indian Ocean Territory (Chagos Archipelago)</td><td>Shopify</td><td>257000</td></tr><tr><td>Indonesia</td><td>Forbes</td><td>252000</td></tr><tr><td>Austria</td><td>Diply</td><td>251000</td></tr><tr><td>British Virgin Islands</td><td>Kitchen Fun With My 3 Sons</td><td>245000</td></tr><tr><td>Bolivia</td><td>Kimberly West (a girl and a glue gun)</td><td>243000</td></tr><tr><td>French Guiana</td><td>Sweet Red Poppy Free Sewing Patterns, Cut Files & Craft Tutorials</td><td>241000</td></tr><tr><td>Colombia</td><td>Pretty My Party - Party Ideas</td><td>239000</td></tr><tr><td>Ireland</td><td>Deavita.fr</td><td>239000</td></tr><tr><td>Bermuda</td><td>Vanessa Pre-K Pages</td><td>228000</td></tr><tr><td>Monaco</td><td>Artists Network</td><td>227000</td></tr><tr><td>Chad</td><td>Glued To My Crafts</td><td>226000</td></tr><tr><td>Nepal</td><td>Christie @Childhood101</td><td>222000</td></tr><tr><td>El Salvador</td><td>Power of Positivity</td><td>221000</td></tr><tr><td>Malta</td><td>Iowa Girl Eats</td><td>219000</td></tr><tr><td>Georgia</td><td>Susie Allison | Busy Toddler</td><td>203000</td></tr><tr><td>Turkmenistan</td><td>Jennifer Maker ❤️ DIY Home Decor + Craft + Paper Flowers</td><td>193000</td></tr><tr><td>Latvia</td><td>Royal Fashionist</td><td>188000</td></tr><tr><td>Finland</td><td>Buggy and Buddy</td><td>185000</td></tr><tr><td>Grenada</td><td>The Mighty</td><td>185000</td></tr><tr><td>Cape Verde</td><td>Sand and Sisal</td><td>178000</td></tr><tr><td>Egypt</td><td>Educational Technology and Mobile Learning</td><td>172000</td></tr><tr><td>Saint Kitts and Nevis</td><td>vintagetopia</td><td>171000</td></tr><tr><td>Namibia</td><td>Snappy Gourmet</td><td>168000</td></tr><tr><td>French Polynesia</td><td>EsB Journal</td><td>168000</td></tr><tr><td>India</td><td>Happiness is Homemade | Crafts, Printables, Party Ideas, & More!</td><td>167000</td></tr><tr><td>Lebanon</td><td>Your Positive Oasis | Motivation| Inspiration| Wellness</td><td>163000</td></tr><tr><td>Guinea-Bissau</td><td>Kristina Buskirk | Toddler Approved</td><td>160000</td></tr><tr><td>Libyan Arab Jamahiriya</td><td>miss coco</td><td>157000</td></tr><tr><td>Croatia</td><td>Glowsly</td><td>157000</td></tr><tr><td>Saint Helena</td><td>Book Riot</td><td>154000</td></tr><tr><td>Svalbard & Jan Mayen Islands</td><td>Merissa (Little House Living) | Simple Living + Frugal Living</td><td>152000</td></tr><tr><td>Bhutan</td><td>diana ajih</td><td>141000</td></tr><tr><td>Saudi Arabia</td><td>The Navage Patch®</td><td>136000</td></tr><tr><td>Nicaragua</td><td>Budget101.com</td><td>136000</td></tr><tr><td>Guinea</td><td>Cars Zone</td><td>134000</td></tr><tr><td>Dominica</td><td>allisa jacobs | Home Design</td><td>129000</td></tr><tr><td>San Marino</td><td>Sarah Joy Blog</td><td>125000</td></tr><tr><td>Guadeloupe</td><td>Jess Abbott | The Sewing Rabbit</td><td>123000</td></tr><tr><td>Cameroon</td><td>The Blonde Abroad</td><td>123000</td></tr><tr><td>Mali</td><td>Mobile Home Living®</td><td>122000</td></tr><tr><td>Madagascar</td><td>OTOKOMAE/男前研究所</td><td>122000</td></tr><tr><td>Western Sahara</td><td>Teach123</td><td>121000</td></tr><tr><td>French Southern Territories</td><td>Don't Waste the Crumbs</td><td>119000</td></tr><tr><td>Somalia</td><td>Balloons_worldwides</td><td>118000</td></tr><tr><td>Cyprus</td><td>Porchdotcom</td><td>117000</td></tr><tr><td>Puerto Rico</td><td>Stephanie Lynn</td><td>116000</td></tr><tr><td>France</td><td>Hello Lovely</td><td>115000</td></tr><tr><td>Honduras</td><td>Mad in Crafts</td><td>106000</td></tr><tr><td>Eritrea</td><td>Core77</td><td>105000</td></tr><tr><td>Dominican Republic</td><td>Wonder Forest</td><td>104000</td></tr><tr><td>Haiti</td><td>Fres Houz</td><td>100000</td></tr><tr><td>Venezuela</td><td>My Poppet - A Craft, Travel & Food Blog for Colourful Living</td><td>100000</td></tr><tr><td>Ecuador</td><td>Laughing Kids Learn | Play Ideas for Kids | Crafts + Activities for Teachers + Parents </td><td>99000</td></tr><tr><td>Kenya</td><td>Vem que te Conto! | Dicas de Viagem</td><td>95000</td></tr><tr><td>Gibraltar</td><td>TheSuperBOO!</td><td>89000</td></tr><tr><td>Nigeria</td><td>CanvasBag.Co</td><td>88000</td></tr><tr><td>Myanmar</td><td>Hearth and Vine</td><td>88000</td></tr><tr><td>Isle of Man</td><td>The Chalkboard Mag</td><td>87000</td></tr><tr><td>Japan</td><td>The Adult Man - Practical Men's Fashion & Lifestyle Advice</td><td>87000</td></tr><tr><td>Kyrgyz Republic</td><td>ADDitude Magazine</td><td>87000</td></tr><tr><td>Iceland</td><td>Making it in the Mountains</td><td>85000</td></tr><tr><td>Mozambique</td><td>Stylin by Aylin</td><td>83000</td></tr><tr><td>Solomon Islands</td><td>Christy from Our Southern Home</td><td>81000</td></tr><tr><td>Hungary</td><td>Weed 'em & Reap</td><td>77000</td></tr><tr><td>Kazakhstan</td><td>Christina Maria - DIY Home Improvement + Decor</td><td>75000</td></tr><tr><td>South Georgia and the South Sandwich Islands</td><td>Classic Nation</td><td>75000</td></tr><tr><td>Brazil</td><td>Doris Leslie Blau Antique & Vintage Rugs</td><td>72000</td></tr><tr><td>Tunisia</td><td>El blog amarillo</td><td>66000</td></tr><tr><td>Mayotte</td><td>Sugar, Spice & Glitter</td><td>65000</td></tr><tr><td>Sudan</td><td>Literacy and Math Ideas</td><td>63000</td></tr><tr><td>Netherlands Antilles</td><td>Sweet T Makes Three</td><td>61000</td></tr><tr><td>Gambia</td><td>The Travel Hacking Life</td><td>61000</td></tr><tr><td>Norfolk Island</td><td>The Skinny Confidential</td><td>60000</td></tr><tr><td>Denmark</td><td>Kelley Nan</td><td>59000</td></tr><tr><td>Falkland Islands (Malvinas)</td><td>Victoria Magazine</td><td>59000</td></tr><tr><td>Sweden</td><td>My Bored Toddler</td><td>58000</td></tr><tr><td>Lithuania</td><td>Play Ideas</td><td>52000</td></tr><tr><td>Swaziland</td><td>Craftables</td><td>49000</td></tr><tr><td>United States of America</td><td>Evolution of Style</td><td>47000</td></tr><tr><td>Mauritius</td><td>Cool Things- Drawing Ideas , Fashion ,Beautiy and Home Decor</td><td>46000</td></tr><tr><td>Montenegro</td><td>Leelah loves</td><td>45000</td></tr><tr><td>Nauru</td><td>The Intrepid Guide | Language Learning for Travel</td><td>45000</td></tr><tr><td>Qatar</td><td>Hudson Farmhouse</td><td>45000</td></tr><tr><td>Moldova</td><td>A Blossoming Life DIY Projects + Recipes +     Natural Living</td><td>44000</td></tr><tr><td>Fiji</td><td>Teach Create Motivate</td><td>41000</td></tr><tr><td>Turkey</td><td>Tastefully Frugal</td><td>40000</td></tr><tr><td>Israel</td><td>Fun With Mama - Kids Crafts And Activity Ideas</td><td>40000</td></tr><tr><td>Luxembourg</td><td>Linda Kamp-Around The Kampfire</td><td>35000</td></tr><tr><td>Guernsey</td><td>TattooMagz</td><td>32000</td></tr><tr><td>Zambia</td><td>HALFTEE Layering Fashions</td><td>32000</td></tr><tr><td>Cook Islands</td><td>Fun Loving Families: Crafts, Games, and Activities for Kids</td><td>31000</td></tr><tr><td>Portugal</td><td>Lindsey Blogs</td><td>29000</td></tr><tr><td>Guyana</td><td>J ♥ Millennial Boss</td><td>29000</td></tr><tr><td>Liechtenstein</td><td>Vampirefreaks</td><td>27000</td></tr><tr><td>Timor-Leste</td><td>A Pretty Fix</td><td>27000</td></tr><tr><td>Panama</td><td>Ricardo Lagreca</td><td>25000</td></tr><tr><td>Jordan</td><td>Simple DIY Home Decor & Holiday Crafts at Design Improvised®</td><td>25000</td></tr><tr><td>Senegal</td><td>Life-n-Reflection</td><td>24000</td></tr><tr><td>Mauritania</td><td>The Literacy Nest</td><td>22000</td></tr><tr><td>Italy</td><td>GirlGetGlamorous</td><td>21000</td></tr><tr><td>Seychelles</td><td>ALL FOR WOMAN</td><td>21000</td></tr><tr><td>Montserrat</td><td>Luci // Mums Make Lists - Family and mom lifestyle</td><td>20000</td></tr><tr><td>New Caledonia</td><td>Husskie</td><td>20000</td></tr><tr><td>Turks and Caicos Islands</td><td>Let's Eat Cake</td><td>19000</td></tr><tr><td>Jamaica</td><td>Financial Toolkit</td><td>19000</td></tr><tr><td>New Zealand</td><td>ZENIDEES</td><td>19000</td></tr><tr><td>Malawi</td><td>Tequila_Rose 🌹</td><td>18000</td></tr><tr><td>Saint Lucia</td><td>Quick and Dirty Tips ™</td><td>17000</td></tr><tr><td>Sierra Leone</td><td>Mindfully Gray</td><td>16000</td></tr><tr><td>Vietnam</td><td>Leanne | Midlife Blogger at www.crestingthehill.com.au</td><td>15000</td></tr><tr><td>Morocco</td><td>Two Southern Sweeties | Life After 50 + Second Act Lifestyle</td><td>13000</td></tr><tr><td>Marshall Islands</td><td>Dashing Darlin' </td><td>13000</td></tr><tr><td>Estonia</td><td>Morgan |  Modernly Morgan</td><td>13000</td></tr><tr><td>Slovenia</td><td>Adrienne Wiggins</td><td>12000</td></tr><tr><td>Faroe Islands</td><td>Veterans United Home Loans</td><td>11000</td></tr><tr><td>Slovakia (Slovak Republic)</td><td>CollectorCarAds.com</td><td>11000</td></tr><tr><td>Germany</td><td>Middle Class Dad</td><td>10000</td></tr><tr><td>Macedonia</td><td>Money Propeller</td><td>10000</td></tr><tr><td>Thailand</td><td>Southern Productions Weddings & Events | MS Wedding Planner</td><td>10000</td></tr><tr><td>Equatorial Guinea</td><td>Whisper Wanderlust * Travel Blog</td><td>10000</td></tr><tr><td>Jersey</td><td>PrincetonBookReview.com</td><td>9000</td></tr><tr><td>Romania</td><td>Soberbadassery | Your Free Online Guide To Sober Living </td><td>9000</td></tr><tr><td>Saint Martin</td><td>Montgo Farmhouse</td><td>9000</td></tr><tr><td>Mexico</td><td>Trendy Socialite</td><td>8000</td></tr><tr><td>Kiribati</td><td>MOMtivational // Parenting + Pregnancy + More</td><td>8000</td></tr><tr><td>Paraguay</td><td>Bernadette Balla | Spirituality, Healing, Growth & Inspiration</td><td>7000</td></tr><tr><td>Vanuatu</td><td>Where the Magic Happens Teaching</td><td>7000</td></tr><tr><td>Paraguay</td><td>Blanca Rosado-Diaz</td><td>7000</td></tr><tr><td>Lao People's Democratic Republic</td><td>Motorizm</td><td>6000</td></tr><tr><td>Peru</td><td>Nashvegasmama</td><td>6000</td></tr><tr><td>Rwanda</td><td>Traveling Chic</td><td>6000</td></tr><tr><td>Singapore</td><td>Art Invitte Convites</td><td>6000</td></tr><tr><td>Switzerland</td><td>Laureny Loves | Blogging Tips, Personal Finance and Self Care</td><td>6000</td></tr><tr><td>Papua New Guinea</td><td>William Nowell</td><td>5000</td></tr><tr><td>Tanzania</td><td>Kevmrc travel</td><td>5000</td></tr><tr><td>Poland</td><td>Not In Jersey - Mom Blog</td><td>4000</td></tr><tr><td>Saint Barthelemy</td><td>Adventures w/ TuckNae | Travel Blogger, RV Life, Full-time Travel</td><td>4000</td></tr><tr><td>Yemen</td><td>Jan Ucieklak</td><td>4000</td></tr><tr><td>Togo</td><td>debra</td><td>4000</td></tr><tr><td>Yemen</td><td>T I F F A N Y</td><td>4000</td></tr><tr><td>Niger</td><td>The Edvocate</td><td>4000</td></tr><tr><td>Samoa</td><td>Coley Kuyper Art</td><td>3000</td></tr><tr><td>South Africa</td><td>Sophie Watters</td><td>3000</td></tr><tr><td>Russian Federation</td><td>The Lived-in Look | DIY, Home Decor, Decorating, Renovations </td><td>3000</td></tr><tr><td>Macao</td><td>Vanessa Ferran</td><td>3000</td></tr><tr><td>Micronesia</td><td>Angela</td><td>3000</td></tr><tr><td>Sao Tome and Principe</td><td>kayyla.april</td><td>2000</td></tr><tr><td>Taiwan</td><td>ShanaLou Sutton</td><td>2000</td></tr><tr><td>Tajikistan</td><td>Our Passion for Travel | Travel blog</td><td>2000</td></tr><tr><td>Wallis and Futuna</td><td>Organize Ways</td><td>2000</td></tr><tr><td>Philippines</td><td>ForYou</td><td>2000</td></tr><tr><td>Ghana</td><td>Demeraki</td><td>2000</td></tr><tr><td>Sri Lanka</td><td>Abd El Hakim</td><td>1000</td></tr><tr><td>Ukraine</td><td>John @ The Money Sprout</td><td>1000</td></tr><tr><td>Tuvalu</td><td>Tripleseat</td><td>900</td></tr><tr><td>Holy See (Vatican City State)</td><td>Mich Cam</td><td>831</td></tr><tr><td>Oman</td><td>Kennedy Taylor</td><td>777</td></tr><tr><td>Trinidad and Tobago</td><td>Ton Trip | Backpack | Aventure | Lifestyle</td><td>340</td></tr><tr><td>Saint Pierre and Miquelon</td><td>Ebbert Barnes</td><td>323</td></tr><tr><td>Serbia</td><td>Keitha Rankin</td><td>248</td></tr><tr><td>Uruguay</td><td>Eden</td><td>198</td></tr><tr><td>Saint Vincent and the Grenadines</td><td>CabreraE</td><td>121</td></tr><tr><td>United Kingdom</td><td>teresa davis</td><td>30</td></tr><tr><td>Tonga</td><td>Grecia Perales</td><td>0</td></tr></tbody></table></div>"
      ]
     },
     "metadata": {
      "application/vnd.databricks.v1+output": {
       "addedWidgets": {},
       "aggData": [],
       "aggError": "",
       "aggOverflow": false,
       "aggSchema": [],
       "aggSeriesLimitReached": false,
       "aggType": "",
       "arguments": {},
       "columnCustomDisplayInfos": {},
       "data": [
        [
         "Angola",
         "Tastemade",
         8000000
        ],
        [
         "American Samoa",
         "Mamas Uncut",
         8000000
        ],
        [
         "Azerbaijan",
         "Style Me Pretty",
         6000000
        ],
        [
         "Burkina Faso",
         "Behance",
         6000000
        ],
        [
         "Albania",
         "The Minds Journal",
         5000000
        ],
        [
         "Algeria",
         "Apartment Therapy",
         5000000
        ],
        [
         "Bouvet Island (Bouvetoya)",
         "POPSUGAR",
         5000000
        ],
        [
         "Comoros",
         "Ruffled",
         4000000
        ],
        [
         "Guam",
         "imgur",
         4000000
        ],
        [
         "United States Virgin Islands",
         "Ugly Duckling House | DIY, Home, Woodworking, Crafts & Recipes",
         4000000
        ],
        [
         "Bangladesh",
         "Better Homes and Gardens",
         4000000
        ],
        [
         "Uganda",
         "Inspired by Charm",
         3000000
        ],
        [
         "Afghanistan",
         "9GAG",
         3000000
        ],
        [
         "United States Minor Outlying Islands",
         "Bloglovin'",
         3000000
        ],
        [
         "Botswana",
         "OkChicas",
         3000000
        ],
        [
         "Christmas Island",
         "Instructables",
         3000000
        ],
        [
         "Australia",
         "Mujer de 10 ",
         2000000
        ],
        [
         "Argentina",
         "Cheezburger",
         2000000
        ],
        [
         "Cambodia",
         "Catch My Party",
         2000000
        ],
        [
         "Costa Rica",
         "Martha Stewart Living",
         2000000
        ],
        [
         "Greenland",
         "The Educators' Spin On It",
         2000000
        ],
        [
         "Kuwait",
         "Green Wedding Shoes",
         2000000
        ],
        [
         "Anguilla",
         "Dicas de Mulher",
         2000000
        ],
        [
         "Antarctica (the territory South of 60 deg S)",
         "Refinery29",
         1000000
        ],
        [
         "Cuba",
         "Cuded Art & Design",
         1000000
        ],
        [
         "Antigua and Barbuda",
         "Country Living Magazine",
         1000000
        ],
        [
         "Cayman Islands",
         "InStyle",
         1000000
        ],
        [
         "Andorra",
         "Teachers Pay Teachers",
         1000000
        ],
        [
         "Martinique",
         "Heart Handmade UK | Craft Room Ideas, Craft Ideas For Adults",
         1000000
        ],
        [
         "Hong Kong",
         "Remodelista",
         991000
        ],
        [
         "Guatemala",
         "Homedit.com",
         965000
        ],
        [
         "Bahamas",
         "Handmade Charlotte",
         948000
        ],
        [
         "Belgium",
         "This Old House",
         944000
        ],
        [
         "Bulgaria",
         "Half Baked Harvest",
         912000
        ],
        [
         "Lesotho",
         "The Guardian",
         908000
        ],
        [
         "Mongolia",
         "ZAFUL",
         893000
        ],
        [
         "Armenia",
         "Michelle {CraftyMorning.com}",
         892000
        ],
        [
         "Iraq",
         "House Beautiful",
         875000
        ],
        [
         "Aruba",
         "GQ Magazine",
         874000
        ],
        [
         "Central African Republic",
         "PureWow",
         868000
        ],
        [
         "Cocos (Keeling) Islands",
         "How Does She",
         709000
        ],
        [
         "Ethiopia",
         "Ideal Home",
         671000
        ],
        [
         "Pitcairn Islands",
         "Marla Meridith",
         671000
        ],
        [
         "Belarus",
         "Prudent Penny Pincher - Home Decor, Organization, Crafts, Recipes",
         647000
        ],
        [
         "Korea",
         "Latest Hairstyles",
         627000
        ],
        [
         "Burundi",
         "Macho Moda",
         620000
        ],
        [
         "Gabon",
         "Dr. Josh Axe",
         593000
        ],
        [
         "Cote d'Ivoire",
         "Mom Junction",
         565000
        ],
        [
         "Palestinian Territory",
         "Onedio.com",
         561000
        ],
        [
         "Liberia",
         "Happy Hooligans - Crafts and Activities for Kids",
         550000
        ],
        [
         "Iran",
         "WeddingWire",
         520000
        ],
        [
         "Heard Island and McDonald Islands",
         "Real Men Real Style",
         487000
        ],
        [
         "Pakistan",
         "Buyer Select",
         441000
        ],
        [
         "Benin",
         "Decoist.com",
         432000
        ],
        [
         "Chile",
         "TODAY Show",
         426000
        ],
        [
         "Maldives",
         "Parents",
         416000
        ],
        [
         "Congo",
         "Virginia | Fynes Designs : Home Decor, Easy DIY’s, Lifestyle",
         410000
        ],
        [
         "Barbados",
         "The Creativity Exchange",
         410000
        ],
        [
         "Norway",
         "epicurious",
         409000
        ],
        [
         "Czech Republic",
         "Tatertots and Jello .com",
         398000
        ],
        [
         "Greece",
         "Thirty Handmade Days",
         397000
        ],
        [
         "Bosnia and Herzegovina",
         "Stylesatlife",
         388000
        ],
        [
         "Tokelau",
         "Budget Savvy Diva",
         384000
        ],
        [
         "Bahrain",
         "Rainy Day Mum",
         337000
        ],
        [
         "Netherlands",
         "Tracie Kiernan | Step By Step Painting |",
         308000
        ],
        [
         "Djibouti",
         "El Hombre",
         307000
        ],
        [
         "China",
         "Money Saving Mom",
         280000
        ],
        [
         "Brunei Darussalam",
         "Kids Craft Room",
         277000
        ],
        [
         "Niue",
         "Michelle | Brown Eyed Baker",
         271000
        ],
        [
         "Belize",
         "Easy Kids Crafts & Activities | Preschool & Kindergarten Ideas",
         267000
        ],
        [
         "Canada",
         "Giorgenti New York",
         258000
        ],
        [
         "British Indian Ocean Territory (Chagos Archipelago)",
         "Shopify",
         257000
        ],
        [
         "Indonesia",
         "Forbes",
         252000
        ],
        [
         "Austria",
         "Diply",
         251000
        ],
        [
         "British Virgin Islands",
         "Kitchen Fun With My 3 Sons",
         245000
        ],
        [
         "Bolivia",
         "Kimberly West (a girl and a glue gun)",
         243000
        ],
        [
         "French Guiana",
         "Sweet Red Poppy Free Sewing Patterns, Cut Files & Craft Tutorials",
         241000
        ],
        [
         "Colombia",
         "Pretty My Party - Party Ideas",
         239000
        ],
        [
         "Ireland",
         "Deavita.fr",
         239000
        ],
        [
         "Bermuda",
         "Vanessa Pre-K Pages",
         228000
        ],
        [
         "Monaco",
         "Artists Network",
         227000
        ],
        [
         "Chad",
         "Glued To My Crafts",
         226000
        ],
        [
         "Nepal",
         "Christie @Childhood101",
         222000
        ],
        [
         "El Salvador",
         "Power of Positivity",
         221000
        ],
        [
         "Malta",
         "Iowa Girl Eats",
         219000
        ],
        [
         "Georgia",
         "Susie Allison | Busy Toddler",
         203000
        ],
        [
         "Turkmenistan",
         "Jennifer Maker ❤️ DIY Home Decor + Craft + Paper Flowers",
         193000
        ],
        [
         "Latvia",
         "Royal Fashionist",
         188000
        ],
        [
         "Finland",
         "Buggy and Buddy",
         185000
        ],
        [
         "Grenada",
         "The Mighty",
         185000
        ],
        [
         "Cape Verde",
         "Sand and Sisal",
         178000
        ],
        [
         "Egypt",
         "Educational Technology and Mobile Learning",
         172000
        ],
        [
         "Saint Kitts and Nevis",
         "vintagetopia",
         171000
        ],
        [
         "Namibia",
         "Snappy Gourmet",
         168000
        ],
        [
         "French Polynesia",
         "EsB Journal",
         168000
        ],
        [
         "India",
         "Happiness is Homemade | Crafts, Printables, Party Ideas, & More!",
         167000
        ],
        [
         "Lebanon",
         "Your Positive Oasis | Motivation| Inspiration| Wellness",
         163000
        ],
        [
         "Guinea-Bissau",
         "Kristina Buskirk | Toddler Approved",
         160000
        ],
        [
         "Libyan Arab Jamahiriya",
         "miss coco",
         157000
        ],
        [
         "Croatia",
         "Glowsly",
         157000
        ],
        [
         "Saint Helena",
         "Book Riot",
         154000
        ],
        [
         "Svalbard & Jan Mayen Islands",
         "Merissa (Little House Living) | Simple Living + Frugal Living",
         152000
        ],
        [
         "Bhutan",
         "diana ajih",
         141000
        ],
        [
         "Saudi Arabia",
         "The Navage Patch®",
         136000
        ],
        [
         "Nicaragua",
         "Budget101.com",
         136000
        ],
        [
         "Guinea",
         "Cars Zone",
         134000
        ],
        [
         "Dominica",
         "allisa jacobs | Home Design",
         129000
        ],
        [
         "San Marino",
         "Sarah Joy Blog",
         125000
        ],
        [
         "Guadeloupe",
         "Jess Abbott | The Sewing Rabbit",
         123000
        ],
        [
         "Cameroon",
         "The Blonde Abroad",
         123000
        ],
        [
         "Mali",
         "Mobile Home Living®",
         122000
        ],
        [
         "Madagascar",
         "OTOKOMAE/男前研究所",
         122000
        ],
        [
         "Western Sahara",
         "Teach123",
         121000
        ],
        [
         "French Southern Territories",
         "Don't Waste the Crumbs",
         119000
        ],
        [
         "Somalia",
         "Balloons_worldwides",
         118000
        ],
        [
         "Cyprus",
         "Porchdotcom",
         117000
        ],
        [
         "Puerto Rico",
         "Stephanie Lynn",
         116000
        ],
        [
         "France",
         "Hello Lovely",
         115000
        ],
        [
         "Honduras",
         "Mad in Crafts",
         106000
        ],
        [
         "Eritrea",
         "Core77",
         105000
        ],
        [
         "Dominican Republic",
         "Wonder Forest",
         104000
        ],
        [
         "Haiti",
         "Fres Houz",
         100000
        ],
        [
         "Venezuela",
         "My Poppet - A Craft, Travel & Food Blog for Colourful Living",
         100000
        ],
        [
         "Ecuador",
         "Laughing Kids Learn | Play Ideas for Kids | Crafts + Activities for Teachers + Parents ",
         99000
        ],
        [
         "Kenya",
         "Vem que te Conto! | Dicas de Viagem",
         95000
        ],
        [
         "Gibraltar",
         "TheSuperBOO!",
         89000
        ],
        [
         "Nigeria",
         "CanvasBag.Co",
         88000
        ],
        [
         "Myanmar",
         "Hearth and Vine",
         88000
        ],
        [
         "Isle of Man",
         "The Chalkboard Mag",
         87000
        ],
        [
         "Japan",
         "The Adult Man - Practical Men's Fashion & Lifestyle Advice",
         87000
        ],
        [
         "Kyrgyz Republic",
         "ADDitude Magazine",
         87000
        ],
        [
         "Iceland",
         "Making it in the Mountains",
         85000
        ],
        [
         "Mozambique",
         "Stylin by Aylin",
         83000
        ],
        [
         "Solomon Islands",
         "Christy from Our Southern Home",
         81000
        ],
        [
         "Hungary",
         "Weed 'em & Reap",
         77000
        ],
        [
         "Kazakhstan",
         "Christina Maria - DIY Home Improvement + Decor",
         75000
        ],
        [
         "South Georgia and the South Sandwich Islands",
         "Classic Nation",
         75000
        ],
        [
         "Brazil",
         "Doris Leslie Blau Antique & Vintage Rugs",
         72000
        ],
        [
         "Tunisia",
         "El blog amarillo",
         66000
        ],
        [
         "Mayotte",
         "Sugar, Spice & Glitter",
         65000
        ],
        [
         "Sudan",
         "Literacy and Math Ideas",
         63000
        ],
        [
         "Netherlands Antilles",
         "Sweet T Makes Three",
         61000
        ],
        [
         "Gambia",
         "The Travel Hacking Life",
         61000
        ],
        [
         "Norfolk Island",
         "The Skinny Confidential",
         60000
        ],
        [
         "Denmark",
         "Kelley Nan",
         59000
        ],
        [
         "Falkland Islands (Malvinas)",
         "Victoria Magazine",
         59000
        ],
        [
         "Sweden",
         "My Bored Toddler",
         58000
        ],
        [
         "Lithuania",
         "Play Ideas",
         52000
        ],
        [
         "Swaziland",
         "Craftables",
         49000
        ],
        [
         "United States of America",
         "Evolution of Style",
         47000
        ],
        [
         "Mauritius",
         "Cool Things- Drawing Ideas , Fashion ,Beautiy and Home Decor",
         46000
        ],
        [
         "Montenegro",
         "Leelah loves",
         45000
        ],
        [
         "Nauru",
         "The Intrepid Guide | Language Learning for Travel",
         45000
        ],
        [
         "Qatar",
         "Hudson Farmhouse",
         45000
        ],
        [
         "Moldova",
         "A Blossoming Life DIY Projects + Recipes +     Natural Living",
         44000
        ],
        [
         "Fiji",
         "Teach Create Motivate",
         41000
        ],
        [
         "Turkey",
         "Tastefully Frugal",
         40000
        ],
        [
         "Israel",
         "Fun With Mama - Kids Crafts And Activity Ideas",
         40000
        ],
        [
         "Luxembourg",
         "Linda Kamp-Around The Kampfire",
         35000
        ],
        [
         "Guernsey",
         "TattooMagz",
         32000
        ],
        [
         "Zambia",
         "HALFTEE Layering Fashions",
         32000
        ],
        [
         "Cook Islands",
         "Fun Loving Families: Crafts, Games, and Activities for Kids",
         31000
        ],
        [
         "Portugal",
         "Lindsey Blogs",
         29000
        ],
        [
         "Guyana",
         "J ♥ Millennial Boss",
         29000
        ],
        [
         "Liechtenstein",
         "Vampirefreaks",
         27000
        ],
        [
         "Timor-Leste",
         "A Pretty Fix",
         27000
        ],
        [
         "Panama",
         "Ricardo Lagreca",
         25000
        ],
        [
         "Jordan",
         "Simple DIY Home Decor & Holiday Crafts at Design Improvised®",
         25000
        ],
        [
         "Senegal",
         "Life-n-Reflection",
         24000
        ],
        [
         "Mauritania",
         "The Literacy Nest",
         22000
        ],
        [
         "Italy",
         "GirlGetGlamorous",
         21000
        ],
        [
         "Seychelles",
         "ALL FOR WOMAN",
         21000
        ],
        [
         "Montserrat",
         "Luci // Mums Make Lists - Family and mom lifestyle",
         20000
        ],
        [
         "New Caledonia",
         "Husskie",
         20000
        ],
        [
         "Turks and Caicos Islands",
         "Let's Eat Cake",
         19000
        ],
        [
         "Jamaica",
         "Financial Toolkit",
         19000
        ],
        [
         "New Zealand",
         "ZENIDEES",
         19000
        ],
        [
         "Malawi",
         "Tequila_Rose 🌹",
         18000
        ],
        [
         "Saint Lucia",
         "Quick and Dirty Tips ™",
         17000
        ],
        [
         "Sierra Leone",
         "Mindfully Gray",
         16000
        ],
        [
         "Vietnam",
         "Leanne | Midlife Blogger at www.crestingthehill.com.au",
         15000
        ],
        [
         "Morocco",
         "Two Southern Sweeties | Life After 50 + Second Act Lifestyle",
         13000
        ],
        [
         "Marshall Islands",
         "Dashing Darlin' ",
         13000
        ],
        [
         "Estonia",
         "Morgan |  Modernly Morgan",
         13000
        ],
        [
         "Slovenia",
         "Adrienne Wiggins",
         12000
        ],
        [
         "Faroe Islands",
         "Veterans United Home Loans",
         11000
        ],
        [
         "Slovakia (Slovak Republic)",
         "CollectorCarAds.com",
         11000
        ],
        [
         "Germany",
         "Middle Class Dad",
         10000
        ],
        [
         "Macedonia",
         "Money Propeller",
         10000
        ],
        [
         "Thailand",
         "Southern Productions Weddings & Events | MS Wedding Planner",
         10000
        ],
        [
         "Equatorial Guinea",
         "Whisper Wanderlust * Travel Blog",
         10000
        ],
        [
         "Jersey",
         "PrincetonBookReview.com",
         9000
        ],
        [
         "Romania",
         "Soberbadassery | Your Free Online Guide To Sober Living ",
         9000
        ],
        [
         "Saint Martin",
         "Montgo Farmhouse",
         9000
        ],
        [
         "Mexico",
         "Trendy Socialite",
         8000
        ],
        [
         "Kiribati",
         "MOMtivational // Parenting + Pregnancy + More",
         8000
        ],
        [
         "Paraguay",
         "Bernadette Balla | Spirituality, Healing, Growth & Inspiration",
         7000
        ],
        [
         "Vanuatu",
         "Where the Magic Happens Teaching",
         7000
        ],
        [
         "Paraguay",
         "Blanca Rosado-Diaz",
         7000
        ],
        [
         "Lao People's Democratic Republic",
         "Motorizm",
         6000
        ],
        [
         "Peru",
         "Nashvegasmama",
         6000
        ],
        [
         "Rwanda",
         "Traveling Chic",
         6000
        ],
        [
         "Singapore",
         "Art Invitte Convites",
         6000
        ],
        [
         "Switzerland",
         "Laureny Loves | Blogging Tips, Personal Finance and Self Care",
         6000
        ],
        [
         "Papua New Guinea",
         "William Nowell",
         5000
        ],
        [
         "Tanzania",
         "Kevmrc travel",
         5000
        ],
        [
         "Poland",
         "Not In Jersey - Mom Blog",
         4000
        ],
        [
         "Saint Barthelemy",
         "Adventures w/ TuckNae | Travel Blogger, RV Life, Full-time Travel",
         4000
        ],
        [
         "Yemen",
         "Jan Ucieklak",
         4000
        ],
        [
         "Togo",
         "debra",
         4000
        ],
        [
         "Yemen",
         "T I F F A N Y",
         4000
        ],
        [
         "Niger",
         "The Edvocate",
         4000
        ],
        [
         "Samoa",
         "Coley Kuyper Art",
         3000
        ],
        [
         "South Africa",
         "Sophie Watters",
         3000
        ],
        [
         "Russian Federation",
         "The Lived-in Look | DIY, Home Decor, Decorating, Renovations ",
         3000
        ],
        [
         "Macao",
         "Vanessa Ferran",
         3000
        ],
        [
         "Micronesia",
         "Angela",
         3000
        ],
        [
         "Sao Tome and Principe",
         "kayyla.april",
         2000
        ],
        [
         "Taiwan",
         "ShanaLou Sutton",
         2000
        ],
        [
         "Tajikistan",
         "Our Passion for Travel | Travel blog",
         2000
        ],
        [
         "Wallis and Futuna",
         "Organize Ways",
         2000
        ],
        [
         "Philippines",
         "ForYou",
         2000
        ],
        [
         "Ghana",
         "Demeraki",
         2000
        ],
        [
         "Sri Lanka",
         "Abd El Hakim",
         1000
        ],
        [
         "Ukraine",
         "John @ The Money Sprout",
         1000
        ],
        [
         "Tuvalu",
         "Tripleseat",
         900
        ],
        [
         "Holy See (Vatican City State)",
         "Mich Cam",
         831
        ],
        [
         "Oman",
         "Kennedy Taylor",
         777
        ],
        [
         "Trinidad and Tobago",
         "Ton Trip | Backpack | Aventure | Lifestyle",
         340
        ],
        [
         "Saint Pierre and Miquelon",
         "Ebbert Barnes",
         323
        ],
        [
         "Serbia",
         "Keitha Rankin",
         248
        ],
        [
         "Uruguay",
         "Eden",
         198
        ],
        [
         "Saint Vincent and the Grenadines",
         "CabreraE",
         121
        ],
        [
         "United Kingdom",
         "teresa davis",
         30
        ],
        [
         "Tonga",
         "Grecia Perales",
         0
        ]
       ],
       "datasetInfos": [],
       "dbfsResultPath": null,
       "isJsonSchema": true,
       "metadata": {},
       "overflow": false,
       "plotOptions": {
        "customPlotOptions": {},
        "displayType": "table",
        "pivotAggregation": null,
        "pivotColumns": null,
        "xColumns": null,
        "yColumns": null
       },
       "removedWidgets": [],
       "schema": [
        {
         "metadata": "{}",
         "name": "country",
         "type": "\"string\""
        },
        {
         "metadata": "{}",
         "name": "poster_name",
         "type": "\"string\""
        },
        {
         "metadata": "{}",
         "name": "follower_count",
         "type": "\"integer\""
        }
       ],
       "type": "table"
      }
     },
     "output_type": "display_data"
    }
   ],
   "source": [
    "from pyspark.sql.window import Window\n",
    "\n",
    "window_spec = Window.partitionBy(\"country\")\n",
    "\n",
    "most_followed_per_country = df_pin \\\n",
    "    .join(df_geo, df_pin.ind == df_geo.ind) \\\n",
    "    .withColumn(\"MaxFollowingByCountry\", max(\"follower_count\").over(window_spec)) \\\n",
    "    .where(col(\"follower_count\") == col(\"MaxFollowingByCountry\")) \\\n",
    "    .select(\"country\", \"poster_name\", \"follower_count\").distinct() \\\n",
    "    .orderBy(desc(col(\"follower_count\")))\n",
    "\n",
    "display(most_followed_per_country)"
   ]
  },
  {
   "cell_type": "markdown",
   "metadata": {
    "application/vnd.databricks.v1+cell": {
     "cellMetadata": {},
     "inputWidgets": {},
     "nuid": "168ad762-ce12-43f4-bd54-8e7126382fb4",
     "showTitle": false,
     "title": ""
    }
   },
   "source": [
    "#### 3-1. Based on the above query, find the country with the user who has the most followers"
   ]
  },
  {
   "cell_type": "code",
   "execution_count": null,
   "metadata": {
    "application/vnd.databricks.v1+cell": {
     "cellMetadata": {
      "byteLimit": 2048000,
      "rowLimit": 10000
     },
     "inputWidgets": {},
     "nuid": "39717025-4a30-48b6-8d20-e8124427fb42",
     "showTitle": false,
     "title": ""
    }
   },
   "outputs": [
    {
     "data": {
      "text/html": [
       "<style scoped>\n",
       "  .table-result-container {\n",
       "    max-height: 300px;\n",
       "    overflow: auto;\n",
       "  }\n",
       "  table, th, td {\n",
       "    border: 1px solid black;\n",
       "    border-collapse: collapse;\n",
       "  }\n",
       "  th, td {\n",
       "    padding: 5px;\n",
       "  }\n",
       "  th {\n",
       "    text-align: left;\n",
       "  }\n",
       "</style><div class='table-result-container'><table class='table-result'><thead style='background-color: white'><tr><th>country</th><th>follower_count</th></tr></thead><tbody><tr><td>American Samoa</td><td>8000000</td></tr></tbody></table></div>"
      ]
     },
     "metadata": {
      "application/vnd.databricks.v1+output": {
       "addedWidgets": {},
       "aggData": [],
       "aggError": "",
       "aggOverflow": false,
       "aggSchema": [],
       "aggSeriesLimitReached": false,
       "aggType": "",
       "arguments": {},
       "columnCustomDisplayInfos": {},
       "data": [
        [
         "American Samoa",
         8000000
        ]
       ],
       "datasetInfos": [],
       "dbfsResultPath": null,
       "isJsonSchema": true,
       "metadata": {},
       "overflow": false,
       "plotOptions": {
        "customPlotOptions": {},
        "displayType": "table",
        "pivotAggregation": null,
        "pivotColumns": null,
        "xColumns": null,
        "yColumns": null
       },
       "removedWidgets": [],
       "schema": [
        {
         "metadata": "{}",
         "name": "country",
         "type": "\"string\""
        },
        {
         "metadata": "{}",
         "name": "follower_count",
         "type": "\"integer\""
        }
       ],
       "type": "table"
      }
     },
     "output_type": "display_data"
    }
   ],
   "source": [
    "country_of_max_followed_user = most_followed_per_country \\\n",
    "    .groupBy(\"country\") \\\n",
    "    .agg(max(\"follower_count\").alias(\"follower_count\")) \\\n",
    "    .orderBy(desc(col(\"follower_count\")), col(\"country\")) \\\n",
    "    .limit(1)\n",
    "\n",
    "display(country_of_max_followed_user)"
   ]
  },
  {
   "cell_type": "markdown",
   "metadata": {
    "application/vnd.databricks.v1+cell": {
     "cellMetadata": {},
     "inputWidgets": {},
     "nuid": "b9bdf3a7-a8db-49cc-9a33-8a4bce22301a",
     "showTitle": false,
     "title": ""
    }
   },
   "source": [
    "#### 4. Find the most popular category for different age groups"
   ]
  },
  {
   "cell_type": "code",
   "execution_count": null,
   "metadata": {
    "application/vnd.databricks.v1+cell": {
     "cellMetadata": {
      "byteLimit": 2048000,
      "rowLimit": 10000
     },
     "inputWidgets": {},
     "nuid": "0afd08d0-b8a2-4cb7-8e41-aa5199180650",
     "showTitle": false,
     "title": ""
    }
   },
   "outputs": [
    {
     "data": {
      "text/html": [
       "<style scoped>\n",
       "  .ansiout {\n",
       "    display: block;\n",
       "    unicode-bidi: embed;\n",
       "    white-space: pre-wrap;\n",
       "    word-wrap: break-word;\n",
       "    word-break: break-all;\n",
       "    font-family: \"Menlo\", \"Monaco\", \"Consolas\", \"Ubuntu Mono\", \"Source Code Pro\", monospace;\n",
       "    font-size: 13px;\n",
       "    color: #555;\n",
       "    margin-left: 4px;\n",
       "    line-height: 19px;\n",
       "  }\n",
       "</style>\n",
       "<div class=\"ansiout\"></div>"
      ]
     },
     "metadata": {
      "application/vnd.databricks.v1+output": {
       "addedWidgets": {},
       "arguments": {},
       "data": "<div class=\"ansiout\"></div>",
       "datasetInfos": [],
       "metadata": {},
       "removedWidgets": [],
       "type": "html"
      }
     },
     "output_type": "display_data"
    }
   ],
   "source": [
    "# Creating a temporary view for Spark SQL queries.\n",
    "df_user.join(df_pin, df_pin.ind == df_user.ind).createOrReplaceTempView(\"pin_user_table\")"
   ]
  },
  {
   "cell_type": "code",
   "execution_count": null,
   "metadata": {
    "application/vnd.databricks.v1+cell": {
     "cellMetadata": {
      "byteLimit": 2048000,
      "implicitDf": true,
      "rowLimit": 10000
     },
     "inputWidgets": {},
     "nuid": "86e329ed-49cb-4e58-a5fb-2268540b1e10",
     "showTitle": false,
     "title": ""
    }
   },
   "outputs": [
    {
     "data": {
      "text/html": [
       "<style scoped>\n",
       "  .table-result-container {\n",
       "    max-height: 300px;\n",
       "    overflow: auto;\n",
       "  }\n",
       "  table, th, td {\n",
       "    border: 1px solid black;\n",
       "    border-collapse: collapse;\n",
       "  }\n",
       "  th, td {\n",
       "    padding: 5px;\n",
       "  }\n",
       "  th {\n",
       "    text-align: left;\n",
       "  }\n",
       "</style><div class='table-result-container'><table class='table-result'><thead style='background-color: white'><tr><th>category</th><th>age_group</th></tr></thead><tbody><tr><td>christmas</td><td>25-35</td></tr><tr><td>diy-and-crafts</td><td>18-24</td></tr><tr><td>christmas</td><td>25-35</td></tr><tr><td>christmas</td><td>36-50</td></tr><tr><td>diy-and-crafts</td><td>18-24</td></tr><tr><td>diy-and-crafts</td><td>18-24</td></tr><tr><td>travel</td><td>25-35</td></tr><tr><td>christmas</td><td>36-50</td></tr><tr><td>education</td><td>25-35</td></tr><tr><td>travel</td><td>36-50</td></tr><tr><td>education</td><td>25-35</td></tr><tr><td>mens-fashion</td><td>25-35</td></tr><tr><td>christmas</td><td>18-24</td></tr><tr><td>christmas</td><td>18-24</td></tr><tr><td>christmas</td><td>50+</td></tr><tr><td>diy-and-crafts</td><td>18-24</td></tr><tr><td>education</td><td>36-50</td></tr><tr><td>christmas</td><td>18-24</td></tr><tr><td>event-planning</td><td>25-35</td></tr><tr><td>christmas</td><td>18-24</td></tr><tr><td>christmas</td><td>18-24</td></tr><tr><td>christmas</td><td>18-24</td></tr><tr><td>home-decor</td><td>25-35</td></tr><tr><td>christmas</td><td>18-24</td></tr><tr><td>christmas</td><td>18-24</td></tr><tr><td>christmas</td><td>18-24</td></tr><tr><td>event-planning</td><td>50+</td></tr><tr><td>event-planning</td><td>50+</td></tr><tr><td>event-planning</td><td>50+</td></tr><tr><td>christmas</td><td>36-50</td></tr><tr><td>home-decor</td><td>18-24</td></tr><tr><td>home-decor</td><td>36-50</td></tr><tr><td>quotes</td><td>18-24</td></tr><tr><td>event-planning</td><td>25-35</td></tr><tr><td>diy-and-crafts</td><td>25-35</td></tr><tr><td>education</td><td>25-35</td></tr><tr><td>diy-and-crafts</td><td>25-35</td></tr><tr><td>event-planning</td><td>36-50</td></tr><tr><td>education</td><td>18-24</td></tr><tr><td>diy-and-crafts</td><td>25-35</td></tr><tr><td>finance</td><td>18-24</td></tr><tr><td>christmas</td><td>18-24</td></tr><tr><td>tattoos</td><td>50+</td></tr><tr><td>travel</td><td>18-24</td></tr><tr><td>christmas</td><td>25-35</td></tr><tr><td>diy-and-crafts</td><td>25-35</td></tr><tr><td>event-planning</td><td>18-24</td></tr><tr><td>mens-fashion</td><td>18-24</td></tr><tr><td>christmas</td><td>18-24</td></tr><tr><td>event-planning</td><td>36-50</td></tr><tr><td>christmas</td><td>18-24</td></tr><tr><td>quotes</td><td>18-24</td></tr><tr><td>christmas</td><td>18-24</td></tr><tr><td>home-decor</td><td>50+</td></tr><tr><td>travel</td><td>18-24</td></tr><tr><td>art</td><td>18-24</td></tr><tr><td>quotes</td><td>36-50</td></tr><tr><td>diy-and-crafts</td><td>18-24</td></tr><tr><td>diy-and-crafts</td><td>25-35</td></tr><tr><td>diy-and-crafts</td><td>25-35</td></tr><tr><td>education</td><td>36-50</td></tr><tr><td>vehicles</td><td>18-24</td></tr><tr><td>quotes</td><td>18-24</td></tr><tr><td>finance</td><td>36-50</td></tr><tr><td>event-planning</td><td>36-50</td></tr><tr><td>christmas</td><td>36-50</td></tr><tr><td>christmas</td><td>18-24</td></tr><tr><td>event-planning</td><td>36-50</td></tr><tr><td>home-decor</td><td>25-35</td></tr><tr><td>art</td><td>18-24</td></tr><tr><td>christmas</td><td>18-24</td></tr><tr><td>tattoos</td><td>50+</td></tr><tr><td>diy-and-crafts</td><td>18-24</td></tr><tr><td>art</td><td>25-35</td></tr><tr><td>event-planning</td><td>18-24</td></tr><tr><td>education</td><td>18-24</td></tr><tr><td>event-planning</td><td>36-50</td></tr><tr><td>education</td><td>18-24</td></tr><tr><td>diy-and-crafts</td><td>25-35</td></tr><tr><td>christmas</td><td>36-50</td></tr><tr><td>event-planning</td><td>18-24</td></tr><tr><td>diy-and-crafts</td><td>18-24</td></tr><tr><td>christmas</td><td>18-24</td></tr><tr><td>event-planning</td><td>50+</td></tr><tr><td>diy-and-crafts</td><td>25-35</td></tr><tr><td>finance</td><td>36-50</td></tr><tr><td>christmas</td><td>25-35</td></tr><tr><td>quotes</td><td>18-24</td></tr><tr><td>christmas</td><td>25-35</td></tr><tr><td>christmas</td><td>36-50</td></tr><tr><td>travel</td><td>36-50</td></tr><tr><td>christmas</td><td>18-24</td></tr><tr><td>vehicles</td><td>36-50</td></tr><tr><td>finance</td><td>18-24</td></tr><tr><td>finance</td><td>36-50</td></tr><tr><td>quotes</td><td>25-35</td></tr><tr><td>finance</td><td>18-24</td></tr><tr><td>christmas</td><td>25-35</td></tr><tr><td>christmas</td><td>25-35</td></tr><tr><td>mens-fashion</td><td>18-24</td></tr><tr><td>mens-fashion</td><td>18-24</td></tr><tr><td>event-planning</td><td>18-24</td></tr><tr><td>christmas</td><td>25-35</td></tr><tr><td>quotes</td><td>36-50</td></tr><tr><td>finance</td><td>18-24</td></tr><tr><td>art</td><td>18-24</td></tr><tr><td>christmas</td><td>25-35</td></tr><tr><td>diy-and-crafts</td><td>18-24</td></tr><tr><td>mens-fashion</td><td>18-24</td></tr><tr><td>home-decor</td><td>25-35</td></tr><tr><td>home-decor</td><td>18-24</td></tr><tr><td>quotes</td><td>50+</td></tr><tr><td>education</td><td>18-24</td></tr><tr><td>home-decor</td><td>36-50</td></tr><tr><td>education</td><td>36-50</td></tr><tr><td>diy-and-crafts</td><td>18-24</td></tr><tr><td>travel</td><td>18-24</td></tr><tr><td>travel</td><td>25-35</td></tr><tr><td>christmas</td><td>18-24</td></tr><tr><td>quotes</td><td>18-24</td></tr><tr><td>beauty</td><td>25-35</td></tr><tr><td>christmas</td><td>25-35</td></tr><tr><td>tattoos</td><td>18-24</td></tr><tr><td>travel</td><td>25-35</td></tr><tr><td>finance</td><td>18-24</td></tr><tr><td>diy-and-crafts</td><td>18-24</td></tr><tr><td>christmas</td><td>18-24</td></tr><tr><td>travel</td><td>18-24</td></tr><tr><td>education</td><td>36-50</td></tr><tr><td>home-decor</td><td>25-35</td></tr><tr><td>event-planning</td><td>25-35</td></tr><tr><td>tattoos</td><td>18-24</td></tr><tr><td>tattoos</td><td>18-24</td></tr><tr><td>mens-fashion</td><td>18-24</td></tr><tr><td>mens-fashion</td><td>36-50</td></tr><tr><td>travel</td><td>25-35</td></tr><tr><td>travel</td><td>36-50</td></tr><tr><td>education</td><td>36-50</td></tr><tr><td>home-decor</td><td>25-35</td></tr><tr><td>mens-fashion</td><td>18-24</td></tr><tr><td>diy-and-crafts</td><td>25-35</td></tr><tr><td>christmas</td><td>36-50</td></tr><tr><td>christmas</td><td>50+</td></tr><tr><td>christmas</td><td>18-24</td></tr><tr><td>christmas</td><td>25-35</td></tr><tr><td>art</td><td>36-50</td></tr><tr><td>home-decor</td><td>50+</td></tr><tr><td>christmas</td><td>18-24</td></tr><tr><td>finance</td><td>36-50</td></tr><tr><td>education</td><td>18-24</td></tr><tr><td>education</td><td>18-24</td></tr><tr><td>diy-and-crafts</td><td>25-35</td></tr><tr><td>home-decor</td><td>18-24</td></tr><tr><td>education</td><td>50+</td></tr><tr><td>christmas</td><td>18-24</td></tr><tr><td>event-planning</td><td>18-24</td></tr><tr><td>art</td><td>18-24</td></tr><tr><td>tattoos</td><td>18-24</td></tr><tr><td>home-decor</td><td>18-24</td></tr><tr><td>finance</td><td>36-50</td></tr><tr><td>home-decor</td><td>18-24</td></tr><tr><td>diy-and-crafts</td><td>36-50</td></tr><tr><td>christmas</td><td>18-24</td></tr><tr><td>christmas</td><td>18-24</td></tr><tr><td>christmas</td><td>25-35</td></tr><tr><td>art</td><td>18-24</td></tr><tr><td>finance</td><td>36-50</td></tr><tr><td>tattoos</td><td>18-24</td></tr><tr><td>education</td><td>50+</td></tr><tr><td>quotes</td><td>25-35</td></tr><tr><td>event-planning</td><td>25-35</td></tr><tr><td>finance</td><td>25-35</td></tr><tr><td>christmas</td><td>18-24</td></tr><tr><td>quotes</td><td>18-24</td></tr><tr><td>travel</td><td>18-24</td></tr><tr><td>finance</td><td>25-35</td></tr><tr><td>art</td><td>25-35</td></tr><tr><td>education</td><td>18-24</td></tr><tr><td>home-decor</td><td>18-24</td></tr><tr><td>event-planning</td><td>18-24</td></tr><tr><td>home-decor</td><td>25-35</td></tr><tr><td>mens-fashion</td><td>36-50</td></tr><tr><td>travel</td><td>36-50</td></tr><tr><td>beauty</td><td>18-24</td></tr><tr><td>travel</td><td>25-35</td></tr><tr><td>christmas</td><td>36-50</td></tr><tr><td>event-planning</td><td>25-35</td></tr><tr><td>christmas</td><td>18-24</td></tr><tr><td>home-decor</td><td>36-50</td></tr><tr><td>mens-fashion</td><td>36-50</td></tr><tr><td>art</td><td>18-24</td></tr><tr><td>education</td><td>50+</td></tr><tr><td>home-decor</td><td>25-35</td></tr><tr><td>diy-and-crafts</td><td>18-24</td></tr><tr><td>home-decor</td><td>25-35</td></tr><tr><td>home-decor</td><td>18-24</td></tr><tr><td>christmas</td><td>18-24</td></tr><tr><td>christmas</td><td>50+</td></tr><tr><td>event-planning</td><td>18-24</td></tr><tr><td>travel</td><td>18-24</td></tr><tr><td>home-decor</td><td>50+</td></tr><tr><td>mens-fashion</td><td>18-24</td></tr><tr><td>tattoos</td><td>18-24</td></tr><tr><td>travel</td><td>25-35</td></tr><tr><td>mens-fashion</td><td>50+</td></tr><tr><td>event-planning</td><td>36-50</td></tr><tr><td>tattoos</td><td>18-24</td></tr><tr><td>education</td><td>18-24</td></tr><tr><td>travel</td><td>18-24</td></tr><tr><td>art</td><td>25-35</td></tr><tr><td>event-planning</td><td>36-50</td></tr><tr><td>christmas</td><td>36-50</td></tr><tr><td>quotes</td><td>18-24</td></tr><tr><td>tattoos</td><td>25-35</td></tr><tr><td>mens-fashion</td><td>18-24</td></tr><tr><td>christmas</td><td>18-24</td></tr><tr><td>finance</td><td>36-50</td></tr><tr><td>travel</td><td>25-35</td></tr><tr><td>art</td><td>25-35</td></tr><tr><td>art</td><td>18-24</td></tr><tr><td>event-planning</td><td>36-50</td></tr><tr><td>beauty</td><td>25-35</td></tr><tr><td>tattoos</td><td>18-24</td></tr><tr><td>finance</td><td>18-24</td></tr><tr><td>finance</td><td>18-24</td></tr><tr><td>finance</td><td>18-24</td></tr><tr><td>quotes</td><td>18-24</td></tr><tr><td>home-decor</td><td>18-24</td></tr><tr><td>travel</td><td>25-35</td></tr><tr><td>travel</td><td>36-50</td></tr><tr><td>art</td><td>18-24</td></tr><tr><td>event-planning</td><td>25-35</td></tr><tr><td>finance</td><td>25-35</td></tr><tr><td>travel</td><td>36-50</td></tr><tr><td>finance</td><td>18-24</td></tr><tr><td>education</td><td>18-24</td></tr><tr><td>beauty</td><td>18-24</td></tr><tr><td>vehicles</td><td>18-24</td></tr><tr><td>beauty</td><td>36-50</td></tr><tr><td>travel</td><td>25-35</td></tr><tr><td>art</td><td>36-50</td></tr><tr><td>tattoos</td><td>25-35</td></tr><tr><td>education</td><td>18-24</td></tr><tr><td>art</td><td>25-35</td></tr><tr><td>christmas</td><td>18-24</td></tr><tr><td>art</td><td>18-24</td></tr><tr><td>travel</td><td>25-35</td></tr><tr><td>art</td><td>18-24</td></tr><tr><td>art</td><td>18-24</td></tr><tr><td>event-planning</td><td>18-24</td></tr><tr><td>home-decor</td><td>18-24</td></tr><tr><td>travel</td><td>18-24</td></tr><tr><td>beauty</td><td>18-24</td></tr><tr><td>mens-fashion</td><td>18-24</td></tr><tr><td>art</td><td>18-24</td></tr><tr><td>quotes</td><td>18-24</td></tr><tr><td>home-decor</td><td>25-35</td></tr><tr><td>vehicles</td><td>18-24</td></tr><tr><td>vehicles</td><td>36-50</td></tr><tr><td>beauty</td><td>36-50</td></tr><tr><td>education</td><td>18-24</td></tr><tr><td>finance</td><td>18-24</td></tr><tr><td>christmas</td><td>25-35</td></tr><tr><td>education</td><td>36-50</td></tr><tr><td>beauty</td><td>36-50</td></tr><tr><td>travel</td><td>25-35</td></tr><tr><td>travel</td><td>25-35</td></tr><tr><td>education</td><td>25-35</td></tr><tr><td>diy-and-crafts</td><td>36-50</td></tr><tr><td>home-decor</td><td>18-24</td></tr><tr><td>diy-and-crafts</td><td>36-50</td></tr><tr><td>home-decor</td><td>36-50</td></tr><tr><td>art</td><td>18-24</td></tr><tr><td>tattoos</td><td>18-24</td></tr><tr><td>art</td><td>36-50</td></tr><tr><td>education</td><td>18-24</td></tr><tr><td>art</td><td>18-24</td></tr><tr><td>quotes</td><td>25-35</td></tr><tr><td>education</td><td>18-24</td></tr><tr><td>beauty</td><td>18-24</td></tr><tr><td>finance</td><td>36-50</td></tr><tr><td>quotes</td><td>18-24</td></tr><tr><td>education</td><td>25-35</td></tr><tr><td>mens-fashion</td><td>25-35</td></tr><tr><td>home-decor</td><td>25-35</td></tr><tr><td>mens-fashion</td><td>50+</td></tr><tr><td>event-planning</td><td>25-35</td></tr><tr><td>quotes</td><td>18-24</td></tr><tr><td>beauty</td><td>25-35</td></tr><tr><td>finance</td><td>36-50</td></tr><tr><td>education</td><td>50+</td></tr><tr><td>christmas</td><td>18-24</td></tr><tr><td>christmas</td><td>36-50</td></tr><tr><td>diy-and-crafts</td><td>18-24</td></tr><tr><td>christmas</td><td>25-35</td></tr><tr><td>diy-and-crafts</td><td>18-24</td></tr><tr><td>tattoos</td><td>18-24</td></tr><tr><td>education</td><td>36-50</td></tr><tr><td>finance</td><td>36-50</td></tr><tr><td>education</td><td>18-24</td></tr><tr><td>home-decor</td><td>18-24</td></tr><tr><td>mens-fashion</td><td>25-35</td></tr><tr><td>event-planning</td><td>18-24</td></tr><tr><td>beauty</td><td>18-24</td></tr><tr><td>education</td><td>18-24</td></tr><tr><td>education</td><td>25-35</td></tr><tr><td>art</td><td>25-35</td></tr><tr><td>quotes</td><td>18-24</td></tr><tr><td>vehicles</td><td>36-50</td></tr><tr><td>art</td><td>18-24</td></tr><tr><td>diy-and-crafts</td><td>18-24</td></tr><tr><td>event-planning</td><td>18-24</td></tr><tr><td>art</td><td>50+</td></tr><tr><td>vehicles</td><td>25-35</td></tr><tr><td>diy-and-crafts</td><td>18-24</td></tr><tr><td>quotes</td><td>36-50</td></tr><tr><td>beauty</td><td>36-50</td></tr><tr><td>art</td><td>36-50</td></tr><tr><td>tattoos</td><td>25-35</td></tr><tr><td>tattoos</td><td>18-24</td></tr><tr><td>travel</td><td>36-50</td></tr><tr><td>art</td><td>18-24</td></tr><tr><td>tattoos</td><td>18-24</td></tr><tr><td>home-decor</td><td>18-24</td></tr><tr><td>event-planning</td><td>18-24</td></tr><tr><td>beauty</td><td>36-50</td></tr><tr><td>vehicles</td><td>25-35</td></tr><tr><td>travel</td><td>25-35</td></tr><tr><td>art</td><td>25-35</td></tr><tr><td>art</td><td>18-24</td></tr><tr><td>christmas</td><td>25-35</td></tr><tr><td>event-planning</td><td>25-35</td></tr><tr><td>vehicles</td><td>18-24</td></tr><tr><td>art</td><td>18-24</td></tr><tr><td>quotes</td><td>25-35</td></tr><tr><td>quotes</td><td>50+</td></tr><tr><td>beauty</td><td>50+</td></tr><tr><td>event-planning</td><td>25-35</td></tr><tr><td>beauty</td><td>25-35</td></tr><tr><td>quotes</td><td>18-24</td></tr><tr><td>event-planning</td><td>36-50</td></tr><tr><td>quotes</td><td>36-50</td></tr><tr><td>event-planning</td><td>50+</td></tr><tr><td>event-planning</td><td>25-35</td></tr><tr><td>event-planning</td><td>36-50</td></tr><tr><td>art</td><td>18-24</td></tr><tr><td>tattoos</td><td>36-50</td></tr><tr><td>art</td><td>18-24</td></tr><tr><td>home-decor</td><td>36-50</td></tr><tr><td>diy-and-crafts</td><td>36-50</td></tr><tr><td>event-planning</td><td>25-35</td></tr><tr><td>travel</td><td>18-24</td></tr><tr><td>tattoos</td><td>25-35</td></tr><tr><td>art</td><td>25-35</td></tr><tr><td>home-decor</td><td>50+</td></tr><tr><td>vehicles</td><td>36-50</td></tr><tr><td>event-planning</td><td>18-24</td></tr><tr><td>diy-and-crafts</td><td>50+</td></tr><tr><td>vehicles</td><td>18-24</td></tr><tr><td>travel</td><td>36-50</td></tr><tr><td>mens-fashion</td><td>50+</td></tr><tr><td>home-decor</td><td>18-24</td></tr><tr><td>quotes</td><td>36-50</td></tr><tr><td>beauty</td><td>25-35</td></tr><tr><td>art</td><td>18-24</td></tr><tr><td>mens-fashion</td><td>18-24</td></tr><tr><td>event-planning</td><td>50+</td></tr><tr><td>mens-fashion</td><td>18-24</td></tr><tr><td>beauty</td><td>50+</td></tr><tr><td>art</td><td>18-24</td></tr><tr><td>tattoos</td><td>18-24</td></tr><tr><td>tattoos</td><td>18-24</td></tr><tr><td>education</td><td>25-35</td></tr><tr><td>tattoos</td><td>18-24</td></tr><tr><td>art</td><td>50+</td></tr><tr><td>tattoos</td><td>18-24</td></tr><tr><td>home-decor</td><td>25-35</td></tr><tr><td>quotes</td><td>18-24</td></tr><tr><td>quotes</td><td>18-24</td></tr><tr><td>travel</td><td>36-50</td></tr><tr><td>mens-fashion</td><td>18-24</td></tr><tr><td>beauty</td><td>25-35</td></tr><tr><td>diy-and-crafts</td><td>50+</td></tr><tr><td>vehicles</td><td>25-35</td></tr><tr><td>tattoos</td><td>25-35</td></tr><tr><td>vehicles</td><td>36-50</td></tr><tr><td>vehicles</td><td>25-35</td></tr><tr><td>event-planning</td><td>25-35</td></tr><tr><td>event-planning</td><td>18-24</td></tr><tr><td>christmas</td><td>18-24</td></tr><tr><td>art</td><td>18-24</td></tr><tr><td>home-decor</td><td>25-35</td></tr><tr><td>education</td><td>36-50</td></tr><tr><td>christmas</td><td>18-24</td></tr><tr><td>finance</td><td>36-50</td></tr><tr><td>finance</td><td>18-24</td></tr><tr><td>beauty</td><td>36-50</td></tr><tr><td>art</td><td>18-24</td></tr><tr><td>beauty</td><td>50+</td></tr><tr><td>beauty</td><td>25-35</td></tr><tr><td>vehicles</td><td>50+</td></tr><tr><td>beauty</td><td>36-50</td></tr><tr><td>quotes</td><td>18-24</td></tr><tr><td>home-decor</td><td>25-35</td></tr><tr><td>quotes</td><td>18-24</td></tr><tr><td>finance</td><td>50+</td></tr><tr><td>tattoos</td><td>18-24</td></tr><tr><td>quotes</td><td>25-35</td></tr><tr><td>tattoos</td><td>18-24</td></tr><tr><td>quotes</td><td>18-24</td></tr><tr><td>event-planning</td><td>25-35</td></tr><tr><td>christmas</td><td>18-24</td></tr><tr><td>vehicles</td><td>50+</td></tr><tr><td>christmas</td><td>18-24</td></tr><tr><td>vehicles</td><td>36-50</td></tr><tr><td>diy-and-crafts</td><td>18-24</td></tr><tr><td>art</td><td>25-35</td></tr><tr><td>christmas</td><td>18-24</td></tr><tr><td>tattoos</td><td>25-35</td></tr><tr><td>event-planning</td><td>18-24</td></tr><tr><td>event-planning</td><td>18-24</td></tr><tr><td>diy-and-crafts</td><td>36-50</td></tr><tr><td>art</td><td>18-24</td></tr><tr><td>event-planning</td><td>25-35</td></tr><tr><td>vehicles</td><td>36-50</td></tr><tr><td>event-planning</td><td>25-35</td></tr><tr><td>christmas</td><td>36-50</td></tr><tr><td>diy-and-crafts</td><td>25-35</td></tr><tr><td>event-planning</td><td>25-35</td></tr><tr><td>finance</td><td>36-50</td></tr><tr><td>event-planning</td><td>18-24</td></tr><tr><td>tattoos</td><td>25-35</td></tr><tr><td>education</td><td>25-35</td></tr><tr><td>travel</td><td>36-50</td></tr><tr><td>beauty</td><td>18-24</td></tr><tr><td>quotes</td><td>50+</td></tr><tr><td>christmas</td><td>25-35</td></tr><tr><td>home-decor</td><td>18-24</td></tr><tr><td>event-planning</td><td>25-35</td></tr><tr><td>finance</td><td>18-24</td></tr><tr><td>event-planning</td><td>25-35</td></tr><tr><td>home-decor</td><td>18-24</td></tr><tr><td>mens-fashion</td><td>18-24</td></tr><tr><td>travel</td><td>36-50</td></tr><tr><td>christmas</td><td>18-24</td></tr><tr><td>diy-and-crafts</td><td>18-24</td></tr><tr><td>education</td><td>36-50</td></tr><tr><td>finance</td><td>25-35</td></tr><tr><td>tattoos</td><td>18-24</td></tr><tr><td>tattoos</td><td>18-24</td></tr><tr><td>christmas</td><td>25-35</td></tr><tr><td>quotes</td><td>25-35</td></tr><tr><td>finance</td><td>25-35</td></tr><tr><td>travel</td><td>18-24</td></tr><tr><td>christmas</td><td>36-50</td></tr><tr><td>quotes</td><td>18-24</td></tr><tr><td>quotes</td><td>18-24</td></tr><tr><td>diy-and-crafts</td><td>25-35</td></tr><tr><td>diy-and-crafts</td><td>25-35</td></tr><tr><td>art</td><td>36-50</td></tr><tr><td>tattoos</td><td>25-35</td></tr><tr><td>education</td><td>25-35</td></tr><tr><td>home-decor</td><td>36-50</td></tr><tr><td>quotes</td><td>25-35</td></tr><tr><td>home-decor</td><td>18-24</td></tr><tr><td>tattoos</td><td>18-24</td></tr><tr><td>tattoos</td><td>18-24</td></tr><tr><td>art</td><td>18-24</td></tr><tr><td>finance</td><td>25-35</td></tr><tr><td>education</td><td>25-35</td></tr><tr><td>education</td><td>25-35</td></tr><tr><td>art</td><td>18-24</td></tr><tr><td>tattoos</td><td>18-24</td></tr><tr><td>art</td><td>18-24</td></tr><tr><td>art</td><td>25-35</td></tr><tr><td>tattoos</td><td>36-50</td></tr><tr><td>beauty</td><td>18-24</td></tr><tr><td>beauty</td><td>25-35</td></tr><tr><td>beauty</td><td>25-35</td></tr><tr><td>travel</td><td>36-50</td></tr><tr><td>finance</td><td>18-24</td></tr><tr><td>finance</td><td>25-35</td></tr><tr><td>vehicles</td><td>25-35</td></tr><tr><td>beauty</td><td>36-50</td></tr><tr><td>tattoos</td><td>50+</td></tr><tr><td>vehicles</td><td>50+</td></tr><tr><td>art</td><td>18-24</td></tr><tr><td>mens-fashion</td><td>25-35</td></tr><tr><td>tattoos</td><td>18-24</td></tr><tr><td>home-decor</td><td>36-50</td></tr><tr><td>diy-and-crafts</td><td>50+</td></tr><tr><td>quotes</td><td>18-24</td></tr><tr><td>beauty</td><td>50+</td></tr><tr><td>quotes</td><td>36-50</td></tr><tr><td>finance</td><td>36-50</td></tr><tr><td>travel</td><td>25-35</td></tr><tr><td>vehicles</td><td>18-24</td></tr><tr><td>art</td><td>25-35</td></tr><tr><td>home-decor</td><td>25-35</td></tr><tr><td>tattoos</td><td>18-24</td></tr><tr><td>quotes</td><td>36-50</td></tr><tr><td>finance</td><td>36-50</td></tr><tr><td>art</td><td>36-50</td></tr><tr><td>travel</td><td>25-35</td></tr><tr><td>tattoos</td><td>18-24</td></tr><tr><td>travel</td><td>18-24</td></tr><tr><td>finance</td><td>36-50</td></tr><tr><td>education</td><td>18-24</td></tr><tr><td>mens-fashion</td><td>25-35</td></tr><tr><td>quotes</td><td>18-24</td></tr><tr><td>beauty</td><td>18-24</td></tr><tr><td>beauty</td><td>18-24</td></tr><tr><td>diy-and-crafts</td><td>18-24</td></tr><tr><td>education</td><td>18-24</td></tr><tr><td>diy-and-crafts</td><td>18-24</td></tr><tr><td>finance</td><td>50+</td></tr><tr><td>vehicles</td><td>25-35</td></tr><tr><td>finance</td><td>50+</td></tr><tr><td>home-decor</td><td>25-35</td></tr><tr><td>quotes</td><td>18-24</td></tr><tr><td>diy-and-crafts</td><td>18-24</td></tr><tr><td>christmas</td><td>18-24</td></tr><tr><td>quotes</td><td>18-24</td></tr><tr><td>vehicles</td><td>25-35</td></tr><tr><td>home-decor</td><td>25-35</td></tr><tr><td>diy-and-crafts</td><td>18-24</td></tr><tr><td>quotes</td><td>18-24</td></tr><tr><td>christmas</td><td>36-50</td></tr><tr><td>vehicles</td><td>36-50</td></tr><tr><td>home-decor</td><td>18-24</td></tr><tr><td>art</td><td>18-24</td></tr><tr><td>home-decor</td><td>36-50</td></tr><tr><td>quotes</td><td>18-24</td></tr><tr><td>diy-and-crafts</td><td>18-24</td></tr><tr><td>event-planning</td><td>18-24</td></tr><tr><td>art</td><td>36-50</td></tr><tr><td>quotes</td><td>50+</td></tr><tr><td>home-decor</td><td>36-50</td></tr><tr><td>finance</td><td>25-35</td></tr><tr><td>quotes</td><td>18-24</td></tr><tr><td>beauty</td><td>25-35</td></tr><tr><td>vehicles</td><td>25-35</td></tr><tr><td>diy-and-crafts</td><td>18-24</td></tr><tr><td>mens-fashion</td><td>18-24</td></tr><tr><td>education</td><td>18-24</td></tr><tr><td>home-decor</td><td>36-50</td></tr><tr><td>event-planning</td><td>50+</td></tr><tr><td>christmas</td><td>36-50</td></tr><tr><td>christmas</td><td>50+</td></tr><tr><td>home-decor</td><td>50+</td></tr><tr><td>education</td><td>18-24</td></tr><tr><td>tattoos</td><td>18-24</td></tr><tr><td>education</td><td>18-24</td></tr><tr><td>event-planning</td><td>25-35</td></tr><tr><td>diy-and-crafts</td><td>18-24</td></tr><tr><td>mens-fashion</td><td>25-35</td></tr><tr><td>mens-fashion</td><td>18-24</td></tr><tr><td>beauty</td><td>18-24</td></tr><tr><td>beauty</td><td>36-50</td></tr><tr><td>diy-and-crafts</td><td>18-24</td></tr><tr><td>travel</td><td>36-50</td></tr><tr><td>beauty</td><td>50+</td></tr><tr><td>christmas</td><td>18-24</td></tr><tr><td>beauty</td><td>18-24</td></tr><tr><td>beauty</td><td>18-24</td></tr><tr><td>quotes</td><td>18-24</td></tr><tr><td>mens-fashion</td><td>18-24</td></tr><tr><td>travel</td><td>18-24</td></tr><tr><td>mens-fashion</td><td>25-35</td></tr><tr><td>diy-and-crafts</td><td>36-50</td></tr><tr><td>art</td><td>18-24</td></tr><tr><td>travel</td><td>25-35</td></tr><tr><td>diy-and-crafts</td><td>25-35</td></tr><tr><td>art</td><td>18-24</td></tr><tr><td>diy-and-crafts</td><td>50+</td></tr><tr><td>finance</td><td>18-24</td></tr><tr><td>finance</td><td>25-35</td></tr><tr><td>diy-and-crafts</td><td>36-50</td></tr><tr><td>mens-fashion</td><td>25-35</td></tr><tr><td>diy-and-crafts</td><td>25-35</td></tr><tr><td>beauty</td><td>50+</td></tr><tr><td>home-decor</td><td>25-35</td></tr><tr><td>christmas</td><td>50+</td></tr><tr><td>travel</td><td>18-24</td></tr><tr><td>christmas</td><td>18-24</td></tr><tr><td>art</td><td>18-24</td></tr><tr><td>christmas</td><td>18-24</td></tr><tr><td>diy-and-crafts</td><td>18-24</td></tr><tr><td>event-planning</td><td>25-35</td></tr><tr><td>mens-fashion</td><td>36-50</td></tr><tr><td>event-planning</td><td>18-24</td></tr><tr><td>home-decor</td><td>18-24</td></tr><tr><td>education</td><td>18-24</td></tr><tr><td>travel</td><td>25-35</td></tr><tr><td>travel</td><td>36-50</td></tr><tr><td>diy-and-crafts</td><td>25-35</td></tr><tr><td>finance</td><td>18-24</td></tr><tr><td>diy-and-crafts</td><td>36-50</td></tr><tr><td>event-planning</td><td>50+</td></tr><tr><td>diy-and-crafts</td><td>18-24</td></tr><tr><td>christmas</td><td>50+</td></tr><tr><td>event-planning</td><td>18-24</td></tr><tr><td>travel</td><td>25-35</td></tr><tr><td>event-planning</td><td>18-24</td></tr><tr><td>education</td><td>18-24</td></tr><tr><td>diy-and-crafts</td><td>25-35</td></tr><tr><td>christmas</td><td>25-35</td></tr><tr><td>home-decor</td><td>18-24</td></tr><tr><td>education</td><td>25-35</td></tr><tr><td>education</td><td>18-24</td></tr><tr><td>diy-and-crafts</td><td>36-50</td></tr><tr><td>christmas</td><td>36-50</td></tr><tr><td>education</td><td>18-24</td></tr><tr><td>tattoos</td><td>25-35</td></tr><tr><td>quotes</td><td>25-35</td></tr><tr><td>event-planning</td><td>18-24</td></tr><tr><td>finance</td><td>36-50</td></tr><tr><td>diy-and-crafts</td><td>18-24</td></tr><tr><td>christmas</td><td>25-35</td></tr><tr><td>event-planning</td><td>18-24</td></tr><tr><td>event-planning</td><td>25-35</td></tr><tr><td>travel</td><td>50+</td></tr><tr><td>education</td><td>36-50</td></tr><tr><td>education</td><td>25-35</td></tr><tr><td>quotes</td><td>18-24</td></tr><tr><td>finance</td><td>36-50</td></tr><tr><td>travel</td><td>25-35</td></tr><tr><td>tattoos</td><td>36-50</td></tr><tr><td>quotes</td><td>25-35</td></tr><tr><td>quotes</td><td>18-24</td></tr><tr><td>finance</td><td>36-50</td></tr><tr><td>christmas</td><td>25-35</td></tr><tr><td>event-planning</td><td>18-24</td></tr><tr><td>christmas</td><td>25-35</td></tr><tr><td>education</td><td>36-50</td></tr><tr><td>travel</td><td>18-24</td></tr><tr><td>christmas</td><td>36-50</td></tr><tr><td>christmas</td><td>36-50</td></tr><tr><td>vehicles</td><td>25-35</td></tr><tr><td>diy-and-crafts</td><td>18-24</td></tr><tr><td>education</td><td>36-50</td></tr><tr><td>diy-and-crafts</td><td>25-35</td></tr><tr><td>christmas</td><td>18-24</td></tr><tr><td>art</td><td>25-35</td></tr><tr><td>diy-and-crafts</td><td>18-24</td></tr><tr><td>christmas</td><td>36-50</td></tr><tr><td>diy-and-crafts</td><td>18-24</td></tr><tr><td>tattoos</td><td>25-35</td></tr><tr><td>mens-fashion</td><td>36-50</td></tr><tr><td>christmas</td><td>36-50</td></tr><tr><td>diy-and-crafts</td><td>18-24</td></tr><tr><td>art</td><td>18-24</td></tr><tr><td>event-planning</td><td>25-35</td></tr><tr><td>event-planning</td><td>18-24</td></tr><tr><td>travel</td><td>25-35</td></tr><tr><td>christmas</td><td>25-35</td></tr><tr><td>quotes</td><td>18-24</td></tr><tr><td>finance</td><td>18-24</td></tr><tr><td>tattoos</td><td>25-35</td></tr><tr><td>education</td><td>50+</td></tr><tr><td>finance</td><td>50+</td></tr><tr><td>tattoos</td><td>18-24</td></tr><tr><td>art</td><td>18-24</td></tr><tr><td>tattoos</td><td>18-24</td></tr><tr><td>beauty</td><td>50+</td></tr><tr><td>event-planning</td><td>25-35</td></tr><tr><td>education</td><td>18-24</td></tr><tr><td>travel</td><td>36-50</td></tr><tr><td>education</td><td>25-35</td></tr><tr><td>travel</td><td>50+</td></tr><tr><td>diy-and-crafts</td><td>18-24</td></tr><tr><td>travel</td><td>18-24</td></tr><tr><td>art</td><td>25-35</td></tr><tr><td>travel</td><td>36-50</td></tr><tr><td>travel</td><td>18-24</td></tr><tr><td>mens-fashion</td><td>18-24</td></tr><tr><td>christmas</td><td>18-24</td></tr><tr><td>education</td><td>25-35</td></tr><tr><td>christmas</td><td>25-35</td></tr><tr><td>beauty</td><td>25-35</td></tr><tr><td>home-decor</td><td>36-50</td></tr><tr><td>event-planning</td><td>18-24</td></tr><tr><td>christmas</td><td>18-24</td></tr><tr><td>finance</td><td>18-24</td></tr><tr><td>home-decor</td><td>25-35</td></tr><tr><td>finance</td><td>18-24</td></tr><tr><td>beauty</td><td>36-50</td></tr><tr><td>christmas</td><td>36-50</td></tr><tr><td>finance</td><td>18-24</td></tr><tr><td>christmas</td><td>25-35</td></tr><tr><td>vehicles</td><td>36-50</td></tr><tr><td>vehicles</td><td>25-35</td></tr><tr><td>travel</td><td>18-24</td></tr><tr><td>christmas</td><td>25-35</td></tr><tr><td>mens-fashion</td><td>18-24</td></tr><tr><td>christmas</td><td>36-50</td></tr><tr><td>diy-and-crafts</td><td>25-35</td></tr><tr><td>christmas</td><td>36-50</td></tr><tr><td>art</td><td>25-35</td></tr><tr><td>art</td><td>25-35</td></tr><tr><td>education</td><td>25-35</td></tr><tr><td>art</td><td>50+</td></tr><tr><td>quotes</td><td>18-24</td></tr><tr><td>quotes</td><td>25-35</td></tr><tr><td>mens-fashion</td><td>36-50</td></tr><tr><td>beauty</td><td>25-35</td></tr><tr><td>mens-fashion</td><td>50+</td></tr><tr><td>event-planning</td><td>36-50</td></tr><tr><td>education</td><td>25-35</td></tr><tr><td>event-planning</td><td>18-24</td></tr><tr><td>art</td><td>25-35</td></tr><tr><td>vehicles</td><td>36-50</td></tr><tr><td>beauty</td><td>25-35</td></tr><tr><td>vehicles</td><td>50+</td></tr><tr><td>mens-fashion</td><td>18-24</td></tr><tr><td>quotes</td><td>18-24</td></tr><tr><td>mens-fashion</td><td>36-50</td></tr><tr><td>beauty</td><td>18-24</td></tr><tr><td>art</td><td>18-24</td></tr><tr><td>art</td><td>25-35</td></tr><tr><td>beauty</td><td>36-50</td></tr><tr><td>beauty</td><td>18-24</td></tr><tr><td>travel</td><td>25-35</td></tr><tr><td>travel</td><td>50+</td></tr><tr><td>beauty</td><td>36-50</td></tr><tr><td>mens-fashion</td><td>36-50</td></tr><tr><td>beauty</td><td>18-24</td></tr><tr><td>home-decor</td><td>18-24</td></tr><tr><td>vehicles</td><td>50+</td></tr><tr><td>tattoos</td><td>18-24</td></tr><tr><td>tattoos</td><td>25-35</td></tr><tr><td>vehicles</td><td>25-35</td></tr><tr><td>education</td><td>25-35</td></tr><tr><td>quotes</td><td>18-24</td></tr><tr><td>mens-fashion</td><td>50+</td></tr><tr><td>home-decor</td><td>25-35</td></tr><tr><td>art</td><td>18-24</td></tr><tr><td>vehicles</td><td>36-50</td></tr><tr><td>home-decor</td><td>25-35</td></tr><tr><td>mens-fashion</td><td>36-50</td></tr><tr><td>event-planning</td><td>36-50</td></tr><tr><td>finance</td><td>25-35</td></tr><tr><td>vehicles</td><td>36-50</td></tr><tr><td>event-planning</td><td>36-50</td></tr><tr><td>quotes</td><td>25-35</td></tr><tr><td>home-decor</td><td>18-24</td></tr><tr><td>mens-fashion</td><td>18-24</td></tr><tr><td>travel</td><td>18-24</td></tr><tr><td>beauty</td><td>18-24</td></tr><tr><td>vehicles</td><td>18-24</td></tr><tr><td>finance</td><td>18-24</td></tr><tr><td>mens-fashion</td><td>18-24</td></tr><tr><td>mens-fashion</td><td>18-24</td></tr><tr><td>mens-fashion</td><td>18-24</td></tr><tr><td>travel</td><td>18-24</td></tr><tr><td>quotes</td><td>18-24</td></tr><tr><td>mens-fashion</td><td>18-24</td></tr><tr><td>art</td><td>18-24</td></tr><tr><td>finance</td><td>18-24</td></tr><tr><td>mens-fashion</td><td>18-24</td></tr><tr><td>quotes</td><td>18-24</td></tr><tr><td>education</td><td>36-50</td></tr><tr><td>christmas</td><td>36-50</td></tr><tr><td>finance</td><td>25-35</td></tr><tr><td>travel</td><td>50+</td></tr><tr><td>event-planning</td><td>25-35</td></tr><tr><td>tattoos</td><td>18-24</td></tr><tr><td>art</td><td>18-24</td></tr><tr><td>art</td><td>25-35</td></tr><tr><td>education</td><td>18-24</td></tr><tr><td>travel</td><td>36-50</td></tr><tr><td>christmas</td><td>18-24</td></tr><tr><td>finance</td><td>18-24</td></tr><tr><td>christmas</td><td>36-50</td></tr><tr><td>education</td><td>25-35</td></tr><tr><td>diy-and-crafts</td><td>18-24</td></tr><tr><td>diy-and-crafts</td><td>25-35</td></tr><tr><td>event-planning</td><td>18-24</td></tr><tr><td>christmas</td><td>36-50</td></tr><tr><td>event-planning</td><td>36-50</td></tr><tr><td>mens-fashion</td><td>50+</td></tr><tr><td>education</td><td>18-24</td></tr><tr><td>home-decor</td><td>18-24</td></tr><tr><td>beauty</td><td>18-24</td></tr><tr><td>travel</td><td>25-35</td></tr><tr><td>art</td><td>36-50</td></tr><tr><td>tattoos</td><td>18-24</td></tr><tr><td>tattoos</td><td>18-24</td></tr><tr><td>finance</td><td>25-35</td></tr><tr><td>finance</td><td>18-24</td></tr><tr><td>mens-fashion</td><td>36-50</td></tr><tr><td>home-decor</td><td>18-24</td></tr><tr><td>tattoos</td><td>18-24</td></tr><tr><td>home-decor</td><td>18-24</td></tr><tr><td>christmas</td><td>18-24</td></tr><tr><td>travel</td><td>25-35</td></tr><tr><td>finance</td><td>25-35</td></tr><tr><td>event-planning</td><td>18-24</td></tr><tr><td>tattoos</td><td>18-24</td></tr><tr><td>event-planning</td><td>25-35</td></tr><tr><td>quotes</td><td>50+</td></tr><tr><td>travel</td><td>18-24</td></tr><tr><td>travel</td><td>36-50</td></tr><tr><td>tattoos</td><td>36-50</td></tr><tr><td>quotes</td><td>18-24</td></tr><tr><td>quotes</td><td>36-50</td></tr><tr><td>education</td><td>18-24</td></tr><tr><td>travel</td><td>18-24</td></tr><tr><td>diy-and-crafts</td><td>18-24</td></tr><tr><td>event-planning</td><td>18-24</td></tr><tr><td>diy-and-crafts</td><td>18-24</td></tr><tr><td>tattoos</td><td>18-24</td></tr><tr><td>mens-fashion</td><td>25-35</td></tr><tr><td>home-decor</td><td>25-35</td></tr><tr><td>christmas</td><td>25-35</td></tr><tr><td>finance</td><td>36-50</td></tr><tr><td>art</td><td>25-35</td></tr><tr><td>education</td><td>18-24</td></tr><tr><td>art</td><td>50+</td></tr><tr><td>christmas</td><td>25-35</td></tr><tr><td>finance</td><td>18-24</td></tr><tr><td>beauty</td><td>36-50</td></tr><tr><td>beauty</td><td>18-24</td></tr><tr><td>vehicles</td><td>36-50</td></tr><tr><td>diy-and-crafts</td><td>50+</td></tr><tr><td>tattoos</td><td>18-24</td></tr><tr><td>event-planning</td><td>25-35</td></tr><tr><td>tattoos</td><td>18-24</td></tr><tr><td>vehicles</td><td>18-24</td></tr><tr><td>christmas</td><td>25-35</td></tr><tr><td>art</td><td>18-24</td></tr><tr><td>beauty</td><td>36-50</td></tr><tr><td>tattoos</td><td>25-35</td></tr><tr><td>mens-fashion</td><td>36-50</td></tr><tr><td>tattoos</td><td>36-50</td></tr><tr><td>travel</td><td>18-24</td></tr><tr><td>christmas</td><td>25-35</td></tr><tr><td>beauty</td><td>18-24</td></tr><tr><td>beauty</td><td>36-50</td></tr><tr><td>vehicles</td><td>25-35</td></tr><tr><td>education</td><td>18-24</td></tr><tr><td>beauty</td><td>36-50</td></tr><tr><td>education</td><td>36-50</td></tr><tr><td>art</td><td>18-24</td></tr><tr><td>quotes</td><td>25-35</td></tr><tr><td>home-decor</td><td>25-35</td></tr><tr><td>finance</td><td>36-50</td></tr><tr><td>mens-fashion</td><td>18-24</td></tr><tr><td>event-planning</td><td>36-50</td></tr><tr><td>diy-and-crafts</td><td>36-50</td></tr><tr><td>diy-and-crafts</td><td>36-50</td></tr><tr><td>quotes</td><td>36-50</td></tr><tr><td>diy-and-crafts</td><td>50+</td></tr><tr><td>event-planning</td><td>18-24</td></tr><tr><td>tattoos</td><td>18-24</td></tr><tr><td>christmas</td><td>25-35</td></tr><tr><td>travel</td><td>18-24</td></tr><tr><td>finance</td><td>25-35</td></tr><tr><td>education</td><td>18-24</td></tr><tr><td>travel</td><td>18-24</td></tr><tr><td>diy-and-crafts</td><td>18-24</td></tr><tr><td>home-decor</td><td>25-35</td></tr><tr><td>beauty</td><td>25-35</td></tr><tr><td>art</td><td>50+</td></tr><tr><td>event-planning</td><td>25-35</td></tr><tr><td>education</td><td>25-35</td></tr><tr><td>christmas</td><td>25-35</td></tr><tr><td>tattoos</td><td>18-24</td></tr><tr><td>diy-and-crafts</td><td>18-24</td></tr><tr><td>diy-and-crafts</td><td>25-35</td></tr><tr><td>mens-fashion</td><td>36-50</td></tr><tr><td>event-planning</td><td>25-35</td></tr><tr><td>art</td><td>25-35</td></tr><tr><td>education</td><td>36-50</td></tr><tr><td>finance</td><td>18-24</td></tr><tr><td>quotes</td><td>18-24</td></tr><tr><td>beauty</td><td>36-50</td></tr><tr><td>quotes</td><td>50+</td></tr><tr><td>education</td><td>18-24</td></tr><tr><td>mens-fashion</td><td>18-24</td></tr><tr><td>tattoos</td><td>18-24</td></tr><tr><td>art</td><td>18-24</td></tr><tr><td>beauty</td><td>25-35</td></tr><tr><td>beauty</td><td>25-35</td></tr><tr><td>mens-fashion</td><td>25-35</td></tr><tr><td>art</td><td>36-50</td></tr><tr><td>education</td><td>25-35</td></tr><tr><td>home-decor</td><td>50+</td></tr><tr><td>tattoos</td><td>18-24</td></tr><tr><td>christmas</td><td>36-50</td></tr><tr><td>education</td><td>18-24</td></tr><tr><td>christmas</td><td>25-35</td></tr><tr><td>vehicles</td><td>36-50</td></tr><tr><td>quotes</td><td>36-50</td></tr><tr><td>vehicles</td><td>25-35</td></tr><tr><td>finance</td><td>36-50</td></tr><tr><td>tattoos</td><td>36-50</td></tr><tr><td>mens-fashion</td><td>25-35</td></tr><tr><td>finance</td><td>25-35</td></tr><tr><td>mens-fashion</td><td>25-35</td></tr><tr><td>education</td><td>25-35</td></tr><tr><td>mens-fashion</td><td>18-24</td></tr><tr><td>christmas</td><td>25-35</td></tr><tr><td>art</td><td>18-24</td></tr><tr><td>home-decor</td><td>36-50</td></tr><tr><td>christmas</td><td>36-50</td></tr><tr><td>christmas</td><td>36-50</td></tr><tr><td>mens-fashion</td><td>18-24</td></tr><tr><td>travel</td><td>18-24</td></tr><tr><td>diy-and-crafts</td><td>36-50</td></tr><tr><td>mens-fashion</td><td>18-24</td></tr><tr><td>quotes</td><td>18-24</td></tr><tr><td>art</td><td>18-24</td></tr><tr><td>tattoos</td><td>18-24</td></tr><tr><td>event-planning</td><td>25-35</td></tr><tr><td>tattoos</td><td>50+</td></tr><tr><td>travel</td><td>25-35</td></tr><tr><td>christmas</td><td>36-50</td></tr><tr><td>event-planning</td><td>36-50</td></tr><tr><td>art</td><td>36-50</td></tr><tr><td>home-decor</td><td>36-50</td></tr><tr><td>diy-and-crafts</td><td>18-24</td></tr><tr><td>mens-fashion</td><td>25-35</td></tr><tr><td>quotes</td><td>18-24</td></tr><tr><td>beauty</td><td>18-24</td></tr><tr><td>finance</td><td>18-24</td></tr><tr><td>event-planning</td><td>36-50</td></tr><tr><td>christmas</td><td>18-24</td></tr><tr><td>art</td><td>18-24</td></tr><tr><td>travel</td><td>18-24</td></tr><tr><td>quotes</td><td>18-24</td></tr><tr><td>home-decor</td><td>25-35</td></tr><tr><td>beauty</td><td>25-35</td></tr><tr><td>mens-fashion</td><td>25-35</td></tr><tr><td>event-planning</td><td>18-24</td></tr><tr><td>vehicles</td><td>18-24</td></tr><tr><td>mens-fashion</td><td>25-35</td></tr><tr><td>event-planning</td><td>36-50</td></tr><tr><td>art</td><td>18-24</td></tr><tr><td>home-decor</td><td>18-24</td></tr><tr><td>quotes</td><td>36-50</td></tr><tr><td>finance</td><td>18-24</td></tr><tr><td>beauty</td><td>25-35</td></tr><tr><td>diy-and-crafts</td><td>18-24</td></tr><tr><td>quotes</td><td>36-50</td></tr><tr><td>mens-fashion</td><td>50+</td></tr><tr><td>christmas</td><td>50+</td></tr><tr><td>quotes</td><td>50+</td></tr><tr><td>art</td><td>25-35</td></tr><tr><td>christmas</td><td>36-50</td></tr><tr><td>christmas</td><td>18-24</td></tr><tr><td>diy-and-crafts</td><td>18-24</td></tr><tr><td>finance</td><td>18-24</td></tr><tr><td>finance</td><td>18-24</td></tr><tr><td>diy-and-crafts</td><td>36-50</td></tr><tr><td>travel</td><td>18-24</td></tr><tr><td>education</td><td>25-35</td></tr><tr><td>travel</td><td>25-35</td></tr><tr><td>christmas</td><td>25-35</td></tr><tr><td>event-planning</td><td>25-35</td></tr><tr><td>diy-and-crafts</td><td>18-24</td></tr><tr><td>tattoos</td><td>18-24</td></tr><tr><td>art</td><td>25-35</td></tr><tr><td>finance</td><td>25-35</td></tr><tr><td>diy-and-crafts</td><td>18-24</td></tr><tr><td>christmas</td><td>50+</td></tr><tr><td>art</td><td>18-24</td></tr><tr><td>art</td><td>25-35</td></tr><tr><td>education</td><td>25-35</td></tr><tr><td>education</td><td>25-35</td></tr><tr><td>education</td><td>18-24</td></tr><tr><td>education</td><td>18-24</td></tr><tr><td>education</td><td>18-24</td></tr><tr><td>home-decor</td><td>36-50</td></tr><tr><td>art</td><td>50+</td></tr><tr><td>beauty</td><td>25-35</td></tr><tr><td>tattoos</td><td>18-24</td></tr><tr><td>quotes</td><td>36-50</td></tr><tr><td>christmas</td><td>18-24</td></tr><tr><td>education</td><td>18-24</td></tr><tr><td>home-decor</td><td>36-50</td></tr><tr><td>christmas</td><td>25-35</td></tr><tr><td>education</td><td>25-35</td></tr><tr><td>home-decor</td><td>18-24</td></tr><tr><td>mens-fashion</td><td>36-50</td></tr><tr><td>christmas</td><td>25-35</td></tr><tr><td>home-decor</td><td>50+</td></tr><tr><td>christmas</td><td>25-35</td></tr><tr><td>christmas</td><td>18-24</td></tr><tr><td>quotes</td><td>18-24</td></tr><tr><td>christmas</td><td>25-35</td></tr><tr><td>finance</td><td>25-35</td></tr><tr><td>quotes</td><td>25-35</td></tr><tr><td>diy-and-crafts</td><td>36-50</td></tr><tr><td>art</td><td>25-35</td></tr><tr><td>travel</td><td>18-24</td></tr><tr><td>diy-and-crafts</td><td>18-24</td></tr><tr><td>finance</td><td>25-35</td></tr><tr><td>travel</td><td>18-24</td></tr><tr><td>travel</td><td>18-24</td></tr><tr><td>beauty</td><td>18-24</td></tr><tr><td>education</td><td>25-35</td></tr><tr><td>art</td><td>18-24</td></tr><tr><td>travel</td><td>25-35</td></tr><tr><td>quotes</td><td>18-24</td></tr><tr><td>home-decor</td><td>25-35</td></tr><tr><td>beauty</td><td>18-24</td></tr><tr><td>tattoos</td><td>25-35</td></tr><tr><td>christmas</td><td>25-35</td></tr><tr><td>art</td><td>18-24</td></tr><tr><td>art</td><td>25-35</td></tr><tr><td>diy-and-crafts</td><td>25-35</td></tr><tr><td>art</td><td>18-24</td></tr><tr><td>beauty</td><td>18-24</td></tr><tr><td>tattoos</td><td>18-24</td></tr><tr><td>beauty</td><td>18-24</td></tr><tr><td>quotes</td><td>18-24</td></tr><tr><td>beauty</td><td>18-24</td></tr><tr><td>mens-fashion</td><td>18-24</td></tr><tr><td>vehicles</td><td>25-35</td></tr><tr><td>vehicles</td><td>36-50</td></tr><tr><td>education</td><td>25-35</td></tr><tr><td>christmas</td><td>36-50</td></tr><tr><td>diy-and-crafts</td><td>36-50</td></tr><tr><td>art</td><td>36-50</td></tr><tr><td>christmas</td><td>18-24</td></tr><tr><td>education</td><td>18-24</td></tr><tr><td>diy-and-crafts</td><td>18-24</td></tr><tr><td>art</td><td>18-24</td></tr><tr><td>christmas</td><td>18-24</td></tr><tr><td>travel</td><td>18-24</td></tr><tr><td>event-planning</td><td>25-35</td></tr><tr><td>mens-fashion</td><td>25-35</td></tr><tr><td>art</td><td>18-24</td></tr><tr><td>mens-fashion</td><td>36-50</td></tr><tr><td>vehicles</td><td>50+</td></tr><tr><td>travel</td><td>18-24</td></tr><tr><td>diy-and-crafts</td><td>25-35</td></tr><tr><td>beauty</td><td>36-50</td></tr><tr><td>art</td><td>36-50</td></tr><tr><td>quotes</td><td>50+</td></tr><tr><td>christmas</td><td>25-35</td></tr><tr><td>beauty</td><td>25-35</td></tr><tr><td>vehicles</td><td>36-50</td></tr><tr><td>mens-fashion</td><td>50+</td></tr><tr><td>mens-fashion</td><td>25-35</td></tr><tr><td>vehicles</td><td>18-24</td></tr><tr><td>finance</td><td>50+</td></tr><tr><td>quotes</td><td>25-35</td></tr><tr><td>finance</td><td>36-50</td></tr><tr><td>tattoos</td><td>36-50</td></tr><tr><td>tattoos</td><td>18-24</td></tr><tr><td>finance</td><td>36-50</td></tr><tr><td>home-decor</td><td>50+</td></tr><tr><td>christmas</td><td>25-35</td></tr><tr><td>travel</td><td>18-24</td></tr><tr><td>quotes</td><td>36-50</td></tr><tr><td>vehicles</td><td>36-50</td></tr><tr><td>mens-fashion</td><td>18-24</td></tr><tr><td>tattoos</td><td>36-50</td></tr><tr><td>finance</td><td>18-24</td></tr><tr><td>vehicles</td><td>36-50</td></tr><tr><td>vehicles</td><td>18-24</td></tr><tr><td>quotes</td><td>18-24</td></tr><tr><td>home-decor</td><td>25-35</td></tr><tr><td>travel</td><td>25-35</td></tr><tr><td>education</td><td>25-35</td></tr><tr><td>diy-and-crafts</td><td>18-24</td></tr><tr><td>quotes</td><td>18-24</td></tr><tr><td>finance</td><td>50+</td></tr><tr><td>travel</td><td>18-24</td></tr><tr><td>christmas</td><td>25-35</td></tr><tr><td>education</td><td>18-24</td></tr><tr><td>christmas</td><td>18-24</td></tr><tr><td>finance</td><td>25-35</td></tr><tr><td>finance</td><td>25-35</td></tr><tr><td>quotes</td><td>18-24</td></tr><tr><td>finance</td><td>25-35</td></tr><tr><td>tattoos</td><td>36-50</td></tr><tr><td>diy-and-crafts</td><td>36-50</td></tr><tr><td>christmas</td><td>18-24</td></tr><tr><td>event-planning</td><td>18-24</td></tr><tr><td>vehicles</td><td>18-24</td></tr><tr><td>finance</td><td>18-24</td></tr><tr><td>diy-and-crafts</td><td>18-24</td></tr><tr><td>vehicles</td><td>36-50</td></tr><tr><td>education</td><td>25-35</td></tr><tr><td>christmas</td><td>25-35</td></tr><tr><td>art</td><td>18-24</td></tr><tr><td>tattoos</td><td>18-24</td></tr><tr><td>education</td><td>36-50</td></tr><tr><td>finance</td><td>36-50</td></tr><tr><td>finance</td><td>25-35</td></tr><tr><td>christmas</td><td>18-24</td></tr><tr><td>education</td><td>18-24</td></tr><tr><td>mens-fashion</td><td>18-24</td></tr><tr><td>finance</td><td>18-24</td></tr><tr><td>event-planning</td><td>25-35</td></tr><tr><td>art</td><td>18-24</td></tr><tr><td>home-decor</td><td>36-50</td></tr><tr><td>diy-and-crafts</td><td>18-24</td></tr><tr><td>christmas</td><td>18-24</td></tr><tr><td>art</td><td>18-24</td></tr><tr><td>education</td><td>18-24</td></tr><tr><td>diy-and-crafts</td><td>36-50</td></tr><tr><td>vehicles</td><td>25-35</td></tr><tr><td>christmas</td><td>25-35</td></tr><tr><td>home-decor</td><td>18-24</td></tr><tr><td>travel</td><td>18-24</td></tr><tr><td>vehicles</td><td>25-35</td></tr><tr><td>event-planning</td><td>25-35</td></tr><tr><td>education</td><td>25-35</td></tr><tr><td>home-decor</td><td>25-35</td></tr><tr><td>vehicles</td><td>18-24</td></tr><tr><td>christmas</td><td>25-35</td></tr><tr><td>diy-and-crafts</td><td>18-24</td></tr><tr><td>art</td><td>18-24</td></tr><tr><td>finance</td><td>36-50</td></tr><tr><td>travel</td><td>25-35</td></tr><tr><td>education</td><td>25-35</td></tr><tr><td>finance</td><td>36-50</td></tr><tr><td>event-planning</td><td>18-24</td></tr><tr><td>finance</td><td>18-24</td></tr><tr><td>art</td><td>18-24</td></tr><tr><td>tattoos</td><td>36-50</td></tr><tr><td>finance</td><td>18-24</td></tr><tr><td>travel</td><td>36-50</td></tr><tr><td>travel</td><td>36-50</td></tr><tr><td>vehicles</td><td>18-24</td></tr><tr><td>tattoos</td><td>25-35</td></tr><tr><td>event-planning</td><td>25-35</td></tr><tr><td>travel</td><td>25-35</td></tr><tr><td>art</td><td>18-24</td></tr><tr><td>home-decor</td><td>25-35</td></tr><tr><td>tattoos</td><td>25-35</td></tr><tr><td>diy-and-crafts</td><td>36-50</td></tr><tr><td>art</td><td>18-24</td></tr><tr><td>art</td><td>18-24</td></tr><tr><td>travel</td><td>25-35</td></tr><tr><td>quotes</td><td>18-24</td></tr><tr><td>diy-and-crafts</td><td>50+</td></tr><tr><td>finance</td><td>50+</td></tr><tr><td>beauty</td><td>36-50</td></tr><tr><td>home-decor</td><td>25-35</td></tr><tr><td>christmas</td><td>36-50</td></tr><tr><td>education</td><td>18-24</td></tr><tr><td>tattoos</td><td>18-24</td></tr><tr><td>education</td><td>36-50</td></tr><tr><td>education</td><td>25-35</td></tr><tr><td>home-decor</td><td>18-24</td></tr><tr><td>travel</td><td>18-24</td></tr><tr><td>christmas</td><td>18-24</td></tr><tr><td>diy-and-crafts</td><td>18-24</td></tr><tr><td>finance</td><td>18-24</td></tr><tr><td>mens-fashion</td><td>36-50</td></tr><tr><td>vehicles</td><td>25-35</td></tr><tr><td>vehicles</td><td>36-50</td></tr><tr><td>vehicles</td><td>25-35</td></tr><tr><td>mens-fashion</td><td>25-35</td></tr><tr><td>vehicles</td><td>50+</td></tr><tr><td>vehicles</td><td>25-35</td></tr><tr><td>mens-fashion</td><td>36-50</td></tr><tr><td>vehicles</td><td>50+</td></tr><tr><td>beauty</td><td>25-35</td></tr><tr><td>mens-fashion</td><td>18-24</td></tr><tr><td>tattoos</td><td>18-24</td></tr><tr><td>beauty</td><td>50+</td></tr><tr><td>mens-fashion</td><td>50+</td></tr><tr><td>mens-fashion</td><td>25-35</td></tr><tr><td>art</td><td>50+</td></tr><tr><td>mens-fashion</td><td>36-50</td></tr><tr><td>beauty</td><td>50+</td></tr><tr><td>vehicles</td><td>18-24</td></tr><tr><td>art</td><td>25-35</td></tr><tr><td>vehicles</td><td>50+</td></tr><tr><td>quotes</td><td>18-24</td></tr><tr><td>vehicles</td><td>18-24</td></tr><tr><td>beauty</td><td>50+</td></tr><tr><td>vehicles</td><td>50+</td></tr><tr><td>art</td><td>36-50</td></tr><tr><td>art</td><td>36-50</td></tr><tr><td>beauty</td><td>50+</td></tr><tr><td>quotes</td><td>18-24</td></tr><tr><td>beauty</td><td>36-50</td></tr><tr><td>tattoos</td><td>50+</td></tr><tr><td>mens-fashion</td><td>25-35</td></tr><tr><td>mens-fashion</td><td>25-35</td></tr><tr><td>mens-fashion</td><td>36-50</td></tr><tr><td>vehicles</td><td>25-35</td></tr><tr><td>vehicles</td><td>25-35</td></tr><tr><td>tattoos</td><td>18-24</td></tr><tr><td>beauty</td><td>25-35</td></tr><tr><td>mens-fashion</td><td>18-24</td></tr><tr><td>art</td><td>50+</td></tr><tr><td>travel</td><td>25-35</td></tr><tr><td>quotes</td><td>25-35</td></tr><tr><td>home-decor</td><td>36-50</td></tr><tr><td>vehicles</td><td>18-24</td></tr><tr><td>art</td><td>50+</td></tr><tr><td>art</td><td>25-35</td></tr><tr><td>tattoos</td><td>18-24</td></tr><tr><td>travel</td><td>25-35</td></tr><tr><td>beauty</td><td>25-35</td></tr><tr><td>art</td><td>18-24</td></tr><tr><td>finance</td><td>18-24</td></tr><tr><td>quotes</td><td>18-24</td></tr><tr><td>travel</td><td>18-24</td></tr><tr><td>education</td><td>25-35</td></tr><tr><td>christmas</td><td>18-24</td></tr><tr><td>finance</td><td>36-50</td></tr><tr><td>diy-and-crafts</td><td>36-50</td></tr><tr><td>art</td><td>36-50</td></tr><tr><td>mens-fashion</td><td>36-50</td></tr><tr><td>mens-fashion</td><td>18-24</td></tr><tr><td>finance</td><td>36-50</td></tr><tr><td>travel</td><td>25-35</td></tr><tr><td>mens-fashion</td><td>25-35</td></tr><tr><td>tattoos</td><td>36-50</td></tr><tr><td>finance</td><td>50+</td></tr><tr><td>mens-fashion</td><td>18-24</td></tr><tr><td>tattoos</td><td>18-24</td></tr><tr><td>quotes</td><td>36-50</td></tr><tr><td>beauty</td><td>25-35</td></tr><tr><td>education</td><td>18-24</td></tr><tr><td>finance</td><td>25-35</td></tr><tr><td>tattoos</td><td>18-24</td></tr><tr><td>diy-and-crafts</td><td>18-24</td></tr><tr><td>art</td><td>18-24</td></tr><tr><td>home-decor</td><td>18-24</td></tr><tr><td>mens-fashion</td><td>18-24</td></tr><tr><td>quotes</td><td>18-24</td></tr><tr><td>home-decor</td><td>25-35</td></tr><tr><td>education</td><td>25-35</td></tr><tr><td>finance</td><td>36-50</td></tr><tr><td>finance</td><td>18-24</td></tr><tr><td>christmas</td><td>18-24</td></tr><tr><td>art</td><td>18-24</td></tr><tr><td>finance</td><td>18-24</td></tr><tr><td>vehicles</td><td>36-50</td></tr><tr><td>art</td><td>18-24</td></tr><tr><td>education</td><td>18-24</td></tr><tr><td>tattoos</td><td>18-24</td></tr><tr><td>art</td><td>50+</td></tr><tr><td>art</td><td>18-24</td></tr><tr><td>home-decor</td><td>36-50</td></tr><tr><td>art</td><td>18-24</td></tr><tr><td>finance</td><td>18-24</td></tr><tr><td>art</td><td>36-50</td></tr><tr><td>christmas</td><td>18-24</td></tr><tr><td>quotes</td><td>36-50</td></tr><tr><td>diy-and-crafts</td><td>50+</td></tr><tr><td>education</td><td>36-50</td></tr><tr><td>education</td><td>18-24</td></tr><tr><td>finance</td><td>36-50</td></tr><tr><td>travel</td><td>36-50</td></tr><tr><td>event-planning</td><td>18-24</td></tr><tr><td>diy-and-crafts</td><td>25-35</td></tr><tr><td>education</td><td>25-35</td></tr><tr><td>tattoos</td><td>25-35</td></tr><tr><td>beauty</td><td>18-24</td></tr><tr><td>travel</td><td>18-24</td></tr><tr><td>diy-and-crafts</td><td>18-24</td></tr><tr><td>finance</td><td>36-50</td></tr><tr><td>tattoos</td><td>18-24</td></tr><tr><td>education</td><td>18-24</td></tr><tr><td>finance</td><td>18-24</td></tr><tr><td>mens-fashion</td><td>50+</td></tr><tr><td>quotes</td><td>25-35</td></tr><tr><td>vehicles</td><td>18-24</td></tr><tr><td>quotes</td><td>25-35</td></tr><tr><td>finance</td><td>50+</td></tr><tr><td>tattoos</td><td>18-24</td></tr><tr><td>travel</td><td>18-24</td></tr><tr><td>finance</td><td>18-24</td></tr><tr><td>vehicles</td><td>25-35</td></tr><tr><td>quotes</td><td>18-24</td></tr><tr><td>mens-fashion</td><td>25-35</td></tr><tr><td>diy-and-crafts</td><td>25-35</td></tr><tr><td>event-planning</td><td>36-50</td></tr><tr><td>travel</td><td>18-24</td></tr><tr><td>quotes</td><td>36-50</td></tr><tr><td>diy-and-crafts</td><td>25-35</td></tr><tr><td>art</td><td>36-50</td></tr><tr><td>home-decor</td><td>36-50</td></tr><tr><td>mens-fashion</td><td>18-24</td></tr><tr><td>art</td><td>18-24</td></tr><tr><td>finance</td><td>36-50</td></tr><tr><td>vehicles</td><td>36-50</td></tr><tr><td>event-planning</td><td>18-24</td></tr><tr><td>finance</td><td>18-24</td></tr><tr><td>travel</td><td>18-24</td></tr><tr><td>diy-and-crafts</td><td>18-24</td></tr><tr><td>quotes</td><td>50+</td></tr><tr><td>christmas</td><td>18-24</td></tr><tr><td>tattoos</td><td>18-24</td></tr><tr><td>christmas</td><td>50+</td></tr><tr><td>education</td><td>25-35</td></tr><tr><td>travel</td><td>18-24</td></tr><tr><td>diy-and-crafts</td><td>36-50</td></tr><tr><td>mens-fashion</td><td>18-24</td></tr><tr><td>home-decor</td><td>18-24</td></tr><tr><td>diy-and-crafts</td><td>18-24</td></tr><tr><td>mens-fashion</td><td>25-35</td></tr><tr><td>home-decor</td><td>18-24</td></tr><tr><td>tattoos</td><td>18-24</td></tr><tr><td>event-planning</td><td>25-35</td></tr><tr><td>finance</td><td>36-50</td></tr><tr><td>quotes</td><td>36-50</td></tr><tr><td>quotes</td><td>18-24</td></tr><tr><td>quotes</td><td>25-35</td></tr><tr><td>travel</td><td>18-24</td></tr><tr><td>mens-fashion</td><td>36-50</td></tr><tr><td>education</td><td>18-24</td></tr><tr><td>art</td><td>18-24</td></tr><tr><td>education</td><td>18-24</td></tr><tr><td>art</td><td>25-35</td></tr><tr><td>home-decor</td><td>25-35</td></tr><tr><td>tattoos</td><td>18-24</td></tr><tr><td>christmas</td><td>25-35</td></tr><tr><td>quotes</td><td>25-35</td></tr><tr><td>tattoos</td><td>18-24</td></tr><tr><td>finance</td><td>25-35</td></tr><tr><td>education</td><td>36-50</td></tr><tr><td>event-planning</td><td>18-24</td></tr><tr><td>art</td><td>18-24</td></tr><tr><td>beauty</td><td>25-35</td></tr><tr><td>mens-fashion</td><td>25-35</td></tr><tr><td>beauty</td><td>18-24</td></tr><tr><td>quotes</td><td>18-24</td></tr><tr><td>travel</td><td>25-35</td></tr><tr><td>diy-and-crafts</td><td>36-50</td></tr><tr><td>vehicles</td><td>50+</td></tr><tr><td>diy-and-crafts</td><td>25-35</td></tr><tr><td>mens-fashion</td><td>36-50</td></tr><tr><td>finance</td><td>18-24</td></tr><tr><td>quotes</td><td>50+</td></tr><tr><td>mens-fashion</td><td>18-24</td></tr><tr><td>beauty</td><td>50+</td></tr><tr><td>travel</td><td>18-24</td></tr><tr><td>vehicles</td><td>25-35</td></tr><tr><td>mens-fashion</td><td>18-24</td></tr><tr><td>beauty</td><td>25-35</td></tr><tr><td>event-planning</td><td>36-50</td></tr><tr><td>finance</td><td>25-35</td></tr><tr><td>art</td><td>18-24</td></tr><tr><td>travel</td><td>25-35</td></tr><tr><td>mens-fashion</td><td>18-24</td></tr><tr><td>education</td><td>18-24</td></tr><tr><td>event-planning</td><td>18-24</td></tr><tr><td>christmas</td><td>18-24</td></tr><tr><td>travel</td><td>36-50</td></tr><tr><td>tattoos</td><td>18-24</td></tr><tr><td>art</td><td>36-50</td></tr><tr><td>tattoos</td><td>18-24</td></tr><tr><td>beauty</td><td>36-50</td></tr><tr><td>christmas</td><td>25-35</td></tr><tr><td>art</td><td>18-24</td></tr><tr><td>beauty</td><td>36-50</td></tr><tr><td>quotes</td><td>25-35</td></tr><tr><td>tattoos</td><td>18-24</td></tr><tr><td>art</td><td>18-24</td></tr><tr><td>christmas</td><td>36-50</td></tr><tr><td>education</td><td>18-24</td></tr><tr><td>art</td><td>25-35</td></tr><tr><td>diy-and-crafts</td><td>18-24</td></tr><tr><td>travel</td><td>25-35</td></tr><tr><td>vehicles</td><td>50+</td></tr><tr><td>tattoos</td><td>18-24</td></tr><tr><td>christmas</td><td>25-35</td></tr><tr><td>beauty</td><td>36-50</td></tr><tr><td>vehicles</td><td>50+</td></tr><tr><td>mens-fashion</td><td>18-24</td></tr><tr><td>vehicles</td><td>50+</td></tr><tr><td>mens-fashion</td><td>25-35</td></tr><tr><td>vehicles</td><td>36-50</td></tr><tr><td>beauty</td><td>18-24</td></tr><tr><td>vehicles</td><td>18-24</td></tr><tr><td>quotes</td><td>25-35</td></tr><tr><td>travel</td><td>18-24</td></tr><tr><td>vehicles</td><td>25-35</td></tr><tr><td>beauty</td><td>18-24</td></tr><tr><td>diy-and-crafts</td><td>18-24</td></tr><tr><td>vehicles</td><td>25-35</td></tr><tr><td>tattoos</td><td>36-50</td></tr><tr><td>vehicles</td><td>25-35</td></tr><tr><td>beauty</td><td>36-50</td></tr><tr><td>beauty</td><td>18-24</td></tr><tr><td>quotes</td><td>25-35</td></tr><tr><td>vehicles</td><td>18-24</td></tr><tr><td>vehicles</td><td>25-35</td></tr><tr><td>diy-and-crafts</td><td>18-24</td></tr><tr><td>tattoos</td><td>18-24</td></tr><tr><td>art</td><td>18-24</td></tr><tr><td>vehicles</td><td>25-35</td></tr><tr><td>finance</td><td>25-35</td></tr><tr><td>tattoos</td><td>18-24</td></tr><tr><td>tattoos</td><td>36-50</td></tr><tr><td>home-decor</td><td>50+</td></tr><tr><td>education</td><td>18-24</td></tr><tr><td>art</td><td>18-24</td></tr><tr><td>finance</td><td>25-35</td></tr><tr><td>event-planning</td><td>25-35</td></tr><tr><td>tattoos</td><td>18-24</td></tr><tr><td>christmas</td><td>25-35</td></tr><tr><td>mens-fashion</td><td>18-24</td></tr><tr><td>home-decor</td><td>25-35</td></tr><tr><td>mens-fashion</td><td>18-24</td></tr><tr><td>home-decor</td><td>18-24</td></tr><tr><td>quotes</td><td>18-24</td></tr><tr><td>home-decor</td><td>25-35</td></tr><tr><td>tattoos</td><td>18-24</td></tr><tr><td>travel</td><td>36-50</td></tr><tr><td>travel</td><td>36-50</td></tr><tr><td>beauty</td><td>18-24</td></tr><tr><td>art</td><td>18-24</td></tr><tr><td>education</td><td>18-24</td></tr><tr><td>travel</td><td>50+</td></tr><tr><td>event-planning</td><td>18-24</td></tr><tr><td>beauty</td><td>25-35</td></tr><tr><td>vehicles</td><td>36-50</td></tr><tr><td>quotes</td><td>36-50</td></tr><tr><td>beauty</td><td>25-35</td></tr><tr><td>christmas</td><td>25-35</td></tr><tr><td>finance</td><td>25-35</td></tr><tr><td>travel</td><td>36-50</td></tr><tr><td>travel</td><td>18-24</td></tr><tr><td>diy-and-crafts</td><td>18-24</td></tr><tr><td>beauty</td><td>18-24</td></tr><tr><td>quotes</td><td>18-24</td></tr><tr><td>quotes</td><td>18-24</td></tr><tr><td>mens-fashion</td><td>36-50</td></tr><tr><td>tattoos</td><td>18-24</td></tr><tr><td>event-planning</td><td>36-50</td></tr><tr><td>education</td><td>18-24</td></tr><tr><td>vehicles</td><td>36-50</td></tr><tr><td>christmas</td><td>18-24</td></tr><tr><td>beauty</td><td>18-24</td></tr><tr><td>tattoos</td><td>18-24</td></tr><tr><td>vehicles</td><td>50+</td></tr><tr><td>travel</td><td>50+</td></tr><tr><td>art</td><td>18-24</td></tr><tr><td>art</td><td>36-50</td></tr><tr><td>finance</td><td>18-24</td></tr><tr><td>tattoos</td><td>18-24</td></tr><tr><td>beauty</td><td>36-50</td></tr><tr><td>home-decor</td><td>18-24</td></tr><tr><td>christmas</td><td>25-35</td></tr><tr><td>education</td><td>25-35</td></tr><tr><td>finance</td><td>18-24</td></tr><tr><td>christmas</td><td>50+</td></tr><tr><td>mens-fashion</td><td>18-24</td></tr><tr><td>finance</td><td>36-50</td></tr><tr><td>diy-and-crafts</td><td>25-35</td></tr><tr><td>home-decor</td><td>36-50</td></tr><tr><td>education</td><td>18-24</td></tr><tr><td>education</td><td>18-24</td></tr><tr><td>quotes</td><td>18-24</td></tr><tr><td>diy-and-crafts</td><td>25-35</td></tr><tr><td>travel</td><td>25-35</td></tr><tr><td>christmas</td><td>18-24</td></tr><tr><td>home-decor</td><td>18-24</td></tr><tr><td>event-planning</td><td>25-35</td></tr><tr><td>vehicles</td><td>18-24</td></tr><tr><td>art</td><td>36-50</td></tr><tr><td>education</td><td>18-24</td></tr><tr><td>tattoos</td><td>18-24</td></tr><tr><td>tattoos</td><td>18-24</td></tr><tr><td>art</td><td>18-24</td></tr><tr><td>art</td><td>18-24</td></tr><tr><td>art</td><td>18-24</td></tr><tr><td>education</td><td>18-24</td></tr><tr><td>home-decor</td><td>25-35</td></tr><tr><td>education</td><td>18-24</td></tr><tr><td>home-decor</td><td>50+</td></tr><tr><td>diy-and-crafts</td><td>36-50</td></tr><tr><td>event-planning</td><td>25-35</td></tr><tr><td>quotes</td><td>18-24</td></tr><tr><td>event-planning</td><td>25-35</td></tr><tr><td>education</td><td>18-24</td></tr><tr><td>tattoos</td><td>18-24</td></tr><tr><td>vehicles</td><td>50+</td></tr><tr><td>travel</td><td>50+</td></tr><tr><td>education</td><td>18-24</td></tr><tr><td>christmas</td><td>18-24</td></tr><tr><td>vehicles</td><td>25-35</td></tr><tr><td>education</td><td>18-24</td></tr><tr><td>vehicles</td><td>25-35</td></tr><tr><td>finance</td><td>36-50</td></tr><tr><td>finance</td><td>36-50</td></tr><tr><td>home-decor</td><td>25-35</td></tr><tr><td>vehicles</td><td>18-24</td></tr><tr><td>mens-fashion</td><td>25-35</td></tr><tr><td>home-decor</td><td>25-35</td></tr><tr><td>event-planning</td><td>50+</td></tr><tr><td>art</td><td>25-35</td></tr><tr><td>tattoos</td><td>18-24</td></tr><tr><td>travel</td><td>25-35</td></tr><tr><td>tattoos</td><td>18-24</td></tr><tr><td>quotes</td><td>18-24</td></tr><tr><td>event-planning</td><td>50+</td></tr><tr><td>quotes</td><td>36-50</td></tr><tr><td>art</td><td>18-24</td></tr><tr><td>finance</td><td>25-35</td></tr><tr><td>travel</td><td>18-24</td></tr><tr><td>finance</td><td>25-35</td></tr><tr><td>mens-fashion</td><td>50+</td></tr><tr><td>beauty</td><td>36-50</td></tr><tr><td>home-decor</td><td>18-24</td></tr><tr><td>vehicles</td><td>36-50</td></tr><tr><td>art</td><td>18-24</td></tr><tr><td>tattoos</td><td>18-24</td></tr><tr><td>beauty</td><td>25-35</td></tr><tr><td>education</td><td>18-24</td></tr><tr><td>vehicles</td><td>36-50</td></tr><tr><td>beauty</td><td>36-50</td></tr><tr><td>beauty</td><td>18-24</td></tr><tr><td>vehicles</td><td>50+</td></tr><tr><td>christmas</td><td>18-24</td></tr><tr><td>event-planning</td><td>25-35</td></tr><tr><td>art</td><td>25-35</td></tr><tr><td>tattoos</td><td>18-24</td></tr><tr><td>finance</td><td>36-50</td></tr><tr><td>quotes</td><td>36-50</td></tr><tr><td>event-planning</td><td>25-35</td></tr><tr><td>travel</td><td>36-50</td></tr><tr><td>vehicles</td><td>18-24</td></tr><tr><td>mens-fashion</td><td>18-24</td></tr><tr><td>event-planning</td><td>25-35</td></tr><tr><td>tattoos</td><td>18-24</td></tr><tr><td>travel</td><td>25-35</td></tr><tr><td>home-decor</td><td>36-50</td></tr><tr><td>quotes</td><td>36-50</td></tr><tr><td>art</td><td>36-50</td></tr><tr><td>quotes</td><td>36-50</td></tr><tr><td>home-decor</td><td>25-35</td></tr><tr><td>quotes</td><td>18-24</td></tr><tr><td>event-planning</td><td>36-50</td></tr><tr><td>travel</td><td>25-35</td></tr><tr><td>christmas</td><td>18-24</td></tr><tr><td>travel</td><td>18-24</td></tr><tr><td>quotes</td><td>18-24</td></tr><tr><td>christmas</td><td>36-50</td></tr><tr><td>art</td><td>50+</td></tr><tr><td>travel</td><td>25-35</td></tr><tr><td>mens-fashion</td><td>18-24</td></tr><tr><td>event-planning</td><td>50+</td></tr><tr><td>finance</td><td>36-50</td></tr><tr><td>mens-fashion</td><td>18-24</td></tr><tr><td>travel</td><td>18-24</td></tr><tr><td>mens-fashion</td><td>18-24</td></tr><tr><td>mens-fashion</td><td>25-35</td></tr><tr><td>quotes</td><td>36-50</td></tr><tr><td>education</td><td>25-35</td></tr><tr><td>christmas</td><td>18-24</td></tr><tr><td>diy-and-crafts</td><td>25-35</td></tr><tr><td>finance</td><td>18-24</td></tr><tr><td>tattoos</td><td>18-24</td></tr><tr><td>mens-fashion</td><td>25-35</td></tr><tr><td>mens-fashion</td><td>50+</td></tr><tr><td>diy-and-crafts</td><td>18-24</td></tr><tr><td>vehicles</td><td>36-50</td></tr><tr><td>mens-fashion</td><td>25-35</td></tr><tr><td>travel</td><td>50+</td></tr><tr><td>vehicles</td><td>18-24</td></tr><tr><td>art</td><td>18-24</td></tr><tr><td>tattoos</td><td>36-50</td></tr><tr><td>quotes</td><td>18-24</td></tr><tr><td>tattoos</td><td>25-35</td></tr><tr><td>home-decor</td><td>25-35</td></tr><tr><td>quotes</td><td>36-50</td></tr><tr><td>finance</td><td>18-24</td></tr><tr><td>vehicles</td><td>25-35</td></tr><tr><td>tattoos</td><td>18-24</td></tr><tr><td>vehicles</td><td>18-24</td></tr><tr><td>education</td><td>18-24</td></tr><tr><td>travel</td><td>36-50</td></tr><tr><td>travel</td><td>18-24</td></tr><tr><td>christmas</td><td>25-35</td></tr><tr><td>art</td><td>36-50</td></tr><tr><td>quotes</td><td>25-35</td></tr><tr><td>beauty</td><td>18-24</td></tr><tr><td>home-decor</td><td>50+</td></tr><tr><td>travel</td><td>18-24</td></tr><tr><td>finance</td><td>18-24</td></tr><tr><td>tattoos</td><td>36-50</td></tr><tr><td>vehicles</td><td>25-35</td></tr><tr><td>vehicles</td><td>25-35</td></tr><tr><td>beauty</td><td>18-24</td></tr><tr><td>vehicles</td><td>50+</td></tr><tr><td>travel</td><td>36-50</td></tr><tr><td>finance</td><td>36-50</td></tr><tr><td>beauty</td><td>50+</td></tr><tr><td>tattoos</td><td>36-50</td></tr><tr><td>vehicles</td><td>25-35</td></tr><tr><td>vehicles</td><td>18-24</td></tr><tr><td>mens-fashion</td><td>18-24</td></tr><tr><td>quotes</td><td>18-24</td></tr><tr><td>art</td><td>36-50</td></tr><tr><td>mens-fashion</td><td>25-35</td></tr><tr><td>christmas</td><td>36-50</td></tr><tr><td>quotes</td><td>25-35</td></tr><tr><td>tattoos</td><td>18-24</td></tr><tr><td>mens-fashion</td><td>18-24</td></tr><tr><td>tattoos</td><td>25-35</td></tr><tr><td>mens-fashion</td><td>18-24</td></tr><tr><td>mens-fashion</td><td>18-24</td></tr><tr><td>mens-fashion</td><td>25-35</td></tr><tr><td>mens-fashion</td><td>25-35</td></tr><tr><td>quotes</td><td>36-50</td></tr><tr><td>mens-fashion</td><td>36-50</td></tr><tr><td>mens-fashion</td><td>36-50</td></tr><tr><td>vehicles</td><td>18-24</td></tr><tr><td>home-decor</td><td>36-50</td></tr><tr><td>mens-fashion</td><td>25-35</td></tr><tr><td>tattoos</td><td>50+</td></tr><tr><td>travel</td><td>36-50</td></tr><tr><td>mens-fashion</td><td>18-24</td></tr><tr><td>home-decor</td><td>18-24</td></tr><tr><td>quotes</td><td>25-35</td></tr><tr><td>quotes</td><td>18-24</td></tr><tr><td>quotes</td><td>18-24</td></tr><tr><td>vehicles</td><td>18-24</td></tr><tr><td>art</td><td>18-24</td></tr><tr><td>home-decor</td><td>36-50</td></tr><tr><td>quotes</td><td>18-24</td></tr><tr><td>education</td><td>18-24</td></tr><tr><td>vehicles</td><td>36-50</td></tr><tr><td>art</td><td>18-24</td></tr><tr><td>event-planning</td><td>25-35</td></tr><tr><td>vehicles</td><td>18-24</td></tr><tr><td>education</td><td>18-24</td></tr><tr><td>beauty</td><td>25-35</td></tr><tr><td>art</td><td>18-24</td></tr><tr><td>event-planning</td><td>50+</td></tr><tr><td>home-decor</td><td>36-50</td></tr><tr><td>christmas</td><td>25-35</td></tr><tr><td>christmas</td><td>25-35</td></tr><tr><td>mens-fashion</td><td>50+</td></tr><tr><td>event-planning</td><td>50+</td></tr><tr><td>quotes</td><td>25-35</td></tr><tr><td>home-decor</td><td>36-50</td></tr><tr><td>diy-and-crafts</td><td>25-35</td></tr><tr><td>education</td><td>18-24</td></tr><tr><td>quotes</td><td>18-24</td></tr><tr><td>event-planning</td><td>25-35</td></tr><tr><td>vehicles</td><td>18-24</td></tr><tr><td>vehicles</td><td>25-35</td></tr><tr><td>vehicles</td><td>25-35</td></tr><tr><td>education</td><td>36-50</td></tr><tr><td>beauty</td><td>50+</td></tr><tr><td>diy-and-crafts</td><td>18-24</td></tr><tr><td>quotes</td><td>36-50</td></tr><tr><td>vehicles</td><td>18-24</td></tr><tr><td>diy-and-crafts</td><td>18-24</td></tr><tr><td>beauty</td><td>36-50</td></tr><tr><td>finance</td><td>18-24</td></tr><tr><td>mens-fashion</td><td>25-35</td></tr><tr><td>travel</td><td>18-24</td></tr><tr><td>diy-and-crafts</td><td>18-24</td></tr><tr><td>finance</td><td>25-35</td></tr><tr><td>event-planning</td><td>18-24</td></tr><tr><td>tattoos</td><td>25-35</td></tr><tr><td>finance</td><td>18-24</td></tr><tr><td>art</td><td>18-24</td></tr><tr><td>diy-and-crafts</td><td>18-24</td></tr><tr><td>mens-fashion</td><td>36-50</td></tr><tr><td>finance</td><td>18-24</td></tr><tr><td>education</td><td>18-24</td></tr><tr><td>education</td><td>36-50</td></tr><tr><td>event-planning</td><td>36-50</td></tr><tr><td>home-decor</td><td>50+</td></tr><tr><td>christmas</td><td>25-35</td></tr><tr><td>beauty</td><td>25-35</td></tr><tr><td>beauty</td><td>36-50</td></tr><tr><td>beauty</td><td>18-24</td></tr><tr><td>mens-fashion</td><td>18-24</td></tr><tr><td>travel</td><td>36-50</td></tr><tr><td>quotes</td><td>25-35</td></tr><tr><td>beauty</td><td>36-50</td></tr><tr><td>tattoos</td><td>18-24</td></tr><tr><td>quotes</td><td>18-24</td></tr><tr><td>education</td><td>18-24</td></tr><tr><td>art</td><td>18-24</td></tr><tr><td>quotes</td><td>18-24</td></tr><tr><td>home-decor</td><td>36-50</td></tr><tr><td>education</td><td>18-24</td></tr><tr><td>tattoos</td><td>50+</td></tr><tr><td>travel</td><td>36-50</td></tr><tr><td>finance</td><td>25-35</td></tr><tr><td>beauty</td><td>36-50</td></tr><tr><td>vehicles</td><td>50+</td></tr><tr><td>mens-fashion</td><td>50+</td></tr><tr><td>quotes</td><td>18-24</td></tr><tr><td>art</td><td>36-50</td></tr><tr><td>vehicles</td><td>50+</td></tr><tr><td>quotes</td><td>50+</td></tr><tr><td>vehicles</td><td>36-50</td></tr><tr><td>mens-fashion</td><td>18-24</td></tr><tr><td>finance</td><td>50+</td></tr><tr><td>mens-fashion</td><td>25-35</td></tr><tr><td>tattoos</td><td>50+</td></tr></tbody></table></div>"
      ]
     },
     "metadata": {
      "application/vnd.databricks.v1+output": {
       "addedWidgets": {},
       "aggData": [],
       "aggError": "",
       "aggOverflow": false,
       "aggSchema": [],
       "aggSeriesLimitReached": false,
       "aggType": "",
       "arguments": {},
       "columnCustomDisplayInfos": {},
       "data": [
        [
         "christmas",
         "25-35"
        ],
        [
         "diy-and-crafts",
         "18-24"
        ],
        [
         "christmas",
         "25-35"
        ],
        [
         "christmas",
         "36-50"
        ],
        [
         "diy-and-crafts",
         "18-24"
        ],
        [
         "diy-and-crafts",
         "18-24"
        ],
        [
         "travel",
         "25-35"
        ],
        [
         "christmas",
         "36-50"
        ],
        [
         "education",
         "25-35"
        ],
        [
         "travel",
         "36-50"
        ],
        [
         "education",
         "25-35"
        ],
        [
         "mens-fashion",
         "25-35"
        ],
        [
         "christmas",
         "18-24"
        ],
        [
         "christmas",
         "18-24"
        ],
        [
         "christmas",
         "50+"
        ],
        [
         "diy-and-crafts",
         "18-24"
        ],
        [
         "education",
         "36-50"
        ],
        [
         "christmas",
         "18-24"
        ],
        [
         "event-planning",
         "25-35"
        ],
        [
         "christmas",
         "18-24"
        ],
        [
         "christmas",
         "18-24"
        ],
        [
         "christmas",
         "18-24"
        ],
        [
         "home-decor",
         "25-35"
        ],
        [
         "christmas",
         "18-24"
        ],
        [
         "christmas",
         "18-24"
        ],
        [
         "christmas",
         "18-24"
        ],
        [
         "event-planning",
         "50+"
        ],
        [
         "event-planning",
         "50+"
        ],
        [
         "event-planning",
         "50+"
        ],
        [
         "christmas",
         "36-50"
        ],
        [
         "home-decor",
         "18-24"
        ],
        [
         "home-decor",
         "36-50"
        ],
        [
         "quotes",
         "18-24"
        ],
        [
         "event-planning",
         "25-35"
        ],
        [
         "diy-and-crafts",
         "25-35"
        ],
        [
         "education",
         "25-35"
        ],
        [
         "diy-and-crafts",
         "25-35"
        ],
        [
         "event-planning",
         "36-50"
        ],
        [
         "education",
         "18-24"
        ],
        [
         "diy-and-crafts",
         "25-35"
        ],
        [
         "finance",
         "18-24"
        ],
        [
         "christmas",
         "18-24"
        ],
        [
         "tattoos",
         "50+"
        ],
        [
         "travel",
         "18-24"
        ],
        [
         "christmas",
         "25-35"
        ],
        [
         "diy-and-crafts",
         "25-35"
        ],
        [
         "event-planning",
         "18-24"
        ],
        [
         "mens-fashion",
         "18-24"
        ],
        [
         "christmas",
         "18-24"
        ],
        [
         "event-planning",
         "36-50"
        ],
        [
         "christmas",
         "18-24"
        ],
        [
         "quotes",
         "18-24"
        ],
        [
         "christmas",
         "18-24"
        ],
        [
         "home-decor",
         "50+"
        ],
        [
         "travel",
         "18-24"
        ],
        [
         "art",
         "18-24"
        ],
        [
         "quotes",
         "36-50"
        ],
        [
         "diy-and-crafts",
         "18-24"
        ],
        [
         "diy-and-crafts",
         "25-35"
        ],
        [
         "diy-and-crafts",
         "25-35"
        ],
        [
         "education",
         "36-50"
        ],
        [
         "vehicles",
         "18-24"
        ],
        [
         "quotes",
         "18-24"
        ],
        [
         "finance",
         "36-50"
        ],
        [
         "event-planning",
         "36-50"
        ],
        [
         "christmas",
         "36-50"
        ],
        [
         "christmas",
         "18-24"
        ],
        [
         "event-planning",
         "36-50"
        ],
        [
         "home-decor",
         "25-35"
        ],
        [
         "art",
         "18-24"
        ],
        [
         "christmas",
         "18-24"
        ],
        [
         "tattoos",
         "50+"
        ],
        [
         "diy-and-crafts",
         "18-24"
        ],
        [
         "art",
         "25-35"
        ],
        [
         "event-planning",
         "18-24"
        ],
        [
         "education",
         "18-24"
        ],
        [
         "event-planning",
         "36-50"
        ],
        [
         "education",
         "18-24"
        ],
        [
         "diy-and-crafts",
         "25-35"
        ],
        [
         "christmas",
         "36-50"
        ],
        [
         "event-planning",
         "18-24"
        ],
        [
         "diy-and-crafts",
         "18-24"
        ],
        [
         "christmas",
         "18-24"
        ],
        [
         "event-planning",
         "50+"
        ],
        [
         "diy-and-crafts",
         "25-35"
        ],
        [
         "finance",
         "36-50"
        ],
        [
         "christmas",
         "25-35"
        ],
        [
         "quotes",
         "18-24"
        ],
        [
         "christmas",
         "25-35"
        ],
        [
         "christmas",
         "36-50"
        ],
        [
         "travel",
         "36-50"
        ],
        [
         "christmas",
         "18-24"
        ],
        [
         "vehicles",
         "36-50"
        ],
        [
         "finance",
         "18-24"
        ],
        [
         "finance",
         "36-50"
        ],
        [
         "quotes",
         "25-35"
        ],
        [
         "finance",
         "18-24"
        ],
        [
         "christmas",
         "25-35"
        ],
        [
         "christmas",
         "25-35"
        ],
        [
         "mens-fashion",
         "18-24"
        ],
        [
         "mens-fashion",
         "18-24"
        ],
        [
         "event-planning",
         "18-24"
        ],
        [
         "christmas",
         "25-35"
        ],
        [
         "quotes",
         "36-50"
        ],
        [
         "finance",
         "18-24"
        ],
        [
         "art",
         "18-24"
        ],
        [
         "christmas",
         "25-35"
        ],
        [
         "diy-and-crafts",
         "18-24"
        ],
        [
         "mens-fashion",
         "18-24"
        ],
        [
         "home-decor",
         "25-35"
        ],
        [
         "home-decor",
         "18-24"
        ],
        [
         "quotes",
         "50+"
        ],
        [
         "education",
         "18-24"
        ],
        [
         "home-decor",
         "36-50"
        ],
        [
         "education",
         "36-50"
        ],
        [
         "diy-and-crafts",
         "18-24"
        ],
        [
         "travel",
         "18-24"
        ],
        [
         "travel",
         "25-35"
        ],
        [
         "christmas",
         "18-24"
        ],
        [
         "quotes",
         "18-24"
        ],
        [
         "beauty",
         "25-35"
        ],
        [
         "christmas",
         "25-35"
        ],
        [
         "tattoos",
         "18-24"
        ],
        [
         "travel",
         "25-35"
        ],
        [
         "finance",
         "18-24"
        ],
        [
         "diy-and-crafts",
         "18-24"
        ],
        [
         "christmas",
         "18-24"
        ],
        [
         "travel",
         "18-24"
        ],
        [
         "education",
         "36-50"
        ],
        [
         "home-decor",
         "25-35"
        ],
        [
         "event-planning",
         "25-35"
        ],
        [
         "tattoos",
         "18-24"
        ],
        [
         "tattoos",
         "18-24"
        ],
        [
         "mens-fashion",
         "18-24"
        ],
        [
         "mens-fashion",
         "36-50"
        ],
        [
         "travel",
         "25-35"
        ],
        [
         "travel",
         "36-50"
        ],
        [
         "education",
         "36-50"
        ],
        [
         "home-decor",
         "25-35"
        ],
        [
         "mens-fashion",
         "18-24"
        ],
        [
         "diy-and-crafts",
         "25-35"
        ],
        [
         "christmas",
         "36-50"
        ],
        [
         "christmas",
         "50+"
        ],
        [
         "christmas",
         "18-24"
        ],
        [
         "christmas",
         "25-35"
        ],
        [
         "art",
         "36-50"
        ],
        [
         "home-decor",
         "50+"
        ],
        [
         "christmas",
         "18-24"
        ],
        [
         "finance",
         "36-50"
        ],
        [
         "education",
         "18-24"
        ],
        [
         "education",
         "18-24"
        ],
        [
         "diy-and-crafts",
         "25-35"
        ],
        [
         "home-decor",
         "18-24"
        ],
        [
         "education",
         "50+"
        ],
        [
         "christmas",
         "18-24"
        ],
        [
         "event-planning",
         "18-24"
        ],
        [
         "art",
         "18-24"
        ],
        [
         "tattoos",
         "18-24"
        ],
        [
         "home-decor",
         "18-24"
        ],
        [
         "finance",
         "36-50"
        ],
        [
         "home-decor",
         "18-24"
        ],
        [
         "diy-and-crafts",
         "36-50"
        ],
        [
         "christmas",
         "18-24"
        ],
        [
         "christmas",
         "18-24"
        ],
        [
         "christmas",
         "25-35"
        ],
        [
         "art",
         "18-24"
        ],
        [
         "finance",
         "36-50"
        ],
        [
         "tattoos",
         "18-24"
        ],
        [
         "education",
         "50+"
        ],
        [
         "quotes",
         "25-35"
        ],
        [
         "event-planning",
         "25-35"
        ],
        [
         "finance",
         "25-35"
        ],
        [
         "christmas",
         "18-24"
        ],
        [
         "quotes",
         "18-24"
        ],
        [
         "travel",
         "18-24"
        ],
        [
         "finance",
         "25-35"
        ],
        [
         "art",
         "25-35"
        ],
        [
         "education",
         "18-24"
        ],
        [
         "home-decor",
         "18-24"
        ],
        [
         "event-planning",
         "18-24"
        ],
        [
         "home-decor",
         "25-35"
        ],
        [
         "mens-fashion",
         "36-50"
        ],
        [
         "travel",
         "36-50"
        ],
        [
         "beauty",
         "18-24"
        ],
        [
         "travel",
         "25-35"
        ],
        [
         "christmas",
         "36-50"
        ],
        [
         "event-planning",
         "25-35"
        ],
        [
         "christmas",
         "18-24"
        ],
        [
         "home-decor",
         "36-50"
        ],
        [
         "mens-fashion",
         "36-50"
        ],
        [
         "art",
         "18-24"
        ],
        [
         "education",
         "50+"
        ],
        [
         "home-decor",
         "25-35"
        ],
        [
         "diy-and-crafts",
         "18-24"
        ],
        [
         "home-decor",
         "25-35"
        ],
        [
         "home-decor",
         "18-24"
        ],
        [
         "christmas",
         "18-24"
        ],
        [
         "christmas",
         "50+"
        ],
        [
         "event-planning",
         "18-24"
        ],
        [
         "travel",
         "18-24"
        ],
        [
         "home-decor",
         "50+"
        ],
        [
         "mens-fashion",
         "18-24"
        ],
        [
         "tattoos",
         "18-24"
        ],
        [
         "travel",
         "25-35"
        ],
        [
         "mens-fashion",
         "50+"
        ],
        [
         "event-planning",
         "36-50"
        ],
        [
         "tattoos",
         "18-24"
        ],
        [
         "education",
         "18-24"
        ],
        [
         "travel",
         "18-24"
        ],
        [
         "art",
         "25-35"
        ],
        [
         "event-planning",
         "36-50"
        ],
        [
         "christmas",
         "36-50"
        ],
        [
         "quotes",
         "18-24"
        ],
        [
         "tattoos",
         "25-35"
        ],
        [
         "mens-fashion",
         "18-24"
        ],
        [
         "christmas",
         "18-24"
        ],
        [
         "finance",
         "36-50"
        ],
        [
         "travel",
         "25-35"
        ],
        [
         "art",
         "25-35"
        ],
        [
         "art",
         "18-24"
        ],
        [
         "event-planning",
         "36-50"
        ],
        [
         "beauty",
         "25-35"
        ],
        [
         "tattoos",
         "18-24"
        ],
        [
         "finance",
         "18-24"
        ],
        [
         "finance",
         "18-24"
        ],
        [
         "finance",
         "18-24"
        ],
        [
         "quotes",
         "18-24"
        ],
        [
         "home-decor",
         "18-24"
        ],
        [
         "travel",
         "25-35"
        ],
        [
         "travel",
         "36-50"
        ],
        [
         "art",
         "18-24"
        ],
        [
         "event-planning",
         "25-35"
        ],
        [
         "finance",
         "25-35"
        ],
        [
         "travel",
         "36-50"
        ],
        [
         "finance",
         "18-24"
        ],
        [
         "education",
         "18-24"
        ],
        [
         "beauty",
         "18-24"
        ],
        [
         "vehicles",
         "18-24"
        ],
        [
         "beauty",
         "36-50"
        ],
        [
         "travel",
         "25-35"
        ],
        [
         "art",
         "36-50"
        ],
        [
         "tattoos",
         "25-35"
        ],
        [
         "education",
         "18-24"
        ],
        [
         "art",
         "25-35"
        ],
        [
         "christmas",
         "18-24"
        ],
        [
         "art",
         "18-24"
        ],
        [
         "travel",
         "25-35"
        ],
        [
         "art",
         "18-24"
        ],
        [
         "art",
         "18-24"
        ],
        [
         "event-planning",
         "18-24"
        ],
        [
         "home-decor",
         "18-24"
        ],
        [
         "travel",
         "18-24"
        ],
        [
         "beauty",
         "18-24"
        ],
        [
         "mens-fashion",
         "18-24"
        ],
        [
         "art",
         "18-24"
        ],
        [
         "quotes",
         "18-24"
        ],
        [
         "home-decor",
         "25-35"
        ],
        [
         "vehicles",
         "18-24"
        ],
        [
         "vehicles",
         "36-50"
        ],
        [
         "beauty",
         "36-50"
        ],
        [
         "education",
         "18-24"
        ],
        [
         "finance",
         "18-24"
        ],
        [
         "christmas",
         "25-35"
        ],
        [
         "education",
         "36-50"
        ],
        [
         "beauty",
         "36-50"
        ],
        [
         "travel",
         "25-35"
        ],
        [
         "travel",
         "25-35"
        ],
        [
         "education",
         "25-35"
        ],
        [
         "diy-and-crafts",
         "36-50"
        ],
        [
         "home-decor",
         "18-24"
        ],
        [
         "diy-and-crafts",
         "36-50"
        ],
        [
         "home-decor",
         "36-50"
        ],
        [
         "art",
         "18-24"
        ],
        [
         "tattoos",
         "18-24"
        ],
        [
         "art",
         "36-50"
        ],
        [
         "education",
         "18-24"
        ],
        [
         "art",
         "18-24"
        ],
        [
         "quotes",
         "25-35"
        ],
        [
         "education",
         "18-24"
        ],
        [
         "beauty",
         "18-24"
        ],
        [
         "finance",
         "36-50"
        ],
        [
         "quotes",
         "18-24"
        ],
        [
         "education",
         "25-35"
        ],
        [
         "mens-fashion",
         "25-35"
        ],
        [
         "home-decor",
         "25-35"
        ],
        [
         "mens-fashion",
         "50+"
        ],
        [
         "event-planning",
         "25-35"
        ],
        [
         "quotes",
         "18-24"
        ],
        [
         "beauty",
         "25-35"
        ],
        [
         "finance",
         "36-50"
        ],
        [
         "education",
         "50+"
        ],
        [
         "christmas",
         "18-24"
        ],
        [
         "christmas",
         "36-50"
        ],
        [
         "diy-and-crafts",
         "18-24"
        ],
        [
         "christmas",
         "25-35"
        ],
        [
         "diy-and-crafts",
         "18-24"
        ],
        [
         "tattoos",
         "18-24"
        ],
        [
         "education",
         "36-50"
        ],
        [
         "finance",
         "36-50"
        ],
        [
         "education",
         "18-24"
        ],
        [
         "home-decor",
         "18-24"
        ],
        [
         "mens-fashion",
         "25-35"
        ],
        [
         "event-planning",
         "18-24"
        ],
        [
         "beauty",
         "18-24"
        ],
        [
         "education",
         "18-24"
        ],
        [
         "education",
         "25-35"
        ],
        [
         "art",
         "25-35"
        ],
        [
         "quotes",
         "18-24"
        ],
        [
         "vehicles",
         "36-50"
        ],
        [
         "art",
         "18-24"
        ],
        [
         "diy-and-crafts",
         "18-24"
        ],
        [
         "event-planning",
         "18-24"
        ],
        [
         "art",
         "50+"
        ],
        [
         "vehicles",
         "25-35"
        ],
        [
         "diy-and-crafts",
         "18-24"
        ],
        [
         "quotes",
         "36-50"
        ],
        [
         "beauty",
         "36-50"
        ],
        [
         "art",
         "36-50"
        ],
        [
         "tattoos",
         "25-35"
        ],
        [
         "tattoos",
         "18-24"
        ],
        [
         "travel",
         "36-50"
        ],
        [
         "art",
         "18-24"
        ],
        [
         "tattoos",
         "18-24"
        ],
        [
         "home-decor",
         "18-24"
        ],
        [
         "event-planning",
         "18-24"
        ],
        [
         "beauty",
         "36-50"
        ],
        [
         "vehicles",
         "25-35"
        ],
        [
         "travel",
         "25-35"
        ],
        [
         "art",
         "25-35"
        ],
        [
         "art",
         "18-24"
        ],
        [
         "christmas",
         "25-35"
        ],
        [
         "event-planning",
         "25-35"
        ],
        [
         "vehicles",
         "18-24"
        ],
        [
         "art",
         "18-24"
        ],
        [
         "quotes",
         "25-35"
        ],
        [
         "quotes",
         "50+"
        ],
        [
         "beauty",
         "50+"
        ],
        [
         "event-planning",
         "25-35"
        ],
        [
         "beauty",
         "25-35"
        ],
        [
         "quotes",
         "18-24"
        ],
        [
         "event-planning",
         "36-50"
        ],
        [
         "quotes",
         "36-50"
        ],
        [
         "event-planning",
         "50+"
        ],
        [
         "event-planning",
         "25-35"
        ],
        [
         "event-planning",
         "36-50"
        ],
        [
         "art",
         "18-24"
        ],
        [
         "tattoos",
         "36-50"
        ],
        [
         "art",
         "18-24"
        ],
        [
         "home-decor",
         "36-50"
        ],
        [
         "diy-and-crafts",
         "36-50"
        ],
        [
         "event-planning",
         "25-35"
        ],
        [
         "travel",
         "18-24"
        ],
        [
         "tattoos",
         "25-35"
        ],
        [
         "art",
         "25-35"
        ],
        [
         "home-decor",
         "50+"
        ],
        [
         "vehicles",
         "36-50"
        ],
        [
         "event-planning",
         "18-24"
        ],
        [
         "diy-and-crafts",
         "50+"
        ],
        [
         "vehicles",
         "18-24"
        ],
        [
         "travel",
         "36-50"
        ],
        [
         "mens-fashion",
         "50+"
        ],
        [
         "home-decor",
         "18-24"
        ],
        [
         "quotes",
         "36-50"
        ],
        [
         "beauty",
         "25-35"
        ],
        [
         "art",
         "18-24"
        ],
        [
         "mens-fashion",
         "18-24"
        ],
        [
         "event-planning",
         "50+"
        ],
        [
         "mens-fashion",
         "18-24"
        ],
        [
         "beauty",
         "50+"
        ],
        [
         "art",
         "18-24"
        ],
        [
         "tattoos",
         "18-24"
        ],
        [
         "tattoos",
         "18-24"
        ],
        [
         "education",
         "25-35"
        ],
        [
         "tattoos",
         "18-24"
        ],
        [
         "art",
         "50+"
        ],
        [
         "tattoos",
         "18-24"
        ],
        [
         "home-decor",
         "25-35"
        ],
        [
         "quotes",
         "18-24"
        ],
        [
         "quotes",
         "18-24"
        ],
        [
         "travel",
         "36-50"
        ],
        [
         "mens-fashion",
         "18-24"
        ],
        [
         "beauty",
         "25-35"
        ],
        [
         "diy-and-crafts",
         "50+"
        ],
        [
         "vehicles",
         "25-35"
        ],
        [
         "tattoos",
         "25-35"
        ],
        [
         "vehicles",
         "36-50"
        ],
        [
         "vehicles",
         "25-35"
        ],
        [
         "event-planning",
         "25-35"
        ],
        [
         "event-planning",
         "18-24"
        ],
        [
         "christmas",
         "18-24"
        ],
        [
         "art",
         "18-24"
        ],
        [
         "home-decor",
         "25-35"
        ],
        [
         "education",
         "36-50"
        ],
        [
         "christmas",
         "18-24"
        ],
        [
         "finance",
         "36-50"
        ],
        [
         "finance",
         "18-24"
        ],
        [
         "beauty",
         "36-50"
        ],
        [
         "art",
         "18-24"
        ],
        [
         "beauty",
         "50+"
        ],
        [
         "beauty",
         "25-35"
        ],
        [
         "vehicles",
         "50+"
        ],
        [
         "beauty",
         "36-50"
        ],
        [
         "quotes",
         "18-24"
        ],
        [
         "home-decor",
         "25-35"
        ],
        [
         "quotes",
         "18-24"
        ],
        [
         "finance",
         "50+"
        ],
        [
         "tattoos",
         "18-24"
        ],
        [
         "quotes",
         "25-35"
        ],
        [
         "tattoos",
         "18-24"
        ],
        [
         "quotes",
         "18-24"
        ],
        [
         "event-planning",
         "25-35"
        ],
        [
         "christmas",
         "18-24"
        ],
        [
         "vehicles",
         "50+"
        ],
        [
         "christmas",
         "18-24"
        ],
        [
         "vehicles",
         "36-50"
        ],
        [
         "diy-and-crafts",
         "18-24"
        ],
        [
         "art",
         "25-35"
        ],
        [
         "christmas",
         "18-24"
        ],
        [
         "tattoos",
         "25-35"
        ],
        [
         "event-planning",
         "18-24"
        ],
        [
         "event-planning",
         "18-24"
        ],
        [
         "diy-and-crafts",
         "36-50"
        ],
        [
         "art",
         "18-24"
        ],
        [
         "event-planning",
         "25-35"
        ],
        [
         "vehicles",
         "36-50"
        ],
        [
         "event-planning",
         "25-35"
        ],
        [
         "christmas",
         "36-50"
        ],
        [
         "diy-and-crafts",
         "25-35"
        ],
        [
         "event-planning",
         "25-35"
        ],
        [
         "finance",
         "36-50"
        ],
        [
         "event-planning",
         "18-24"
        ],
        [
         "tattoos",
         "25-35"
        ],
        [
         "education",
         "25-35"
        ],
        [
         "travel",
         "36-50"
        ],
        [
         "beauty",
         "18-24"
        ],
        [
         "quotes",
         "50+"
        ],
        [
         "christmas",
         "25-35"
        ],
        [
         "home-decor",
         "18-24"
        ],
        [
         "event-planning",
         "25-35"
        ],
        [
         "finance",
         "18-24"
        ],
        [
         "event-planning",
         "25-35"
        ],
        [
         "home-decor",
         "18-24"
        ],
        [
         "mens-fashion",
         "18-24"
        ],
        [
         "travel",
         "36-50"
        ],
        [
         "christmas",
         "18-24"
        ],
        [
         "diy-and-crafts",
         "18-24"
        ],
        [
         "education",
         "36-50"
        ],
        [
         "finance",
         "25-35"
        ],
        [
         "tattoos",
         "18-24"
        ],
        [
         "tattoos",
         "18-24"
        ],
        [
         "christmas",
         "25-35"
        ],
        [
         "quotes",
         "25-35"
        ],
        [
         "finance",
         "25-35"
        ],
        [
         "travel",
         "18-24"
        ],
        [
         "christmas",
         "36-50"
        ],
        [
         "quotes",
         "18-24"
        ],
        [
         "quotes",
         "18-24"
        ],
        [
         "diy-and-crafts",
         "25-35"
        ],
        [
         "diy-and-crafts",
         "25-35"
        ],
        [
         "art",
         "36-50"
        ],
        [
         "tattoos",
         "25-35"
        ],
        [
         "education",
         "25-35"
        ],
        [
         "home-decor",
         "36-50"
        ],
        [
         "quotes",
         "25-35"
        ],
        [
         "home-decor",
         "18-24"
        ],
        [
         "tattoos",
         "18-24"
        ],
        [
         "tattoos",
         "18-24"
        ],
        [
         "art",
         "18-24"
        ],
        [
         "finance",
         "25-35"
        ],
        [
         "education",
         "25-35"
        ],
        [
         "education",
         "25-35"
        ],
        [
         "art",
         "18-24"
        ],
        [
         "tattoos",
         "18-24"
        ],
        [
         "art",
         "18-24"
        ],
        [
         "art",
         "25-35"
        ],
        [
         "tattoos",
         "36-50"
        ],
        [
         "beauty",
         "18-24"
        ],
        [
         "beauty",
         "25-35"
        ],
        [
         "beauty",
         "25-35"
        ],
        [
         "travel",
         "36-50"
        ],
        [
         "finance",
         "18-24"
        ],
        [
         "finance",
         "25-35"
        ],
        [
         "vehicles",
         "25-35"
        ],
        [
         "beauty",
         "36-50"
        ],
        [
         "tattoos",
         "50+"
        ],
        [
         "vehicles",
         "50+"
        ],
        [
         "art",
         "18-24"
        ],
        [
         "mens-fashion",
         "25-35"
        ],
        [
         "tattoos",
         "18-24"
        ],
        [
         "home-decor",
         "36-50"
        ],
        [
         "diy-and-crafts",
         "50+"
        ],
        [
         "quotes",
         "18-24"
        ],
        [
         "beauty",
         "50+"
        ],
        [
         "quotes",
         "36-50"
        ],
        [
         "finance",
         "36-50"
        ],
        [
         "travel",
         "25-35"
        ],
        [
         "vehicles",
         "18-24"
        ],
        [
         "art",
         "25-35"
        ],
        [
         "home-decor",
         "25-35"
        ],
        [
         "tattoos",
         "18-24"
        ],
        [
         "quotes",
         "36-50"
        ],
        [
         "finance",
         "36-50"
        ],
        [
         "art",
         "36-50"
        ],
        [
         "travel",
         "25-35"
        ],
        [
         "tattoos",
         "18-24"
        ],
        [
         "travel",
         "18-24"
        ],
        [
         "finance",
         "36-50"
        ],
        [
         "education",
         "18-24"
        ],
        [
         "mens-fashion",
         "25-35"
        ],
        [
         "quotes",
         "18-24"
        ],
        [
         "beauty",
         "18-24"
        ],
        [
         "beauty",
         "18-24"
        ],
        [
         "diy-and-crafts",
         "18-24"
        ],
        [
         "education",
         "18-24"
        ],
        [
         "diy-and-crafts",
         "18-24"
        ],
        [
         "finance",
         "50+"
        ],
        [
         "vehicles",
         "25-35"
        ],
        [
         "finance",
         "50+"
        ],
        [
         "home-decor",
         "25-35"
        ],
        [
         "quotes",
         "18-24"
        ],
        [
         "diy-and-crafts",
         "18-24"
        ],
        [
         "christmas",
         "18-24"
        ],
        [
         "quotes",
         "18-24"
        ],
        [
         "vehicles",
         "25-35"
        ],
        [
         "home-decor",
         "25-35"
        ],
        [
         "diy-and-crafts",
         "18-24"
        ],
        [
         "quotes",
         "18-24"
        ],
        [
         "christmas",
         "36-50"
        ],
        [
         "vehicles",
         "36-50"
        ],
        [
         "home-decor",
         "18-24"
        ],
        [
         "art",
         "18-24"
        ],
        [
         "home-decor",
         "36-50"
        ],
        [
         "quotes",
         "18-24"
        ],
        [
         "diy-and-crafts",
         "18-24"
        ],
        [
         "event-planning",
         "18-24"
        ],
        [
         "art",
         "36-50"
        ],
        [
         "quotes",
         "50+"
        ],
        [
         "home-decor",
         "36-50"
        ],
        [
         "finance",
         "25-35"
        ],
        [
         "quotes",
         "18-24"
        ],
        [
         "beauty",
         "25-35"
        ],
        [
         "vehicles",
         "25-35"
        ],
        [
         "diy-and-crafts",
         "18-24"
        ],
        [
         "mens-fashion",
         "18-24"
        ],
        [
         "education",
         "18-24"
        ],
        [
         "home-decor",
         "36-50"
        ],
        [
         "event-planning",
         "50+"
        ],
        [
         "christmas",
         "36-50"
        ],
        [
         "christmas",
         "50+"
        ],
        [
         "home-decor",
         "50+"
        ],
        [
         "education",
         "18-24"
        ],
        [
         "tattoos",
         "18-24"
        ],
        [
         "education",
         "18-24"
        ],
        [
         "event-planning",
         "25-35"
        ],
        [
         "diy-and-crafts",
         "18-24"
        ],
        [
         "mens-fashion",
         "25-35"
        ],
        [
         "mens-fashion",
         "18-24"
        ],
        [
         "beauty",
         "18-24"
        ],
        [
         "beauty",
         "36-50"
        ],
        [
         "diy-and-crafts",
         "18-24"
        ],
        [
         "travel",
         "36-50"
        ],
        [
         "beauty",
         "50+"
        ],
        [
         "christmas",
         "18-24"
        ],
        [
         "beauty",
         "18-24"
        ],
        [
         "beauty",
         "18-24"
        ],
        [
         "quotes",
         "18-24"
        ],
        [
         "mens-fashion",
         "18-24"
        ],
        [
         "travel",
         "18-24"
        ],
        [
         "mens-fashion",
         "25-35"
        ],
        [
         "diy-and-crafts",
         "36-50"
        ],
        [
         "art",
         "18-24"
        ],
        [
         "travel",
         "25-35"
        ],
        [
         "diy-and-crafts",
         "25-35"
        ],
        [
         "art",
         "18-24"
        ],
        [
         "diy-and-crafts",
         "50+"
        ],
        [
         "finance",
         "18-24"
        ],
        [
         "finance",
         "25-35"
        ],
        [
         "diy-and-crafts",
         "36-50"
        ],
        [
         "mens-fashion",
         "25-35"
        ],
        [
         "diy-and-crafts",
         "25-35"
        ],
        [
         "beauty",
         "50+"
        ],
        [
         "home-decor",
         "25-35"
        ],
        [
         "christmas",
         "50+"
        ],
        [
         "travel",
         "18-24"
        ],
        [
         "christmas",
         "18-24"
        ],
        [
         "art",
         "18-24"
        ],
        [
         "christmas",
         "18-24"
        ],
        [
         "diy-and-crafts",
         "18-24"
        ],
        [
         "event-planning",
         "25-35"
        ],
        [
         "mens-fashion",
         "36-50"
        ],
        [
         "event-planning",
         "18-24"
        ],
        [
         "home-decor",
         "18-24"
        ],
        [
         "education",
         "18-24"
        ],
        [
         "travel",
         "25-35"
        ],
        [
         "travel",
         "36-50"
        ],
        [
         "diy-and-crafts",
         "25-35"
        ],
        [
         "finance",
         "18-24"
        ],
        [
         "diy-and-crafts",
         "36-50"
        ],
        [
         "event-planning",
         "50+"
        ],
        [
         "diy-and-crafts",
         "18-24"
        ],
        [
         "christmas",
         "50+"
        ],
        [
         "event-planning",
         "18-24"
        ],
        [
         "travel",
         "25-35"
        ],
        [
         "event-planning",
         "18-24"
        ],
        [
         "education",
         "18-24"
        ],
        [
         "diy-and-crafts",
         "25-35"
        ],
        [
         "christmas",
         "25-35"
        ],
        [
         "home-decor",
         "18-24"
        ],
        [
         "education",
         "25-35"
        ],
        [
         "education",
         "18-24"
        ],
        [
         "diy-and-crafts",
         "36-50"
        ],
        [
         "christmas",
         "36-50"
        ],
        [
         "education",
         "18-24"
        ],
        [
         "tattoos",
         "25-35"
        ],
        [
         "quotes",
         "25-35"
        ],
        [
         "event-planning",
         "18-24"
        ],
        [
         "finance",
         "36-50"
        ],
        [
         "diy-and-crafts",
         "18-24"
        ],
        [
         "christmas",
         "25-35"
        ],
        [
         "event-planning",
         "18-24"
        ],
        [
         "event-planning",
         "25-35"
        ],
        [
         "travel",
         "50+"
        ],
        [
         "education",
         "36-50"
        ],
        [
         "education",
         "25-35"
        ],
        [
         "quotes",
         "18-24"
        ],
        [
         "finance",
         "36-50"
        ],
        [
         "travel",
         "25-35"
        ],
        [
         "tattoos",
         "36-50"
        ],
        [
         "quotes",
         "25-35"
        ],
        [
         "quotes",
         "18-24"
        ],
        [
         "finance",
         "36-50"
        ],
        [
         "christmas",
         "25-35"
        ],
        [
         "event-planning",
         "18-24"
        ],
        [
         "christmas",
         "25-35"
        ],
        [
         "education",
         "36-50"
        ],
        [
         "travel",
         "18-24"
        ],
        [
         "christmas",
         "36-50"
        ],
        [
         "christmas",
         "36-50"
        ],
        [
         "vehicles",
         "25-35"
        ],
        [
         "diy-and-crafts",
         "18-24"
        ],
        [
         "education",
         "36-50"
        ],
        [
         "diy-and-crafts",
         "25-35"
        ],
        [
         "christmas",
         "18-24"
        ],
        [
         "art",
         "25-35"
        ],
        [
         "diy-and-crafts",
         "18-24"
        ],
        [
         "christmas",
         "36-50"
        ],
        [
         "diy-and-crafts",
         "18-24"
        ],
        [
         "tattoos",
         "25-35"
        ],
        [
         "mens-fashion",
         "36-50"
        ],
        [
         "christmas",
         "36-50"
        ],
        [
         "diy-and-crafts",
         "18-24"
        ],
        [
         "art",
         "18-24"
        ],
        [
         "event-planning",
         "25-35"
        ],
        [
         "event-planning",
         "18-24"
        ],
        [
         "travel",
         "25-35"
        ],
        [
         "christmas",
         "25-35"
        ],
        [
         "quotes",
         "18-24"
        ],
        [
         "finance",
         "18-24"
        ],
        [
         "tattoos",
         "25-35"
        ],
        [
         "education",
         "50+"
        ],
        [
         "finance",
         "50+"
        ],
        [
         "tattoos",
         "18-24"
        ],
        [
         "art",
         "18-24"
        ],
        [
         "tattoos",
         "18-24"
        ],
        [
         "beauty",
         "50+"
        ],
        [
         "event-planning",
         "25-35"
        ],
        [
         "education",
         "18-24"
        ],
        [
         "travel",
         "36-50"
        ],
        [
         "education",
         "25-35"
        ],
        [
         "travel",
         "50+"
        ],
        [
         "diy-and-crafts",
         "18-24"
        ],
        [
         "travel",
         "18-24"
        ],
        [
         "art",
         "25-35"
        ],
        [
         "travel",
         "36-50"
        ],
        [
         "travel",
         "18-24"
        ],
        [
         "mens-fashion",
         "18-24"
        ],
        [
         "christmas",
         "18-24"
        ],
        [
         "education",
         "25-35"
        ],
        [
         "christmas",
         "25-35"
        ],
        [
         "beauty",
         "25-35"
        ],
        [
         "home-decor",
         "36-50"
        ],
        [
         "event-planning",
         "18-24"
        ],
        [
         "christmas",
         "18-24"
        ],
        [
         "finance",
         "18-24"
        ],
        [
         "home-decor",
         "25-35"
        ],
        [
         "finance",
         "18-24"
        ],
        [
         "beauty",
         "36-50"
        ],
        [
         "christmas",
         "36-50"
        ],
        [
         "finance",
         "18-24"
        ],
        [
         "christmas",
         "25-35"
        ],
        [
         "vehicles",
         "36-50"
        ],
        [
         "vehicles",
         "25-35"
        ],
        [
         "travel",
         "18-24"
        ],
        [
         "christmas",
         "25-35"
        ],
        [
         "mens-fashion",
         "18-24"
        ],
        [
         "christmas",
         "36-50"
        ],
        [
         "diy-and-crafts",
         "25-35"
        ],
        [
         "christmas",
         "36-50"
        ],
        [
         "art",
         "25-35"
        ],
        [
         "art",
         "25-35"
        ],
        [
         "education",
         "25-35"
        ],
        [
         "art",
         "50+"
        ],
        [
         "quotes",
         "18-24"
        ],
        [
         "quotes",
         "25-35"
        ],
        [
         "mens-fashion",
         "36-50"
        ],
        [
         "beauty",
         "25-35"
        ],
        [
         "mens-fashion",
         "50+"
        ],
        [
         "event-planning",
         "36-50"
        ],
        [
         "education",
         "25-35"
        ],
        [
         "event-planning",
         "18-24"
        ],
        [
         "art",
         "25-35"
        ],
        [
         "vehicles",
         "36-50"
        ],
        [
         "beauty",
         "25-35"
        ],
        [
         "vehicles",
         "50+"
        ],
        [
         "mens-fashion",
         "18-24"
        ],
        [
         "quotes",
         "18-24"
        ],
        [
         "mens-fashion",
         "36-50"
        ],
        [
         "beauty",
         "18-24"
        ],
        [
         "art",
         "18-24"
        ],
        [
         "art",
         "25-35"
        ],
        [
         "beauty",
         "36-50"
        ],
        [
         "beauty",
         "18-24"
        ],
        [
         "travel",
         "25-35"
        ],
        [
         "travel",
         "50+"
        ],
        [
         "beauty",
         "36-50"
        ],
        [
         "mens-fashion",
         "36-50"
        ],
        [
         "beauty",
         "18-24"
        ],
        [
         "home-decor",
         "18-24"
        ],
        [
         "vehicles",
         "50+"
        ],
        [
         "tattoos",
         "18-24"
        ],
        [
         "tattoos",
         "25-35"
        ],
        [
         "vehicles",
         "25-35"
        ],
        [
         "education",
         "25-35"
        ],
        [
         "quotes",
         "18-24"
        ],
        [
         "mens-fashion",
         "50+"
        ],
        [
         "home-decor",
         "25-35"
        ],
        [
         "art",
         "18-24"
        ],
        [
         "vehicles",
         "36-50"
        ],
        [
         "home-decor",
         "25-35"
        ],
        [
         "mens-fashion",
         "36-50"
        ],
        [
         "event-planning",
         "36-50"
        ],
        [
         "finance",
         "25-35"
        ],
        [
         "vehicles",
         "36-50"
        ],
        [
         "event-planning",
         "36-50"
        ],
        [
         "quotes",
         "25-35"
        ],
        [
         "home-decor",
         "18-24"
        ],
        [
         "mens-fashion",
         "18-24"
        ],
        [
         "travel",
         "18-24"
        ],
        [
         "beauty",
         "18-24"
        ],
        [
         "vehicles",
         "18-24"
        ],
        [
         "finance",
         "18-24"
        ],
        [
         "mens-fashion",
         "18-24"
        ],
        [
         "mens-fashion",
         "18-24"
        ],
        [
         "mens-fashion",
         "18-24"
        ],
        [
         "travel",
         "18-24"
        ],
        [
         "quotes",
         "18-24"
        ],
        [
         "mens-fashion",
         "18-24"
        ],
        [
         "art",
         "18-24"
        ],
        [
         "finance",
         "18-24"
        ],
        [
         "mens-fashion",
         "18-24"
        ],
        [
         "quotes",
         "18-24"
        ],
        [
         "education",
         "36-50"
        ],
        [
         "christmas",
         "36-50"
        ],
        [
         "finance",
         "25-35"
        ],
        [
         "travel",
         "50+"
        ],
        [
         "event-planning",
         "25-35"
        ],
        [
         "tattoos",
         "18-24"
        ],
        [
         "art",
         "18-24"
        ],
        [
         "art",
         "25-35"
        ],
        [
         "education",
         "18-24"
        ],
        [
         "travel",
         "36-50"
        ],
        [
         "christmas",
         "18-24"
        ],
        [
         "finance",
         "18-24"
        ],
        [
         "christmas",
         "36-50"
        ],
        [
         "education",
         "25-35"
        ],
        [
         "diy-and-crafts",
         "18-24"
        ],
        [
         "diy-and-crafts",
         "25-35"
        ],
        [
         "event-planning",
         "18-24"
        ],
        [
         "christmas",
         "36-50"
        ],
        [
         "event-planning",
         "36-50"
        ],
        [
         "mens-fashion",
         "50+"
        ],
        [
         "education",
         "18-24"
        ],
        [
         "home-decor",
         "18-24"
        ],
        [
         "beauty",
         "18-24"
        ],
        [
         "travel",
         "25-35"
        ],
        [
         "art",
         "36-50"
        ],
        [
         "tattoos",
         "18-24"
        ],
        [
         "tattoos",
         "18-24"
        ],
        [
         "finance",
         "25-35"
        ],
        [
         "finance",
         "18-24"
        ],
        [
         "mens-fashion",
         "36-50"
        ],
        [
         "home-decor",
         "18-24"
        ],
        [
         "tattoos",
         "18-24"
        ],
        [
         "home-decor",
         "18-24"
        ],
        [
         "christmas",
         "18-24"
        ],
        [
         "travel",
         "25-35"
        ],
        [
         "finance",
         "25-35"
        ],
        [
         "event-planning",
         "18-24"
        ],
        [
         "tattoos",
         "18-24"
        ],
        [
         "event-planning",
         "25-35"
        ],
        [
         "quotes",
         "50+"
        ],
        [
         "travel",
         "18-24"
        ],
        [
         "travel",
         "36-50"
        ],
        [
         "tattoos",
         "36-50"
        ],
        [
         "quotes",
         "18-24"
        ],
        [
         "quotes",
         "36-50"
        ],
        [
         "education",
         "18-24"
        ],
        [
         "travel",
         "18-24"
        ],
        [
         "diy-and-crafts",
         "18-24"
        ],
        [
         "event-planning",
         "18-24"
        ],
        [
         "diy-and-crafts",
         "18-24"
        ],
        [
         "tattoos",
         "18-24"
        ],
        [
         "mens-fashion",
         "25-35"
        ],
        [
         "home-decor",
         "25-35"
        ],
        [
         "christmas",
         "25-35"
        ],
        [
         "finance",
         "36-50"
        ],
        [
         "art",
         "25-35"
        ],
        [
         "education",
         "18-24"
        ],
        [
         "art",
         "50+"
        ],
        [
         "christmas",
         "25-35"
        ],
        [
         "finance",
         "18-24"
        ],
        [
         "beauty",
         "36-50"
        ],
        [
         "beauty",
         "18-24"
        ],
        [
         "vehicles",
         "36-50"
        ],
        [
         "diy-and-crafts",
         "50+"
        ],
        [
         "tattoos",
         "18-24"
        ],
        [
         "event-planning",
         "25-35"
        ],
        [
         "tattoos",
         "18-24"
        ],
        [
         "vehicles",
         "18-24"
        ],
        [
         "christmas",
         "25-35"
        ],
        [
         "art",
         "18-24"
        ],
        [
         "beauty",
         "36-50"
        ],
        [
         "tattoos",
         "25-35"
        ],
        [
         "mens-fashion",
         "36-50"
        ],
        [
         "tattoos",
         "36-50"
        ],
        [
         "travel",
         "18-24"
        ],
        [
         "christmas",
         "25-35"
        ],
        [
         "beauty",
         "18-24"
        ],
        [
         "beauty",
         "36-50"
        ],
        [
         "vehicles",
         "25-35"
        ],
        [
         "education",
         "18-24"
        ],
        [
         "beauty",
         "36-50"
        ],
        [
         "education",
         "36-50"
        ],
        [
         "art",
         "18-24"
        ],
        [
         "quotes",
         "25-35"
        ],
        [
         "home-decor",
         "25-35"
        ],
        [
         "finance",
         "36-50"
        ],
        [
         "mens-fashion",
         "18-24"
        ],
        [
         "event-planning",
         "36-50"
        ],
        [
         "diy-and-crafts",
         "36-50"
        ],
        [
         "diy-and-crafts",
         "36-50"
        ],
        [
         "quotes",
         "36-50"
        ],
        [
         "diy-and-crafts",
         "50+"
        ],
        [
         "event-planning",
         "18-24"
        ],
        [
         "tattoos",
         "18-24"
        ],
        [
         "christmas",
         "25-35"
        ],
        [
         "travel",
         "18-24"
        ],
        [
         "finance",
         "25-35"
        ],
        [
         "education",
         "18-24"
        ],
        [
         "travel",
         "18-24"
        ],
        [
         "diy-and-crafts",
         "18-24"
        ],
        [
         "home-decor",
         "25-35"
        ],
        [
         "beauty",
         "25-35"
        ],
        [
         "art",
         "50+"
        ],
        [
         "event-planning",
         "25-35"
        ],
        [
         "education",
         "25-35"
        ],
        [
         "christmas",
         "25-35"
        ],
        [
         "tattoos",
         "18-24"
        ],
        [
         "diy-and-crafts",
         "18-24"
        ],
        [
         "diy-and-crafts",
         "25-35"
        ],
        [
         "mens-fashion",
         "36-50"
        ],
        [
         "event-planning",
         "25-35"
        ],
        [
         "art",
         "25-35"
        ],
        [
         "education",
         "36-50"
        ],
        [
         "finance",
         "18-24"
        ],
        [
         "quotes",
         "18-24"
        ],
        [
         "beauty",
         "36-50"
        ],
        [
         "quotes",
         "50+"
        ],
        [
         "education",
         "18-24"
        ],
        [
         "mens-fashion",
         "18-24"
        ],
        [
         "tattoos",
         "18-24"
        ],
        [
         "art",
         "18-24"
        ],
        [
         "beauty",
         "25-35"
        ],
        [
         "beauty",
         "25-35"
        ],
        [
         "mens-fashion",
         "25-35"
        ],
        [
         "art",
         "36-50"
        ],
        [
         "education",
         "25-35"
        ],
        [
         "home-decor",
         "50+"
        ],
        [
         "tattoos",
         "18-24"
        ],
        [
         "christmas",
         "36-50"
        ],
        [
         "education",
         "18-24"
        ],
        [
         "christmas",
         "25-35"
        ],
        [
         "vehicles",
         "36-50"
        ],
        [
         "quotes",
         "36-50"
        ],
        [
         "vehicles",
         "25-35"
        ],
        [
         "finance",
         "36-50"
        ],
        [
         "tattoos",
         "36-50"
        ],
        [
         "mens-fashion",
         "25-35"
        ],
        [
         "finance",
         "25-35"
        ],
        [
         "mens-fashion",
         "25-35"
        ],
        [
         "education",
         "25-35"
        ],
        [
         "mens-fashion",
         "18-24"
        ],
        [
         "christmas",
         "25-35"
        ],
        [
         "art",
         "18-24"
        ],
        [
         "home-decor",
         "36-50"
        ],
        [
         "christmas",
         "36-50"
        ],
        [
         "christmas",
         "36-50"
        ],
        [
         "mens-fashion",
         "18-24"
        ],
        [
         "travel",
         "18-24"
        ],
        [
         "diy-and-crafts",
         "36-50"
        ],
        [
         "mens-fashion",
         "18-24"
        ],
        [
         "quotes",
         "18-24"
        ],
        [
         "art",
         "18-24"
        ],
        [
         "tattoos",
         "18-24"
        ],
        [
         "event-planning",
         "25-35"
        ],
        [
         "tattoos",
         "50+"
        ],
        [
         "travel",
         "25-35"
        ],
        [
         "christmas",
         "36-50"
        ],
        [
         "event-planning",
         "36-50"
        ],
        [
         "art",
         "36-50"
        ],
        [
         "home-decor",
         "36-50"
        ],
        [
         "diy-and-crafts",
         "18-24"
        ],
        [
         "mens-fashion",
         "25-35"
        ],
        [
         "quotes",
         "18-24"
        ],
        [
         "beauty",
         "18-24"
        ],
        [
         "finance",
         "18-24"
        ],
        [
         "event-planning",
         "36-50"
        ],
        [
         "christmas",
         "18-24"
        ],
        [
         "art",
         "18-24"
        ],
        [
         "travel",
         "18-24"
        ],
        [
         "quotes",
         "18-24"
        ],
        [
         "home-decor",
         "25-35"
        ],
        [
         "beauty",
         "25-35"
        ],
        [
         "mens-fashion",
         "25-35"
        ],
        [
         "event-planning",
         "18-24"
        ],
        [
         "vehicles",
         "18-24"
        ],
        [
         "mens-fashion",
         "25-35"
        ],
        [
         "event-planning",
         "36-50"
        ],
        [
         "art",
         "18-24"
        ],
        [
         "home-decor",
         "18-24"
        ],
        [
         "quotes",
         "36-50"
        ],
        [
         "finance",
         "18-24"
        ],
        [
         "beauty",
         "25-35"
        ],
        [
         "diy-and-crafts",
         "18-24"
        ],
        [
         "quotes",
         "36-50"
        ],
        [
         "mens-fashion",
         "50+"
        ],
        [
         "christmas",
         "50+"
        ],
        [
         "quotes",
         "50+"
        ],
        [
         "art",
         "25-35"
        ],
        [
         "christmas",
         "36-50"
        ],
        [
         "christmas",
         "18-24"
        ],
        [
         "diy-and-crafts",
         "18-24"
        ],
        [
         "finance",
         "18-24"
        ],
        [
         "finance",
         "18-24"
        ],
        [
         "diy-and-crafts",
         "36-50"
        ],
        [
         "travel",
         "18-24"
        ],
        [
         "education",
         "25-35"
        ],
        [
         "travel",
         "25-35"
        ],
        [
         "christmas",
         "25-35"
        ],
        [
         "event-planning",
         "25-35"
        ],
        [
         "diy-and-crafts",
         "18-24"
        ],
        [
         "tattoos",
         "18-24"
        ],
        [
         "art",
         "25-35"
        ],
        [
         "finance",
         "25-35"
        ],
        [
         "diy-and-crafts",
         "18-24"
        ],
        [
         "christmas",
         "50+"
        ],
        [
         "art",
         "18-24"
        ],
        [
         "art",
         "25-35"
        ],
        [
         "education",
         "25-35"
        ],
        [
         "education",
         "25-35"
        ],
        [
         "education",
         "18-24"
        ],
        [
         "education",
         "18-24"
        ],
        [
         "education",
         "18-24"
        ],
        [
         "home-decor",
         "36-50"
        ],
        [
         "art",
         "50+"
        ],
        [
         "beauty",
         "25-35"
        ],
        [
         "tattoos",
         "18-24"
        ],
        [
         "quotes",
         "36-50"
        ],
        [
         "christmas",
         "18-24"
        ],
        [
         "education",
         "18-24"
        ],
        [
         "home-decor",
         "36-50"
        ],
        [
         "christmas",
         "25-35"
        ],
        [
         "education",
         "25-35"
        ],
        [
         "home-decor",
         "18-24"
        ],
        [
         "mens-fashion",
         "36-50"
        ],
        [
         "christmas",
         "25-35"
        ],
        [
         "home-decor",
         "50+"
        ],
        [
         "christmas",
         "25-35"
        ],
        [
         "christmas",
         "18-24"
        ],
        [
         "quotes",
         "18-24"
        ],
        [
         "christmas",
         "25-35"
        ],
        [
         "finance",
         "25-35"
        ],
        [
         "quotes",
         "25-35"
        ],
        [
         "diy-and-crafts",
         "36-50"
        ],
        [
         "art",
         "25-35"
        ],
        [
         "travel",
         "18-24"
        ],
        [
         "diy-and-crafts",
         "18-24"
        ],
        [
         "finance",
         "25-35"
        ],
        [
         "travel",
         "18-24"
        ],
        [
         "travel",
         "18-24"
        ],
        [
         "beauty",
         "18-24"
        ],
        [
         "education",
         "25-35"
        ],
        [
         "art",
         "18-24"
        ],
        [
         "travel",
         "25-35"
        ],
        [
         "quotes",
         "18-24"
        ],
        [
         "home-decor",
         "25-35"
        ],
        [
         "beauty",
         "18-24"
        ],
        [
         "tattoos",
         "25-35"
        ],
        [
         "christmas",
         "25-35"
        ],
        [
         "art",
         "18-24"
        ],
        [
         "art",
         "25-35"
        ],
        [
         "diy-and-crafts",
         "25-35"
        ],
        [
         "art",
         "18-24"
        ],
        [
         "beauty",
         "18-24"
        ],
        [
         "tattoos",
         "18-24"
        ],
        [
         "beauty",
         "18-24"
        ],
        [
         "quotes",
         "18-24"
        ],
        [
         "beauty",
         "18-24"
        ],
        [
         "mens-fashion",
         "18-24"
        ],
        [
         "vehicles",
         "25-35"
        ],
        [
         "vehicles",
         "36-50"
        ],
        [
         "education",
         "25-35"
        ],
        [
         "christmas",
         "36-50"
        ],
        [
         "diy-and-crafts",
         "36-50"
        ],
        [
         "art",
         "36-50"
        ],
        [
         "christmas",
         "18-24"
        ],
        [
         "education",
         "18-24"
        ],
        [
         "diy-and-crafts",
         "18-24"
        ],
        [
         "art",
         "18-24"
        ],
        [
         "christmas",
         "18-24"
        ],
        [
         "travel",
         "18-24"
        ],
        [
         "event-planning",
         "25-35"
        ],
        [
         "mens-fashion",
         "25-35"
        ],
        [
         "art",
         "18-24"
        ],
        [
         "mens-fashion",
         "36-50"
        ],
        [
         "vehicles",
         "50+"
        ],
        [
         "travel",
         "18-24"
        ],
        [
         "diy-and-crafts",
         "25-35"
        ],
        [
         "beauty",
         "36-50"
        ],
        [
         "art",
         "36-50"
        ],
        [
         "quotes",
         "50+"
        ],
        [
         "christmas",
         "25-35"
        ],
        [
         "beauty",
         "25-35"
        ],
        [
         "vehicles",
         "36-50"
        ],
        [
         "mens-fashion",
         "50+"
        ],
        [
         "mens-fashion",
         "25-35"
        ],
        [
         "vehicles",
         "18-24"
        ],
        [
         "finance",
         "50+"
        ],
        [
         "quotes",
         "25-35"
        ],
        [
         "finance",
         "36-50"
        ],
        [
         "tattoos",
         "36-50"
        ],
        [
         "tattoos",
         "18-24"
        ],
        [
         "finance",
         "36-50"
        ],
        [
         "home-decor",
         "50+"
        ],
        [
         "christmas",
         "25-35"
        ],
        [
         "travel",
         "18-24"
        ],
        [
         "quotes",
         "36-50"
        ],
        [
         "vehicles",
         "36-50"
        ],
        [
         "mens-fashion",
         "18-24"
        ],
        [
         "tattoos",
         "36-50"
        ],
        [
         "finance",
         "18-24"
        ],
        [
         "vehicles",
         "36-50"
        ],
        [
         "vehicles",
         "18-24"
        ],
        [
         "quotes",
         "18-24"
        ],
        [
         "home-decor",
         "25-35"
        ],
        [
         "travel",
         "25-35"
        ],
        [
         "education",
         "25-35"
        ],
        [
         "diy-and-crafts",
         "18-24"
        ],
        [
         "quotes",
         "18-24"
        ],
        [
         "finance",
         "50+"
        ],
        [
         "travel",
         "18-24"
        ],
        [
         "christmas",
         "25-35"
        ],
        [
         "education",
         "18-24"
        ],
        [
         "christmas",
         "18-24"
        ],
        [
         "finance",
         "25-35"
        ],
        [
         "finance",
         "25-35"
        ],
        [
         "quotes",
         "18-24"
        ],
        [
         "finance",
         "25-35"
        ],
        [
         "tattoos",
         "36-50"
        ],
        [
         "diy-and-crafts",
         "36-50"
        ],
        [
         "christmas",
         "18-24"
        ],
        [
         "event-planning",
         "18-24"
        ],
        [
         "vehicles",
         "18-24"
        ],
        [
         "finance",
         "18-24"
        ],
        [
         "diy-and-crafts",
         "18-24"
        ],
        [
         "vehicles",
         "36-50"
        ],
        [
         "education",
         "25-35"
        ],
        [
         "christmas",
         "25-35"
        ],
        [
         "art",
         "18-24"
        ],
        [
         "tattoos",
         "18-24"
        ],
        [
         "education",
         "36-50"
        ],
        [
         "finance",
         "36-50"
        ],
        [
         "finance",
         "25-35"
        ],
        [
         "christmas",
         "18-24"
        ],
        [
         "education",
         "18-24"
        ],
        [
         "mens-fashion",
         "18-24"
        ],
        [
         "finance",
         "18-24"
        ],
        [
         "event-planning",
         "25-35"
        ],
        [
         "art",
         "18-24"
        ],
        [
         "home-decor",
         "36-50"
        ],
        [
         "diy-and-crafts",
         "18-24"
        ],
        [
         "christmas",
         "18-24"
        ],
        [
         "art",
         "18-24"
        ],
        [
         "education",
         "18-24"
        ],
        [
         "diy-and-crafts",
         "36-50"
        ],
        [
         "vehicles",
         "25-35"
        ],
        [
         "christmas",
         "25-35"
        ],
        [
         "home-decor",
         "18-24"
        ],
        [
         "travel",
         "18-24"
        ],
        [
         "vehicles",
         "25-35"
        ],
        [
         "event-planning",
         "25-35"
        ],
        [
         "education",
         "25-35"
        ],
        [
         "home-decor",
         "25-35"
        ],
        [
         "vehicles",
         "18-24"
        ],
        [
         "christmas",
         "25-35"
        ],
        [
         "diy-and-crafts",
         "18-24"
        ],
        [
         "art",
         "18-24"
        ],
        [
         "finance",
         "36-50"
        ],
        [
         "travel",
         "25-35"
        ],
        [
         "education",
         "25-35"
        ],
        [
         "finance",
         "36-50"
        ],
        [
         "event-planning",
         "18-24"
        ],
        [
         "finance",
         "18-24"
        ],
        [
         "art",
         "18-24"
        ],
        [
         "tattoos",
         "36-50"
        ],
        [
         "finance",
         "18-24"
        ],
        [
         "travel",
         "36-50"
        ],
        [
         "travel",
         "36-50"
        ],
        [
         "vehicles",
         "18-24"
        ],
        [
         "tattoos",
         "25-35"
        ],
        [
         "event-planning",
         "25-35"
        ],
        [
         "travel",
         "25-35"
        ],
        [
         "art",
         "18-24"
        ],
        [
         "home-decor",
         "25-35"
        ],
        [
         "tattoos",
         "25-35"
        ],
        [
         "diy-and-crafts",
         "36-50"
        ],
        [
         "art",
         "18-24"
        ],
        [
         "art",
         "18-24"
        ],
        [
         "travel",
         "25-35"
        ],
        [
         "quotes",
         "18-24"
        ],
        [
         "diy-and-crafts",
         "50+"
        ],
        [
         "finance",
         "50+"
        ],
        [
         "beauty",
         "36-50"
        ],
        [
         "home-decor",
         "25-35"
        ],
        [
         "christmas",
         "36-50"
        ],
        [
         "education",
         "18-24"
        ],
        [
         "tattoos",
         "18-24"
        ],
        [
         "education",
         "36-50"
        ],
        [
         "education",
         "25-35"
        ],
        [
         "home-decor",
         "18-24"
        ],
        [
         "travel",
         "18-24"
        ],
        [
         "christmas",
         "18-24"
        ],
        [
         "diy-and-crafts",
         "18-24"
        ],
        [
         "finance",
         "18-24"
        ],
        [
         "mens-fashion",
         "36-50"
        ],
        [
         "vehicles",
         "25-35"
        ],
        [
         "vehicles",
         "36-50"
        ],
        [
         "vehicles",
         "25-35"
        ],
        [
         "mens-fashion",
         "25-35"
        ],
        [
         "vehicles",
         "50+"
        ],
        [
         "vehicles",
         "25-35"
        ],
        [
         "mens-fashion",
         "36-50"
        ],
        [
         "vehicles",
         "50+"
        ],
        [
         "beauty",
         "25-35"
        ],
        [
         "mens-fashion",
         "18-24"
        ],
        [
         "tattoos",
         "18-24"
        ],
        [
         "beauty",
         "50+"
        ],
        [
         "mens-fashion",
         "50+"
        ],
        [
         "mens-fashion",
         "25-35"
        ],
        [
         "art",
         "50+"
        ],
        [
         "mens-fashion",
         "36-50"
        ],
        [
         "beauty",
         "50+"
        ],
        [
         "vehicles",
         "18-24"
        ],
        [
         "art",
         "25-35"
        ],
        [
         "vehicles",
         "50+"
        ],
        [
         "quotes",
         "18-24"
        ],
        [
         "vehicles",
         "18-24"
        ],
        [
         "beauty",
         "50+"
        ],
        [
         "vehicles",
         "50+"
        ],
        [
         "art",
         "36-50"
        ],
        [
         "art",
         "36-50"
        ],
        [
         "beauty",
         "50+"
        ],
        [
         "quotes",
         "18-24"
        ],
        [
         "beauty",
         "36-50"
        ],
        [
         "tattoos",
         "50+"
        ],
        [
         "mens-fashion",
         "25-35"
        ],
        [
         "mens-fashion",
         "25-35"
        ],
        [
         "mens-fashion",
         "36-50"
        ],
        [
         "vehicles",
         "25-35"
        ],
        [
         "vehicles",
         "25-35"
        ],
        [
         "tattoos",
         "18-24"
        ],
        [
         "beauty",
         "25-35"
        ],
        [
         "mens-fashion",
         "18-24"
        ],
        [
         "art",
         "50+"
        ],
        [
         "travel",
         "25-35"
        ],
        [
         "quotes",
         "25-35"
        ],
        [
         "home-decor",
         "36-50"
        ],
        [
         "vehicles",
         "18-24"
        ],
        [
         "art",
         "50+"
        ],
        [
         "art",
         "25-35"
        ],
        [
         "tattoos",
         "18-24"
        ],
        [
         "travel",
         "25-35"
        ],
        [
         "beauty",
         "25-35"
        ],
        [
         "art",
         "18-24"
        ],
        [
         "finance",
         "18-24"
        ],
        [
         "quotes",
         "18-24"
        ],
        [
         "travel",
         "18-24"
        ],
        [
         "education",
         "25-35"
        ],
        [
         "christmas",
         "18-24"
        ],
        [
         "finance",
         "36-50"
        ],
        [
         "diy-and-crafts",
         "36-50"
        ],
        [
         "art",
         "36-50"
        ],
        [
         "mens-fashion",
         "36-50"
        ],
        [
         "mens-fashion",
         "18-24"
        ],
        [
         "finance",
         "36-50"
        ],
        [
         "travel",
         "25-35"
        ],
        [
         "mens-fashion",
         "25-35"
        ],
        [
         "tattoos",
         "36-50"
        ],
        [
         "finance",
         "50+"
        ],
        [
         "mens-fashion",
         "18-24"
        ],
        [
         "tattoos",
         "18-24"
        ],
        [
         "quotes",
         "36-50"
        ],
        [
         "beauty",
         "25-35"
        ],
        [
         "education",
         "18-24"
        ],
        [
         "finance",
         "25-35"
        ],
        [
         "tattoos",
         "18-24"
        ],
        [
         "diy-and-crafts",
         "18-24"
        ],
        [
         "art",
         "18-24"
        ],
        [
         "home-decor",
         "18-24"
        ],
        [
         "mens-fashion",
         "18-24"
        ],
        [
         "quotes",
         "18-24"
        ],
        [
         "home-decor",
         "25-35"
        ],
        [
         "education",
         "25-35"
        ],
        [
         "finance",
         "36-50"
        ],
        [
         "finance",
         "18-24"
        ],
        [
         "christmas",
         "18-24"
        ],
        [
         "art",
         "18-24"
        ],
        [
         "finance",
         "18-24"
        ],
        [
         "vehicles",
         "36-50"
        ],
        [
         "art",
         "18-24"
        ],
        [
         "education",
         "18-24"
        ],
        [
         "tattoos",
         "18-24"
        ],
        [
         "art",
         "50+"
        ],
        [
         "art",
         "18-24"
        ],
        [
         "home-decor",
         "36-50"
        ],
        [
         "art",
         "18-24"
        ],
        [
         "finance",
         "18-24"
        ],
        [
         "art",
         "36-50"
        ],
        [
         "christmas",
         "18-24"
        ],
        [
         "quotes",
         "36-50"
        ],
        [
         "diy-and-crafts",
         "50+"
        ],
        [
         "education",
         "36-50"
        ],
        [
         "education",
         "18-24"
        ],
        [
         "finance",
         "36-50"
        ],
        [
         "travel",
         "36-50"
        ],
        [
         "event-planning",
         "18-24"
        ],
        [
         "diy-and-crafts",
         "25-35"
        ],
        [
         "education",
         "25-35"
        ],
        [
         "tattoos",
         "25-35"
        ],
        [
         "beauty",
         "18-24"
        ],
        [
         "travel",
         "18-24"
        ],
        [
         "diy-and-crafts",
         "18-24"
        ],
        [
         "finance",
         "36-50"
        ],
        [
         "tattoos",
         "18-24"
        ],
        [
         "education",
         "18-24"
        ],
        [
         "finance",
         "18-24"
        ],
        [
         "mens-fashion",
         "50+"
        ],
        [
         "quotes",
         "25-35"
        ],
        [
         "vehicles",
         "18-24"
        ],
        [
         "quotes",
         "25-35"
        ],
        [
         "finance",
         "50+"
        ],
        [
         "tattoos",
         "18-24"
        ],
        [
         "travel",
         "18-24"
        ],
        [
         "finance",
         "18-24"
        ],
        [
         "vehicles",
         "25-35"
        ],
        [
         "quotes",
         "18-24"
        ],
        [
         "mens-fashion",
         "25-35"
        ],
        [
         "diy-and-crafts",
         "25-35"
        ],
        [
         "event-planning",
         "36-50"
        ],
        [
         "travel",
         "18-24"
        ],
        [
         "quotes",
         "36-50"
        ],
        [
         "diy-and-crafts",
         "25-35"
        ],
        [
         "art",
         "36-50"
        ],
        [
         "home-decor",
         "36-50"
        ],
        [
         "mens-fashion",
         "18-24"
        ],
        [
         "art",
         "18-24"
        ],
        [
         "finance",
         "36-50"
        ],
        [
         "vehicles",
         "36-50"
        ],
        [
         "event-planning",
         "18-24"
        ],
        [
         "finance",
         "18-24"
        ],
        [
         "travel",
         "18-24"
        ],
        [
         "diy-and-crafts",
         "18-24"
        ],
        [
         "quotes",
         "50+"
        ],
        [
         "christmas",
         "18-24"
        ],
        [
         "tattoos",
         "18-24"
        ],
        [
         "christmas",
         "50+"
        ],
        [
         "education",
         "25-35"
        ],
        [
         "travel",
         "18-24"
        ],
        [
         "diy-and-crafts",
         "36-50"
        ],
        [
         "mens-fashion",
         "18-24"
        ],
        [
         "home-decor",
         "18-24"
        ],
        [
         "diy-and-crafts",
         "18-24"
        ],
        [
         "mens-fashion",
         "25-35"
        ],
        [
         "home-decor",
         "18-24"
        ],
        [
         "tattoos",
         "18-24"
        ],
        [
         "event-planning",
         "25-35"
        ],
        [
         "finance",
         "36-50"
        ],
        [
         "quotes",
         "36-50"
        ],
        [
         "quotes",
         "18-24"
        ],
        [
         "quotes",
         "25-35"
        ],
        [
         "travel",
         "18-24"
        ],
        [
         "mens-fashion",
         "36-50"
        ],
        [
         "education",
         "18-24"
        ],
        [
         "art",
         "18-24"
        ],
        [
         "education",
         "18-24"
        ],
        [
         "art",
         "25-35"
        ],
        [
         "home-decor",
         "25-35"
        ],
        [
         "tattoos",
         "18-24"
        ],
        [
         "christmas",
         "25-35"
        ],
        [
         "quotes",
         "25-35"
        ],
        [
         "tattoos",
         "18-24"
        ],
        [
         "finance",
         "25-35"
        ],
        [
         "education",
         "36-50"
        ],
        [
         "event-planning",
         "18-24"
        ],
        [
         "art",
         "18-24"
        ],
        [
         "beauty",
         "25-35"
        ],
        [
         "mens-fashion",
         "25-35"
        ],
        [
         "beauty",
         "18-24"
        ],
        [
         "quotes",
         "18-24"
        ],
        [
         "travel",
         "25-35"
        ],
        [
         "diy-and-crafts",
         "36-50"
        ],
        [
         "vehicles",
         "50+"
        ],
        [
         "diy-and-crafts",
         "25-35"
        ],
        [
         "mens-fashion",
         "36-50"
        ],
        [
         "finance",
         "18-24"
        ],
        [
         "quotes",
         "50+"
        ],
        [
         "mens-fashion",
         "18-24"
        ],
        [
         "beauty",
         "50+"
        ],
        [
         "travel",
         "18-24"
        ],
        [
         "vehicles",
         "25-35"
        ],
        [
         "mens-fashion",
         "18-24"
        ],
        [
         "beauty",
         "25-35"
        ],
        [
         "event-planning",
         "36-50"
        ],
        [
         "finance",
         "25-35"
        ],
        [
         "art",
         "18-24"
        ],
        [
         "travel",
         "25-35"
        ],
        [
         "mens-fashion",
         "18-24"
        ],
        [
         "education",
         "18-24"
        ],
        [
         "event-planning",
         "18-24"
        ],
        [
         "christmas",
         "18-24"
        ],
        [
         "travel",
         "36-50"
        ],
        [
         "tattoos",
         "18-24"
        ],
        [
         "art",
         "36-50"
        ],
        [
         "tattoos",
         "18-24"
        ],
        [
         "beauty",
         "36-50"
        ],
        [
         "christmas",
         "25-35"
        ],
        [
         "art",
         "18-24"
        ],
        [
         "beauty",
         "36-50"
        ],
        [
         "quotes",
         "25-35"
        ],
        [
         "tattoos",
         "18-24"
        ],
        [
         "art",
         "18-24"
        ],
        [
         "christmas",
         "36-50"
        ],
        [
         "education",
         "18-24"
        ],
        [
         "art",
         "25-35"
        ],
        [
         "diy-and-crafts",
         "18-24"
        ],
        [
         "travel",
         "25-35"
        ],
        [
         "vehicles",
         "50+"
        ],
        [
         "tattoos",
         "18-24"
        ],
        [
         "christmas",
         "25-35"
        ],
        [
         "beauty",
         "36-50"
        ],
        [
         "vehicles",
         "50+"
        ],
        [
         "mens-fashion",
         "18-24"
        ],
        [
         "vehicles",
         "50+"
        ],
        [
         "mens-fashion",
         "25-35"
        ],
        [
         "vehicles",
         "36-50"
        ],
        [
         "beauty",
         "18-24"
        ],
        [
         "vehicles",
         "18-24"
        ],
        [
         "quotes",
         "25-35"
        ],
        [
         "travel",
         "18-24"
        ],
        [
         "vehicles",
         "25-35"
        ],
        [
         "beauty",
         "18-24"
        ],
        [
         "diy-and-crafts",
         "18-24"
        ],
        [
         "vehicles",
         "25-35"
        ],
        [
         "tattoos",
         "36-50"
        ],
        [
         "vehicles",
         "25-35"
        ],
        [
         "beauty",
         "36-50"
        ],
        [
         "beauty",
         "18-24"
        ],
        [
         "quotes",
         "25-35"
        ],
        [
         "vehicles",
         "18-24"
        ],
        [
         "vehicles",
         "25-35"
        ],
        [
         "diy-and-crafts",
         "18-24"
        ],
        [
         "tattoos",
         "18-24"
        ],
        [
         "art",
         "18-24"
        ],
        [
         "vehicles",
         "25-35"
        ],
        [
         "finance",
         "25-35"
        ],
        [
         "tattoos",
         "18-24"
        ],
        [
         "tattoos",
         "36-50"
        ],
        [
         "home-decor",
         "50+"
        ],
        [
         "education",
         "18-24"
        ],
        [
         "art",
         "18-24"
        ],
        [
         "finance",
         "25-35"
        ],
        [
         "event-planning",
         "25-35"
        ],
        [
         "tattoos",
         "18-24"
        ],
        [
         "christmas",
         "25-35"
        ],
        [
         "mens-fashion",
         "18-24"
        ],
        [
         "home-decor",
         "25-35"
        ],
        [
         "mens-fashion",
         "18-24"
        ],
        [
         "home-decor",
         "18-24"
        ],
        [
         "quotes",
         "18-24"
        ],
        [
         "home-decor",
         "25-35"
        ],
        [
         "tattoos",
         "18-24"
        ],
        [
         "travel",
         "36-50"
        ],
        [
         "travel",
         "36-50"
        ],
        [
         "beauty",
         "18-24"
        ],
        [
         "art",
         "18-24"
        ],
        [
         "education",
         "18-24"
        ],
        [
         "travel",
         "50+"
        ],
        [
         "event-planning",
         "18-24"
        ],
        [
         "beauty",
         "25-35"
        ],
        [
         "vehicles",
         "36-50"
        ],
        [
         "quotes",
         "36-50"
        ],
        [
         "beauty",
         "25-35"
        ],
        [
         "christmas",
         "25-35"
        ],
        [
         "finance",
         "25-35"
        ],
        [
         "travel",
         "36-50"
        ],
        [
         "travel",
         "18-24"
        ],
        [
         "diy-and-crafts",
         "18-24"
        ],
        [
         "beauty",
         "18-24"
        ],
        [
         "quotes",
         "18-24"
        ],
        [
         "quotes",
         "18-24"
        ],
        [
         "mens-fashion",
         "36-50"
        ],
        [
         "tattoos",
         "18-24"
        ],
        [
         "event-planning",
         "36-50"
        ],
        [
         "education",
         "18-24"
        ],
        [
         "vehicles",
         "36-50"
        ],
        [
         "christmas",
         "18-24"
        ],
        [
         "beauty",
         "18-24"
        ],
        [
         "tattoos",
         "18-24"
        ],
        [
         "vehicles",
         "50+"
        ],
        [
         "travel",
         "50+"
        ],
        [
         "art",
         "18-24"
        ],
        [
         "art",
         "36-50"
        ],
        [
         "finance",
         "18-24"
        ],
        [
         "tattoos",
         "18-24"
        ],
        [
         "beauty",
         "36-50"
        ],
        [
         "home-decor",
         "18-24"
        ],
        [
         "christmas",
         "25-35"
        ],
        [
         "education",
         "25-35"
        ],
        [
         "finance",
         "18-24"
        ],
        [
         "christmas",
         "50+"
        ],
        [
         "mens-fashion",
         "18-24"
        ],
        [
         "finance",
         "36-50"
        ],
        [
         "diy-and-crafts",
         "25-35"
        ],
        [
         "home-decor",
         "36-50"
        ],
        [
         "education",
         "18-24"
        ],
        [
         "education",
         "18-24"
        ],
        [
         "quotes",
         "18-24"
        ],
        [
         "diy-and-crafts",
         "25-35"
        ],
        [
         "travel",
         "25-35"
        ],
        [
         "christmas",
         "18-24"
        ],
        [
         "home-decor",
         "18-24"
        ],
        [
         "event-planning",
         "25-35"
        ],
        [
         "vehicles",
         "18-24"
        ],
        [
         "art",
         "36-50"
        ],
        [
         "education",
         "18-24"
        ],
        [
         "tattoos",
         "18-24"
        ],
        [
         "tattoos",
         "18-24"
        ],
        [
         "art",
         "18-24"
        ],
        [
         "art",
         "18-24"
        ],
        [
         "art",
         "18-24"
        ],
        [
         "education",
         "18-24"
        ],
        [
         "home-decor",
         "25-35"
        ],
        [
         "education",
         "18-24"
        ],
        [
         "home-decor",
         "50+"
        ],
        [
         "diy-and-crafts",
         "36-50"
        ],
        [
         "event-planning",
         "25-35"
        ],
        [
         "quotes",
         "18-24"
        ],
        [
         "event-planning",
         "25-35"
        ],
        [
         "education",
         "18-24"
        ],
        [
         "tattoos",
         "18-24"
        ],
        [
         "vehicles",
         "50+"
        ],
        [
         "travel",
         "50+"
        ],
        [
         "education",
         "18-24"
        ],
        [
         "christmas",
         "18-24"
        ],
        [
         "vehicles",
         "25-35"
        ],
        [
         "education",
         "18-24"
        ],
        [
         "vehicles",
         "25-35"
        ],
        [
         "finance",
         "36-50"
        ],
        [
         "finance",
         "36-50"
        ],
        [
         "home-decor",
         "25-35"
        ],
        [
         "vehicles",
         "18-24"
        ],
        [
         "mens-fashion",
         "25-35"
        ],
        [
         "home-decor",
         "25-35"
        ],
        [
         "event-planning",
         "50+"
        ],
        [
         "art",
         "25-35"
        ],
        [
         "tattoos",
         "18-24"
        ],
        [
         "travel",
         "25-35"
        ],
        [
         "tattoos",
         "18-24"
        ],
        [
         "quotes",
         "18-24"
        ],
        [
         "event-planning",
         "50+"
        ],
        [
         "quotes",
         "36-50"
        ],
        [
         "art",
         "18-24"
        ],
        [
         "finance",
         "25-35"
        ],
        [
         "travel",
         "18-24"
        ],
        [
         "finance",
         "25-35"
        ],
        [
         "mens-fashion",
         "50+"
        ],
        [
         "beauty",
         "36-50"
        ],
        [
         "home-decor",
         "18-24"
        ],
        [
         "vehicles",
         "36-50"
        ],
        [
         "art",
         "18-24"
        ],
        [
         "tattoos",
         "18-24"
        ],
        [
         "beauty",
         "25-35"
        ],
        [
         "education",
         "18-24"
        ],
        [
         "vehicles",
         "36-50"
        ],
        [
         "beauty",
         "36-50"
        ],
        [
         "beauty",
         "18-24"
        ],
        [
         "vehicles",
         "50+"
        ],
        [
         "christmas",
         "18-24"
        ],
        [
         "event-planning",
         "25-35"
        ],
        [
         "art",
         "25-35"
        ],
        [
         "tattoos",
         "18-24"
        ],
        [
         "finance",
         "36-50"
        ],
        [
         "quotes",
         "36-50"
        ],
        [
         "event-planning",
         "25-35"
        ],
        [
         "travel",
         "36-50"
        ],
        [
         "vehicles",
         "18-24"
        ],
        [
         "mens-fashion",
         "18-24"
        ],
        [
         "event-planning",
         "25-35"
        ],
        [
         "tattoos",
         "18-24"
        ],
        [
         "travel",
         "25-35"
        ],
        [
         "home-decor",
         "36-50"
        ],
        [
         "quotes",
         "36-50"
        ],
        [
         "art",
         "36-50"
        ],
        [
         "quotes",
         "36-50"
        ],
        [
         "home-decor",
         "25-35"
        ],
        [
         "quotes",
         "18-24"
        ],
        [
         "event-planning",
         "36-50"
        ],
        [
         "travel",
         "25-35"
        ],
        [
         "christmas",
         "18-24"
        ],
        [
         "travel",
         "18-24"
        ],
        [
         "quotes",
         "18-24"
        ],
        [
         "christmas",
         "36-50"
        ],
        [
         "art",
         "50+"
        ],
        [
         "travel",
         "25-35"
        ],
        [
         "mens-fashion",
         "18-24"
        ],
        [
         "event-planning",
         "50+"
        ],
        [
         "finance",
         "36-50"
        ],
        [
         "mens-fashion",
         "18-24"
        ],
        [
         "travel",
         "18-24"
        ],
        [
         "mens-fashion",
         "18-24"
        ],
        [
         "mens-fashion",
         "25-35"
        ],
        [
         "quotes",
         "36-50"
        ],
        [
         "education",
         "25-35"
        ],
        [
         "christmas",
         "18-24"
        ],
        [
         "diy-and-crafts",
         "25-35"
        ],
        [
         "finance",
         "18-24"
        ],
        [
         "tattoos",
         "18-24"
        ],
        [
         "mens-fashion",
         "25-35"
        ],
        [
         "mens-fashion",
         "50+"
        ],
        [
         "diy-and-crafts",
         "18-24"
        ],
        [
         "vehicles",
         "36-50"
        ],
        [
         "mens-fashion",
         "25-35"
        ],
        [
         "travel",
         "50+"
        ],
        [
         "vehicles",
         "18-24"
        ],
        [
         "art",
         "18-24"
        ],
        [
         "tattoos",
         "36-50"
        ],
        [
         "quotes",
         "18-24"
        ],
        [
         "tattoos",
         "25-35"
        ],
        [
         "home-decor",
         "25-35"
        ],
        [
         "quotes",
         "36-50"
        ],
        [
         "finance",
         "18-24"
        ],
        [
         "vehicles",
         "25-35"
        ],
        [
         "tattoos",
         "18-24"
        ],
        [
         "vehicles",
         "18-24"
        ],
        [
         "education",
         "18-24"
        ],
        [
         "travel",
         "36-50"
        ],
        [
         "travel",
         "18-24"
        ],
        [
         "christmas",
         "25-35"
        ],
        [
         "art",
         "36-50"
        ],
        [
         "quotes",
         "25-35"
        ],
        [
         "beauty",
         "18-24"
        ],
        [
         "home-decor",
         "50+"
        ],
        [
         "travel",
         "18-24"
        ],
        [
         "finance",
         "18-24"
        ],
        [
         "tattoos",
         "36-50"
        ],
        [
         "vehicles",
         "25-35"
        ],
        [
         "vehicles",
         "25-35"
        ],
        [
         "beauty",
         "18-24"
        ],
        [
         "vehicles",
         "50+"
        ],
        [
         "travel",
         "36-50"
        ],
        [
         "finance",
         "36-50"
        ],
        [
         "beauty",
         "50+"
        ],
        [
         "tattoos",
         "36-50"
        ],
        [
         "vehicles",
         "25-35"
        ],
        [
         "vehicles",
         "18-24"
        ],
        [
         "mens-fashion",
         "18-24"
        ],
        [
         "quotes",
         "18-24"
        ],
        [
         "art",
         "36-50"
        ],
        [
         "mens-fashion",
         "25-35"
        ],
        [
         "christmas",
         "36-50"
        ],
        [
         "quotes",
         "25-35"
        ],
        [
         "tattoos",
         "18-24"
        ],
        [
         "mens-fashion",
         "18-24"
        ],
        [
         "tattoos",
         "25-35"
        ],
        [
         "mens-fashion",
         "18-24"
        ],
        [
         "mens-fashion",
         "18-24"
        ],
        [
         "mens-fashion",
         "25-35"
        ],
        [
         "mens-fashion",
         "25-35"
        ],
        [
         "quotes",
         "36-50"
        ],
        [
         "mens-fashion",
         "36-50"
        ],
        [
         "mens-fashion",
         "36-50"
        ],
        [
         "vehicles",
         "18-24"
        ],
        [
         "home-decor",
         "36-50"
        ],
        [
         "mens-fashion",
         "25-35"
        ],
        [
         "tattoos",
         "50+"
        ],
        [
         "travel",
         "36-50"
        ],
        [
         "mens-fashion",
         "18-24"
        ],
        [
         "home-decor",
         "18-24"
        ],
        [
         "quotes",
         "25-35"
        ],
        [
         "quotes",
         "18-24"
        ],
        [
         "quotes",
         "18-24"
        ],
        [
         "vehicles",
         "18-24"
        ],
        [
         "art",
         "18-24"
        ],
        [
         "home-decor",
         "36-50"
        ],
        [
         "quotes",
         "18-24"
        ],
        [
         "education",
         "18-24"
        ],
        [
         "vehicles",
         "36-50"
        ],
        [
         "art",
         "18-24"
        ],
        [
         "event-planning",
         "25-35"
        ],
        [
         "vehicles",
         "18-24"
        ],
        [
         "education",
         "18-24"
        ],
        [
         "beauty",
         "25-35"
        ],
        [
         "art",
         "18-24"
        ],
        [
         "event-planning",
         "50+"
        ],
        [
         "home-decor",
         "36-50"
        ],
        [
         "christmas",
         "25-35"
        ],
        [
         "christmas",
         "25-35"
        ],
        [
         "mens-fashion",
         "50+"
        ],
        [
         "event-planning",
         "50+"
        ],
        [
         "quotes",
         "25-35"
        ],
        [
         "home-decor",
         "36-50"
        ],
        [
         "diy-and-crafts",
         "25-35"
        ],
        [
         "education",
         "18-24"
        ],
        [
         "quotes",
         "18-24"
        ],
        [
         "event-planning",
         "25-35"
        ],
        [
         "vehicles",
         "18-24"
        ],
        [
         "vehicles",
         "25-35"
        ],
        [
         "vehicles",
         "25-35"
        ],
        [
         "education",
         "36-50"
        ],
        [
         "beauty",
         "50+"
        ],
        [
         "diy-and-crafts",
         "18-24"
        ],
        [
         "quotes",
         "36-50"
        ],
        [
         "vehicles",
         "18-24"
        ],
        [
         "diy-and-crafts",
         "18-24"
        ],
        [
         "beauty",
         "36-50"
        ],
        [
         "finance",
         "18-24"
        ],
        [
         "mens-fashion",
         "25-35"
        ],
        [
         "travel",
         "18-24"
        ],
        [
         "diy-and-crafts",
         "18-24"
        ],
        [
         "finance",
         "25-35"
        ],
        [
         "event-planning",
         "18-24"
        ],
        [
         "tattoos",
         "25-35"
        ],
        [
         "finance",
         "18-24"
        ],
        [
         "art",
         "18-24"
        ],
        [
         "diy-and-crafts",
         "18-24"
        ],
        [
         "mens-fashion",
         "36-50"
        ],
        [
         "finance",
         "18-24"
        ],
        [
         "education",
         "18-24"
        ],
        [
         "education",
         "36-50"
        ],
        [
         "event-planning",
         "36-50"
        ],
        [
         "home-decor",
         "50+"
        ],
        [
         "christmas",
         "25-35"
        ],
        [
         "beauty",
         "25-35"
        ],
        [
         "beauty",
         "36-50"
        ],
        [
         "beauty",
         "18-24"
        ],
        [
         "mens-fashion",
         "18-24"
        ],
        [
         "travel",
         "36-50"
        ],
        [
         "quotes",
         "25-35"
        ],
        [
         "beauty",
         "36-50"
        ],
        [
         "tattoos",
         "18-24"
        ],
        [
         "quotes",
         "18-24"
        ],
        [
         "education",
         "18-24"
        ],
        [
         "art",
         "18-24"
        ],
        [
         "quotes",
         "18-24"
        ],
        [
         "home-decor",
         "36-50"
        ],
        [
         "education",
         "18-24"
        ],
        [
         "tattoos",
         "50+"
        ],
        [
         "travel",
         "36-50"
        ],
        [
         "finance",
         "25-35"
        ],
        [
         "beauty",
         "36-50"
        ],
        [
         "vehicles",
         "50+"
        ],
        [
         "mens-fashion",
         "50+"
        ],
        [
         "quotes",
         "18-24"
        ],
        [
         "art",
         "36-50"
        ],
        [
         "vehicles",
         "50+"
        ],
        [
         "quotes",
         "50+"
        ],
        [
         "vehicles",
         "36-50"
        ],
        [
         "mens-fashion",
         "18-24"
        ],
        [
         "finance",
         "50+"
        ],
        [
         "mens-fashion",
         "25-35"
        ],
        [
         "tattoos",
         "50+"
        ]
       ],
       "datasetInfos": [],
       "dbfsResultPath": null,
       "isJsonSchema": true,
       "metadata": {},
       "overflow": false,
       "plotOptions": {
        "customPlotOptions": {},
        "displayType": "table",
        "pivotAggregation": null,
        "pivotColumns": null,
        "xColumns": null,
        "yColumns": null
       },
       "removedWidgets": [],
       "schema": [
        {
         "metadata": "{}",
         "name": "category",
         "type": "\"string\""
        },
        {
         "metadata": "{}",
         "name": "age_group",
         "type": "\"string\""
        }
       ],
       "type": "table"
      }
     },
     "output_type": "display_data"
    }
   ],
   "source": [
    "age_group_query = spark.sql(\"\"\"\n",
    "SELECT category,\n",
    "    CASE\n",
    "        WHEN age BETWEEN 18 AND 24 THEN '18-24'\n",
    "        WHEN age BETWEEN 25 AND 35 THEN '25-35'\n",
    "        WHEN age BETWEEN 36 AND 50 THEN '36-50'\n",
    "        WHEN age > 50 THEN '50+'\n",
    "    END AS age_group\n",
    "FROM pin_user_table\"\"\")\n",
    "\n",
    "display(age_group_query)"
   ]
  },
  {
   "cell_type": "code",
   "execution_count": null,
   "metadata": {
    "application/vnd.databricks.v1+cell": {
     "cellMetadata": {
      "byteLimit": 2048000,
      "rowLimit": 10000
     },
     "inputWidgets": {},
     "nuid": "8b2fa248-873e-4e52-977d-ff8fd29c2c82",
     "showTitle": false,
     "title": ""
    }
   },
   "outputs": [
    {
     "data": {
      "text/html": [
       "<style scoped>\n",
       "  .ansiout {\n",
       "    display: block;\n",
       "    unicode-bidi: embed;\n",
       "    white-space: pre-wrap;\n",
       "    word-wrap: break-word;\n",
       "    word-break: break-all;\n",
       "    font-family: \"Menlo\", \"Monaco\", \"Consolas\", \"Ubuntu Mono\", \"Source Code Pro\", monospace;\n",
       "    font-size: 13px;\n",
       "    color: #555;\n",
       "    margin-left: 4px;\n",
       "    line-height: 19px;\n",
       "  }\n",
       "</style>\n",
       "<div class=\"ansiout\">+---------+---------+--------------+\n",
       "age_group| category|category_count|\n",
       "+---------+---------+--------------+\n",
       "    18-24|      art|            87|\n",
       "    25-35|christmas|            55|\n",
       "    36-50|  finance|            39|\n",
       "      50+| vehicles|            20|\n",
       "+---------+---------+--------------+\n",
       "\n",
       "</div>"
      ]
     },
     "metadata": {
      "application/vnd.databricks.v1+output": {
       "addedWidgets": {},
       "arguments": {},
       "data": "<div class=\"ansiout\">+---------+---------+--------------+\n|age_group| category|category_count|\n+---------+---------+--------------+\n|    18-24|      art|            87|\n|    25-35|christmas|            55|\n|    36-50|  finance|            39|\n|      50+| vehicles|            20|\n+---------+---------+--------------+\n\n</div>",
       "datasetInfos": [],
       "metadata": {},
       "removedWidgets": [],
       "type": "html"
      }
     },
     "output_type": "display_data"
    }
   ],
   "source": [
    "window_spec = Window.partitionBy(col(\"age_group\")).orderBy(desc(col(\"category_count\")))\n",
    "\n",
    "popular_cat_for_ages = age_group_query \\\n",
    "        .groupBy(\"age_group\", \"category\") \\\n",
    "        .agg(count(\"category\").alias(\"category_count\")) \\\n",
    "        .withColumn(\"row_number\", row_number().over(window_spec)) \\\n",
    "        .where(col(\"row_number\") == 1) \\\n",
    "        .select(\"age_group\", \"category\", \"category_count\")\n",
    "\n",
    "popular_cat_for_ages.show()"
   ]
  },
  {
   "cell_type": "markdown",
   "metadata": {
    "application/vnd.databricks.v1+cell": {
     "cellMetadata": {},
     "inputWidgets": {},
     "nuid": "15b0b141-7a65-472d-b5c3-abcea76ffccb",
     "showTitle": false,
     "title": ""
    }
   },
   "source": [
    "#### 5. Find the median follower count for different age groups"
   ]
  },
  {
   "cell_type": "code",
   "execution_count": null,
   "metadata": {
    "application/vnd.databricks.v1+cell": {
     "cellMetadata": {
      "byteLimit": 2048000,
      "implicitDf": true,
      "rowLimit": 10000
     },
     "inputWidgets": {},
     "nuid": "14c97c81-1594-43e5-a01d-5bfedecce2ca",
     "showTitle": false,
     "title": ""
    }
   },
   "outputs": [
    {
     "data": {
      "text/html": [
       "<style scoped>\n",
       "  .table-result-container {\n",
       "    max-height: 300px;\n",
       "    overflow: auto;\n",
       "  }\n",
       "  table, th, td {\n",
       "    border: 1px solid black;\n",
       "    border-collapse: collapse;\n",
       "  }\n",
       "  th, td {\n",
       "    padding: 5px;\n",
       "  }\n",
       "  th {\n",
       "    text-align: left;\n",
       "  }\n",
       "</style><div class='table-result-container'><table class='table-result'><thead style='background-color: white'><tr><th>age_group</th><th>median_follower_count</th></tr></thead><tbody><tr><td>50+</td><td>1000.0</td></tr><tr><td>36-50</td><td>7000.0</td></tr><tr><td>18-24</td><td>104000.0</td></tr><tr><td>25-35</td><td>23000.0</td></tr></tbody></table></div>"
      ]
     },
     "metadata": {
      "application/vnd.databricks.v1+output": {
       "addedWidgets": {},
       "aggData": [],
       "aggError": "",
       "aggOverflow": false,
       "aggSchema": [],
       "aggSeriesLimitReached": false,
       "aggType": "",
       "arguments": {},
       "columnCustomDisplayInfos": {},
       "data": [
        [
         "50+",
         1000
        ],
        [
         "36-50",
         7000
        ],
        [
         "18-24",
         104000
        ],
        [
         "25-35",
         23000
        ]
       ],
       "datasetInfos": [],
       "dbfsResultPath": null,
       "isJsonSchema": true,
       "metadata": {},
       "overflow": false,
       "plotOptions": {
        "customPlotOptions": {},
        "displayType": "table",
        "pivotAggregation": null,
        "pivotColumns": null,
        "xColumns": null,
        "yColumns": null
       },
       "removedWidgets": [],
       "schema": [
        {
         "metadata": "{}",
         "name": "age_group",
         "type": "\"string\""
        },
        {
         "metadata": "{}",
         "name": "median_follower_count",
         "type": "\"double\""
        }
       ],
       "type": "table"
      }
     },
     "output_type": "display_data"
    }
   ],
   "source": [
    "age_group_followers = spark.sql(\"\"\"\n",
    "SELECT\n",
    "    CASE\n",
    "        WHEN age BETWEEN 18 AND 24 THEN '18-24'\n",
    "        WHEN age BETWEEN 25 AND 35 THEN '25-35'\n",
    "        WHEN age BETWEEN 36 AND 50 THEN '36-50'\n",
    "        WHEN age > 50 THEN '50+'\n",
    "    END AS age_group,\n",
    "    percentile_cont(0.5) within GROUP(ORDER BY follower_count) AS median_follower_count\n",
    "FROM pin_user_table\n",
    "GROUP BY age_group\"\"\")\n",
    "\n",
    "display(age_group_followers)"
   ]
  },
  {
   "cell_type": "markdown",
   "metadata": {
    "application/vnd.databricks.v1+cell": {
     "cellMetadata": {},
     "inputWidgets": {},
     "nuid": "1e7f4887-c2ae-4fb2-a627-6120b437cfb6",
     "showTitle": false,
     "title": ""
    }
   },
   "source": [
    "#### 6. Find how many users have joined each year"
   ]
  },
  {
   "cell_type": "code",
   "execution_count": null,
   "metadata": {
    "application/vnd.databricks.v1+cell": {
     "cellMetadata": {
      "byteLimit": 2048000,
      "rowLimit": 10000
     },
     "inputWidgets": {},
     "nuid": "30352cf1-a71f-402c-9671-b985cae81ccc",
     "showTitle": false,
     "title": ""
    }
   },
   "outputs": [
    {
     "data": {
      "text/html": [
       "<style scoped>\n",
       "  .table-result-container {\n",
       "    max-height: 300px;\n",
       "    overflow: auto;\n",
       "  }\n",
       "  table, th, td {\n",
       "    border: 1px solid black;\n",
       "    border-collapse: collapse;\n",
       "  }\n",
       "  th, td {\n",
       "    padding: 5px;\n",
       "  }\n",
       "  th {\n",
       "    text-align: left;\n",
       "  }\n",
       "</style><div class='table-result-container'><table class='table-result'><thead style='background-color: white'><tr><th>post_year</th><th>number_users_joined</th></tr></thead><tbody><tr><td>2015</td><td>676</td></tr><tr><td>2016</td><td>758</td></tr><tr><td>2017</td><td>267</td></tr></tbody></table></div>"
      ]
     },
     "metadata": {
      "application/vnd.databricks.v1+output": {
       "addedWidgets": {},
       "aggData": [],
       "aggError": "",
       "aggOverflow": false,
       "aggSchema": [],
       "aggSeriesLimitReached": false,
       "aggType": "",
       "arguments": {},
       "columnCustomDisplayInfos": {},
       "data": [
        [
         2015,
         676
        ],
        [
         2016,
         758
        ],
        [
         2017,
         267
        ]
       ],
       "datasetInfos": [],
       "dbfsResultPath": null,
       "isJsonSchema": true,
       "metadata": {},
       "overflow": false,
       "plotOptions": {
        "customPlotOptions": {},
        "displayType": "table",
        "pivotAggregation": null,
        "pivotColumns": null,
        "xColumns": null,
        "yColumns": null
       },
       "removedWidgets": [],
       "schema": [
        {
         "metadata": "{}",
         "name": "post_year",
         "type": "\"integer\""
        },
        {
         "metadata": "{}",
         "name": "number_users_joined",
         "type": "\"long\""
        }
       ],
       "type": "table"
      }
     },
     "output_type": "display_data"
    }
   ],
   "source": [
    "users_per_year = df_user \\\n",
    "    .groupBy(year(\"date_joined\").alias(\"post_year\")) \\\n",
    "    .agg(count(\"username\").alias(\"number_users_joined\")) \\\n",
    "    .filter(col(\"post_year\").between(2015, 2020)) \\\n",
    "    .select(\"post_year\", \"number_users_joined\")\n",
    "\n",
    "display(users_per_year)"
   ]
  },
  {
   "cell_type": "markdown",
   "metadata": {
    "application/vnd.databricks.v1+cell": {
     "cellMetadata": {},
     "inputWidgets": {},
     "nuid": "63097ca2-a18a-40e1-80f3-527378d329d8",
     "showTitle": false,
     "title": ""
    }
   },
   "source": [
    "#### 7. Find the median follower count of users based on their joining year"
   ]
  },
  {
   "cell_type": "code",
   "execution_count": null,
   "metadata": {
    "application/vnd.databricks.v1+cell": {
     "cellMetadata": {
      "byteLimit": 2048000,
      "implicitDf": true,
      "rowLimit": 10000
     },
     "inputWidgets": {},
     "nuid": "b07bac04-bef8-4c88-bb88-4041a3377674",
     "showTitle": false,
     "title": ""
    }
   },
   "outputs": [
    {
     "data": {
      "text/html": [
       "<style scoped>\n",
       "  .table-result-container {\n",
       "    max-height: 300px;\n",
       "    overflow: auto;\n",
       "  }\n",
       "  table, th, td {\n",
       "    border: 1px solid black;\n",
       "    border-collapse: collapse;\n",
       "  }\n",
       "  th, td {\n",
       "    padding: 5px;\n",
       "  }\n",
       "  th {\n",
       "    text-align: left;\n",
       "  }\n",
       "</style><div class='table-result-container'><table class='table-result'><thead style='background-color: white'><tr><th>post_year</th><th>median_follower_count</th></tr></thead><tbody><tr><td>2015</td><td>128000.0</td></tr><tr><td>2016</td><td>19000.0</td></tr><tr><td>2017</td><td>3000.0</td></tr></tbody></table></div>"
      ]
     },
     "metadata": {
      "application/vnd.databricks.v1+output": {
       "addedWidgets": {},
       "aggData": [],
       "aggError": "",
       "aggOverflow": false,
       "aggSchema": [],
       "aggSeriesLimitReached": false,
       "aggType": "",
       "arguments": {},
       "columnCustomDisplayInfos": {},
       "data": [
        [
         2015,
         128000
        ],
        [
         2016,
         19000
        ],
        [
         2017,
         3000
        ]
       ],
       "datasetInfos": [],
       "dbfsResultPath": null,
       "isJsonSchema": true,
       "metadata": {},
       "overflow": false,
       "plotOptions": {
        "customPlotOptions": {},
        "displayType": "table",
        "pivotAggregation": null,
        "pivotColumns": null,
        "xColumns": null,
        "yColumns": null
       },
       "removedWidgets": [],
       "schema": [
        {
         "metadata": "{}",
         "name": "post_year",
         "type": "\"integer\""
        },
        {
         "metadata": "{}",
         "name": "median_follower_count",
         "type": "\"double\""
        }
       ],
       "type": "table"
      }
     },
     "output_type": "display_data"
    }
   ],
   "source": [
    "%sql -- Method 1\n",
    "SELECT EXTRACT(YEAR FROM date_joined) post_year,\n",
    "        percentile_cont(0.5) within GROUP (ORDER BY follower_count) AS median_follower_count\n",
    "FROM pin_user_table\n",
    "GROUP BY EXTRACT(YEAR FROM date_joined)\n",
    "HAVING EXTRACT(YEAR FROM date_joined) BETWEEN 2015 AND 2020"
   ]
  },
  {
   "cell_type": "code",
   "execution_count": null,
   "metadata": {
    "application/vnd.databricks.v1+cell": {
     "cellMetadata": {
      "byteLimit": 2048000,
      "rowLimit": 10000
     },
     "inputWidgets": {},
     "nuid": "439541d2-a8c5-406d-9944-5a9a6ab62d7a",
     "showTitle": false,
     "title": ""
    }
   },
   "outputs": [
    {
     "data": {
      "text/html": [
       "<style scoped>\n",
       "  .ansiout {\n",
       "    display: block;\n",
       "    unicode-bidi: embed;\n",
       "    white-space: pre-wrap;\n",
       "    word-wrap: break-word;\n",
       "    word-break: break-all;\n",
       "    font-family: \"Menlo\", \"Monaco\", \"Consolas\", \"Ubuntu Mono\", \"Source Code Pro\", monospace;\n",
       "    font-size: 13px;\n",
       "    color: #555;\n",
       "    margin-left: 4px;\n",
       "    line-height: 19px;\n",
       "  }\n",
       "</style>\n",
       "<div class=\"ansiout\">+---------+---------------------+\n",
       "post_year|median_follower_count|\n",
       "+---------+---------------------+\n",
       "     2015|               128000|\n",
       "     2016|                19000|\n",
       "     2017|                 3000|\n",
       "+---------+---------------------+\n",
       "\n",
       "</div>"
      ]
     },
     "metadata": {
      "application/vnd.databricks.v1+output": {
       "addedWidgets": {},
       "arguments": {},
       "data": "<div class=\"ansiout\">+---------+---------------------+\n|post_year|median_follower_count|\n+---------+---------------------+\n|     2015|               128000|\n|     2016|                19000|\n|     2017|                 3000|\n+---------+---------------------+\n\n</div>",
       "datasetInfos": [],
       "metadata": {},
       "removedWidgets": [],
       "type": "html"
      }
     },
     "output_type": "display_data"
    }
   ],
   "source": [
    "# Method 2\n",
    "df_user \\\n",
    "    .join(df_pin, df_user.ind == df_pin.ind) \\\n",
    "    .groupBy(year(\"date_joined\").alias(\"post_year\")) \\\n",
    "    .agg(percentile_approx(\"follower_count\", 0.5).alias(\"median_follower_count\")) \\\n",
    "    .filter(col(\"post_year\").between(2015, 2020)) \\\n",
    "    .show()"
   ]
  },
  {
   "cell_type": "markdown",
   "metadata": {
    "application/vnd.databricks.v1+cell": {
     "cellMetadata": {},
     "inputWidgets": {},
     "nuid": "9b684e34-f37a-42c9-83f2-ef0a531c9e8a",
     "showTitle": false,
     "title": ""
    }
   },
   "source": [
    "#### 8. Find the median follower count of users based on their joining year and age group"
   ]
  },
  {
   "cell_type": "code",
   "execution_count": null,
   "metadata": {
    "application/vnd.databricks.v1+cell": {
     "cellMetadata": {
      "byteLimit": 2048000,
      "rowLimit": 10000
     },
     "inputWidgets": {},
     "nuid": "67ef8fd9-e213-48a4-85e1-8f528fbc1839",
     "showTitle": false,
     "title": ""
    }
   },
   "outputs": [
    {
     "data": {
      "text/html": [
       "<style scoped>\n",
       "  .ansiout {\n",
       "    display: block;\n",
       "    unicode-bidi: embed;\n",
       "    white-space: pre-wrap;\n",
       "    word-wrap: break-word;\n",
       "    word-break: break-all;\n",
       "    font-family: \"Menlo\", \"Monaco\", \"Consolas\", \"Ubuntu Mono\", \"Source Code Pro\", monospace;\n",
       "    font-size: 13px;\n",
       "    color: #555;\n",
       "    margin-left: 4px;\n",
       "    line-height: 19px;\n",
       "  }\n",
       "</style>\n",
       "<div class=\"ansiout\"></div>"
      ]
     },
     "metadata": {
      "application/vnd.databricks.v1+output": {
       "addedWidgets": {},
       "arguments": {},
       "data": "<div class=\"ansiout\"></div>",
       "datasetInfos": [],
       "metadata": {},
       "removedWidgets": [],
       "type": "html"
      }
     },
     "output_type": "display_data"
    }
   ],
   "source": [
    "age_group_followers_joindate = spark.sql(\"\"\"\n",
    "SELECT \n",
    "CASE\n",
    "    WHEN age BETWEEN 18 AND 24 THEN '18-24'\n",
    "    WHEN age BETWEEN 25 AND 35 THEN '25-35'\n",
    "    WHEN age BETWEEN 36 AND 50 THEN '36-50'\n",
    "    WHEN age > 50 THEN '50+'\n",
    "END AS age_group,\n",
    "date_joined, follower_count\n",
    "FROM pin_user_table\"\"\")\n",
    "\n",
    "# display(age_group_followers_joindate)"
   ]
  },
  {
   "cell_type": "code",
   "execution_count": null,
   "metadata": {
    "application/vnd.databricks.v1+cell": {
     "cellMetadata": {
      "byteLimit": 2048000,
      "rowLimit": 10000
     },
     "inputWidgets": {},
     "nuid": "9d25fb41-40db-450a-976d-44bfd1d02633",
     "showTitle": false,
     "title": ""
    }
   },
   "outputs": [
    {
     "data": {
      "text/html": [
       "<style scoped>\n",
       "  .ansiout {\n",
       "    display: block;\n",
       "    unicode-bidi: embed;\n",
       "    white-space: pre-wrap;\n",
       "    word-wrap: break-word;\n",
       "    word-break: break-all;\n",
       "    font-family: \"Menlo\", \"Monaco\", \"Consolas\", \"Ubuntu Mono\", \"Source Code Pro\", monospace;\n",
       "    font-size: 13px;\n",
       "    color: #555;\n",
       "    margin-left: 4px;\n",
       "    line-height: 19px;\n",
       "  }\n",
       "</style>\n",
       "<div class=\"ansiout\">+---------+---------+---------------------+\n",
       "age_group|post_year|median_follower_count|\n",
       "+---------+---------+---------------------+\n",
       "    18-24|     2015|               229000|\n",
       "    18-24|     2016|                46000|\n",
       "    18-24|     2017|                11000|\n",
       "    25-35|     2015|                42000|\n",
       "    25-35|     2016|                22000|\n",
       "    25-35|     2017|                 2000|\n",
       "    36-50|     2015|                23000|\n",
       "    36-50|     2016|                 8000|\n",
       "    36-50|     2017|                 3000|\n",
       "      50+|     2015|                14000|\n",
       "      50+|     2016|                  908|\n",
       "      50+|     2017|                 1000|\n",
       "+---------+---------+---------------------+\n",
       "\n",
       "</div>"
      ]
     },
     "metadata": {
      "application/vnd.databricks.v1+output": {
       "addedWidgets": {},
       "arguments": {},
       "data": "<div class=\"ansiout\">+---------+---------+---------------------+\n|age_group|post_year|median_follower_count|\n+---------+---------+---------------------+\n|    18-24|     2015|               229000|\n|    18-24|     2016|                46000|\n|    18-24|     2017|                11000|\n|    25-35|     2015|                42000|\n|    25-35|     2016|                22000|\n|    25-35|     2017|                 2000|\n|    36-50|     2015|                23000|\n|    36-50|     2016|                 8000|\n|    36-50|     2017|                 3000|\n|      50+|     2015|                14000|\n|      50+|     2016|                  908|\n|      50+|     2017|                 1000|\n+---------+---------+---------------------+\n\n</div>",
       "datasetInfos": [],
       "metadata": {},
       "removedWidgets": [],
       "type": "html"
      }
     },
     "output_type": "display_data"
    }
   ],
   "source": [
    "age_group_followers_joindate \\\n",
    "    .groupBy(\"age_group\", year(\"date_joined\").alias(\"post_year\")) \\\n",
    "    .agg(percentile_approx(\"follower_count\", 0.5).alias(\"median_follower_count\")) \\\n",
    "    .orderBy(\"age_group\", \"post_year\") \\\n",
    "    .show()"
   ]
  }
 ],
 "metadata": {
  "application/vnd.databricks.v1+notebook": {
   "dashboards": [],
   "language": "python",
   "notebookMetadata": {
    "mostRecentlyExecutedCommandWithImplicitDF": {
     "commandId": 3560517883535607,
     "dataframes": [
      "_sqldf"
     ]
    },
    "pythonIndentUnit": 4
   },
   "notebookName": "batch_data_queries",
   "widgets": {}
  },
  "language_info": {
   "name": "python"
  }
 },
 "nbformat": 4,
 "nbformat_minor": 0
}
